{
 "cells": [
  {
   "cell_type": "markdown",
   "metadata": {},
   "source": [
    "# <center>Movie Success Predictor</center>"
   ]
  },
  {
   "cell_type": "markdown",
   "metadata": {},
   "source": [
    "<b>Team</b> : 30<br>\n",
    "<b>Team Members</b>:<br>\n",
    "Sai Santhosh Balusu(sbalusu)<br>\n",
    "Sameer Thummalapally(vthumma)<br>\n",
    "Sruthi Talluri(stallur2)<br>\n",
    "Sai Shruthi Kara(skara2)<br>"
   ]
  },
  {
   "cell_type": "code",
   "execution_count": 1,
   "metadata": {},
   "outputs": [],
   "source": [
    "from mpl_toolkits.mplot3d import Axes3D\n",
    "from sklearn.preprocessing import StandardScaler\n",
    "import matplotlib.pyplot as plt # plotting\n",
    "import numpy as np # linear algebra\n",
    "\n",
    "import os # accessing directory structure\n",
    "import pandas as pd # data processing, CSV file I/O (e.g. pd.read_csv)\n",
    "import seaborn as sns\n",
    "import random\n",
    "from imblearn.over_sampling import SMOTE\n",
    "import sklearn\n",
    "from sklearn.model_selection import train_test_split,cross_validate,KFold,StratifiedKFold\n",
    "from sklearn.model_selection import cross_val_score,cross_val_predict"
   ]
  },
  {
   "cell_type": "code",
   "execution_count": 2,
   "metadata": {},
   "outputs": [],
   "source": [
    "data = pd.read_csv('rotten_tomatoes_movies.csv')\n",
    "tag = pd.read_csv('tag.csv')"
   ]
  },
  {
   "cell_type": "code",
   "execution_count": 3,
   "metadata": {},
   "outputs": [
    {
     "data": {
      "text/plain": [
       "rotten_tomatoes_link                0\n",
       "movie_title                         0\n",
       "movie_info                         24\n",
       "critics_consensus                8329\n",
       "poster_image_url                    0\n",
       "rating                              0\n",
       "genre                              17\n",
       "directors                         114\n",
       "writers                          1349\n",
       "cast                              284\n",
       "in_theaters_date                  815\n",
       "on_streaming_date                   2\n",
       "runtime_in_minutes                155\n",
       "studio_name                       416\n",
       "tomatometer_status                  0\n",
       "tomatometer_rating                  0\n",
       "tomatometer_count                   0\n",
       "audience_status                   252\n",
       "audience_rating                   252\n",
       "audience_count                    252\n",
       "audience_top_critics_count          0\n",
       "audience_fresh_critics_count        0\n",
       "audience_rotten_critics_count       0\n",
       "dtype: int64"
      ]
     },
     "execution_count": 3,
     "metadata": {},
     "output_type": "execute_result"
    }
   ],
   "source": [
    "data.isnull().sum()"
   ]
  },
  {
   "cell_type": "code",
   "execution_count": 4,
   "metadata": {},
   "outputs": [
    {
     "data": {
      "text/plain": [
       "R         6136\n",
       "NR        4862\n",
       "PG-13     2885\n",
       "PG        2062\n",
       "G          652\n",
       "NC17        37\n",
       "PG-13)       3\n",
       "R)           1\n",
       "Name: rating, dtype: int64"
      ]
     },
     "execution_count": 4,
     "metadata": {},
     "output_type": "execute_result"
    }
   ],
   "source": [
    "data['rating'].value_counts()"
   ]
  },
  {
   "cell_type": "code",
   "execution_count": 5,
   "metadata": {},
   "outputs": [],
   "source": [
    "\n",
    "data=data.replace({'rating': {'PG-13)': 'PG-13', 'R)': 'R'}})\n"
   ]
  },
  {
   "cell_type": "code",
   "execution_count": 6,
   "metadata": {},
   "outputs": [
    {
     "data": {
      "text/plain": [
       "R        6137\n",
       "NR       4862\n",
       "PG-13    2888\n",
       "PG       2062\n",
       "G         652\n",
       "NC17       37\n",
       "Name: rating, dtype: int64"
      ]
     },
     "execution_count": 6,
     "metadata": {},
     "output_type": "execute_result"
    }
   ],
   "source": [
    "data['rating'].value_counts()"
   ]
  },
  {
   "cell_type": "code",
   "execution_count": 7,
   "metadata": {},
   "outputs": [],
   "source": [
    "from sklearn import preprocessing\n",
    "label_encoder = preprocessing.LabelEncoder()\n",
    "data['tomatometer_status'] = label_encoder.fit_transform(data['tomatometer_status'])"
   ]
  },
  {
   "cell_type": "code",
   "execution_count": 8,
   "metadata": {},
   "outputs": [
    {
     "data": {
      "text/html": [
       "<div>\n",
       "<style scoped>\n",
       "    .dataframe tbody tr th:only-of-type {\n",
       "        vertical-align: middle;\n",
       "    }\n",
       "\n",
       "    .dataframe tbody tr th {\n",
       "        vertical-align: top;\n",
       "    }\n",
       "\n",
       "    .dataframe thead th {\n",
       "        text-align: right;\n",
       "    }\n",
       "</style>\n",
       "<table border=\"1\" class=\"dataframe\">\n",
       "  <thead>\n",
       "    <tr style=\"text-align: right;\">\n",
       "      <th></th>\n",
       "      <th>rotten_tomatoes_link</th>\n",
       "      <th>movie_title</th>\n",
       "      <th>movie_info</th>\n",
       "      <th>critics_consensus</th>\n",
       "      <th>poster_image_url</th>\n",
       "      <th>rating</th>\n",
       "      <th>genre</th>\n",
       "      <th>directors</th>\n",
       "      <th>writers</th>\n",
       "      <th>cast</th>\n",
       "      <th>...</th>\n",
       "      <th>studio_name</th>\n",
       "      <th>tomatometer_status</th>\n",
       "      <th>tomatometer_rating</th>\n",
       "      <th>tomatometer_count</th>\n",
       "      <th>audience_status</th>\n",
       "      <th>audience_rating</th>\n",
       "      <th>audience_count</th>\n",
       "      <th>audience_top_critics_count</th>\n",
       "      <th>audience_fresh_critics_count</th>\n",
       "      <th>audience_rotten_critics_count</th>\n",
       "    </tr>\n",
       "  </thead>\n",
       "  <tbody>\n",
       "    <tr>\n",
       "      <th>0</th>\n",
       "      <td>/m/0814255</td>\n",
       "      <td>Percy Jackson &amp; the Olympians: The Lightning T...</td>\n",
       "      <td>A teenager discovers he's the descendant of a ...</td>\n",
       "      <td>Though it may seem like just another Harry Pot...</td>\n",
       "      <td>https://resizing.flixster.com/p1veUpQ4ktsSHtRu...</td>\n",
       "      <td>PG</td>\n",
       "      <td>Action &amp; Adventure, Comedy, Drama, Science Fic...</td>\n",
       "      <td>Chris Columbus</td>\n",
       "      <td>Craig Titley</td>\n",
       "      <td>Logan Lerman, Brandon T. Jackson, Alexandra Da...</td>\n",
       "      <td>...</td>\n",
       "      <td>20th Century Fox</td>\n",
       "      <td>2</td>\n",
       "      <td>49</td>\n",
       "      <td>144</td>\n",
       "      <td>Spilled</td>\n",
       "      <td>53.0</td>\n",
       "      <td>254287.0</td>\n",
       "      <td>38</td>\n",
       "      <td>71</td>\n",
       "      <td>73</td>\n",
       "    </tr>\n",
       "    <tr>\n",
       "      <th>1</th>\n",
       "      <td>/m/0878835</td>\n",
       "      <td>Please Give</td>\n",
       "      <td>Kate has a lot on her mind. There's the ethics...</td>\n",
       "      <td>Nicole Holofcener's newest might seem slight i...</td>\n",
       "      <td>https://resizing.flixster.com/0AbudQ4KsB4BeXSB...</td>\n",
       "      <td>R</td>\n",
       "      <td>Comedy</td>\n",
       "      <td>Nicole Holofcener</td>\n",
       "      <td>Nicole Holofcener</td>\n",
       "      <td>Catherine Keener, Amanda Peet, Oliver Platt, R...</td>\n",
       "      <td>...</td>\n",
       "      <td>Sony Pictures Classics</td>\n",
       "      <td>0</td>\n",
       "      <td>86</td>\n",
       "      <td>140</td>\n",
       "      <td>Upright</td>\n",
       "      <td>64.0</td>\n",
       "      <td>11567.0</td>\n",
       "      <td>43</td>\n",
       "      <td>121</td>\n",
       "      <td>19</td>\n",
       "    </tr>\n",
       "    <tr>\n",
       "      <th>2</th>\n",
       "      <td>/m/10</td>\n",
       "      <td>10</td>\n",
       "      <td>Blake Edwards' 10 stars Dudley Moore as George...</td>\n",
       "      <td>NaN</td>\n",
       "      <td>https://resizing.flixster.com/mF0dxH6UTa0FdkMs...</td>\n",
       "      <td>R</td>\n",
       "      <td>Comedy, Romance</td>\n",
       "      <td>Blake Edwards</td>\n",
       "      <td>Blake Edwards</td>\n",
       "      <td>Dudley Moore, Bo Derek, Julie Andrews, Robert ...</td>\n",
       "      <td>...</td>\n",
       "      <td>Waner Bros.</td>\n",
       "      <td>1</td>\n",
       "      <td>68</td>\n",
       "      <td>22</td>\n",
       "      <td>Spilled</td>\n",
       "      <td>53.0</td>\n",
       "      <td>14670.0</td>\n",
       "      <td>2</td>\n",
       "      <td>15</td>\n",
       "      <td>7</td>\n",
       "    </tr>\n",
       "    <tr>\n",
       "      <th>3</th>\n",
       "      <td>/m/1000013-12_angry_men</td>\n",
       "      <td>12 Angry Men (Twelve Angry Men)</td>\n",
       "      <td>A Puerto Rican youth is on trial for murder, a...</td>\n",
       "      <td>Sidney Lumet's feature debut is a superbly wri...</td>\n",
       "      <td>https://resizing.flixster.com/u-8xAyGaDVvROLiR...</td>\n",
       "      <td>NR</td>\n",
       "      <td>Classics, Drama</td>\n",
       "      <td>Sidney Lumet</td>\n",
       "      <td>Reginald Rose</td>\n",
       "      <td>Martin Balsam, John Fiedler, Lee J. Cobb, E.G....</td>\n",
       "      <td>...</td>\n",
       "      <td>Criterion Collection</td>\n",
       "      <td>0</td>\n",
       "      <td>100</td>\n",
       "      <td>51</td>\n",
       "      <td>Upright</td>\n",
       "      <td>97.0</td>\n",
       "      <td>105000.0</td>\n",
       "      <td>6</td>\n",
       "      <td>51</td>\n",
       "      <td>0</td>\n",
       "    </tr>\n",
       "    <tr>\n",
       "      <th>4</th>\n",
       "      <td>/m/1000079-20000_leagues_under_the_sea</td>\n",
       "      <td>20,000 Leagues Under The Sea</td>\n",
       "      <td>This 1954 Disney version of Jules Verne's 20,0...</td>\n",
       "      <td>One of Disney's finest live-action adventures,...</td>\n",
       "      <td>https://resizing.flixster.com/FKExgYBHu07XLoil...</td>\n",
       "      <td>G</td>\n",
       "      <td>Action &amp; Adventure, Drama, Kids &amp; Family</td>\n",
       "      <td>Richard Fleischer</td>\n",
       "      <td>Earl Felton</td>\n",
       "      <td>James Mason, Kirk Douglas, Paul Lukas, Peter L...</td>\n",
       "      <td>...</td>\n",
       "      <td>Disney</td>\n",
       "      <td>1</td>\n",
       "      <td>89</td>\n",
       "      <td>27</td>\n",
       "      <td>Upright</td>\n",
       "      <td>74.0</td>\n",
       "      <td>68860.0</td>\n",
       "      <td>5</td>\n",
       "      <td>24</td>\n",
       "      <td>3</td>\n",
       "    </tr>\n",
       "  </tbody>\n",
       "</table>\n",
       "<p>5 rows × 23 columns</p>\n",
       "</div>"
      ],
      "text/plain": [
       "                     rotten_tomatoes_link  \\\n",
       "0                              /m/0814255   \n",
       "1                              /m/0878835   \n",
       "2                                   /m/10   \n",
       "3                 /m/1000013-12_angry_men   \n",
       "4  /m/1000079-20000_leagues_under_the_sea   \n",
       "\n",
       "                                         movie_title  \\\n",
       "0  Percy Jackson & the Olympians: The Lightning T...   \n",
       "1                                        Please Give   \n",
       "2                                                 10   \n",
       "3                    12 Angry Men (Twelve Angry Men)   \n",
       "4                       20,000 Leagues Under The Sea   \n",
       "\n",
       "                                          movie_info  \\\n",
       "0  A teenager discovers he's the descendant of a ...   \n",
       "1  Kate has a lot on her mind. There's the ethics...   \n",
       "2  Blake Edwards' 10 stars Dudley Moore as George...   \n",
       "3  A Puerto Rican youth is on trial for murder, a...   \n",
       "4  This 1954 Disney version of Jules Verne's 20,0...   \n",
       "\n",
       "                                   critics_consensus  \\\n",
       "0  Though it may seem like just another Harry Pot...   \n",
       "1  Nicole Holofcener's newest might seem slight i...   \n",
       "2                                                NaN   \n",
       "3  Sidney Lumet's feature debut is a superbly wri...   \n",
       "4  One of Disney's finest live-action adventures,...   \n",
       "\n",
       "                                    poster_image_url rating  \\\n",
       "0  https://resizing.flixster.com/p1veUpQ4ktsSHtRu...     PG   \n",
       "1  https://resizing.flixster.com/0AbudQ4KsB4BeXSB...      R   \n",
       "2  https://resizing.flixster.com/mF0dxH6UTa0FdkMs...      R   \n",
       "3  https://resizing.flixster.com/u-8xAyGaDVvROLiR...     NR   \n",
       "4  https://resizing.flixster.com/FKExgYBHu07XLoil...      G   \n",
       "\n",
       "                                               genre          directors  \\\n",
       "0  Action & Adventure, Comedy, Drama, Science Fic...     Chris Columbus   \n",
       "1                                             Comedy  Nicole Holofcener   \n",
       "2                                    Comedy, Romance      Blake Edwards   \n",
       "3                                    Classics, Drama       Sidney Lumet   \n",
       "4           Action & Adventure, Drama, Kids & Family  Richard Fleischer   \n",
       "\n",
       "             writers                                               cast  ...  \\\n",
       "0       Craig Titley  Logan Lerman, Brandon T. Jackson, Alexandra Da...  ...   \n",
       "1  Nicole Holofcener  Catherine Keener, Amanda Peet, Oliver Platt, R...  ...   \n",
       "2      Blake Edwards  Dudley Moore, Bo Derek, Julie Andrews, Robert ...  ...   \n",
       "3      Reginald Rose  Martin Balsam, John Fiedler, Lee J. Cobb, E.G....  ...   \n",
       "4        Earl Felton  James Mason, Kirk Douglas, Paul Lukas, Peter L...  ...   \n",
       "\n",
       "              studio_name tomatometer_status  tomatometer_rating  \\\n",
       "0        20th Century Fox                  2                  49   \n",
       "1  Sony Pictures Classics                  0                  86   \n",
       "2             Waner Bros.                  1                  68   \n",
       "3    Criterion Collection                  0                 100   \n",
       "4                  Disney                  1                  89   \n",
       "\n",
       "  tomatometer_count  audience_status  audience_rating  audience_count  \\\n",
       "0               144          Spilled             53.0        254287.0   \n",
       "1               140          Upright             64.0         11567.0   \n",
       "2                22          Spilled             53.0         14670.0   \n",
       "3                51          Upright             97.0        105000.0   \n",
       "4                27          Upright             74.0         68860.0   \n",
       "\n",
       "  audience_top_critics_count  audience_fresh_critics_count  \\\n",
       "0                         38                            71   \n",
       "1                         43                           121   \n",
       "2                          2                            15   \n",
       "3                          6                            51   \n",
       "4                          5                            24   \n",
       "\n",
       "   audience_rotten_critics_count  \n",
       "0                             73  \n",
       "1                             19  \n",
       "2                              7  \n",
       "3                              0  \n",
       "4                              3  \n",
       "\n",
       "[5 rows x 23 columns]"
      ]
     },
     "execution_count": 8,
     "metadata": {},
     "output_type": "execute_result"
    }
   ],
   "source": [
    "data.head(5)"
   ]
  },
  {
   "cell_type": "code",
   "execution_count": 9,
   "metadata": {},
   "outputs": [
    {
     "data": {
      "text/html": [
       "<div>\n",
       "<style scoped>\n",
       "    .dataframe tbody tr th:only-of-type {\n",
       "        vertical-align: middle;\n",
       "    }\n",
       "\n",
       "    .dataframe tbody tr th {\n",
       "        vertical-align: top;\n",
       "    }\n",
       "\n",
       "    .dataframe thead th {\n",
       "        text-align: right;\n",
       "    }\n",
       "</style>\n",
       "<table border=\"1\" class=\"dataframe\">\n",
       "  <thead>\n",
       "    <tr style=\"text-align: right;\">\n",
       "      <th></th>\n",
       "      <th>runtime_in_minutes</th>\n",
       "      <th>tomatometer_status</th>\n",
       "      <th>tomatometer_rating</th>\n",
       "      <th>tomatometer_count</th>\n",
       "      <th>audience_rating</th>\n",
       "      <th>audience_count</th>\n",
       "      <th>audience_top_critics_count</th>\n",
       "      <th>audience_fresh_critics_count</th>\n",
       "      <th>audience_rotten_critics_count</th>\n",
       "    </tr>\n",
       "  </thead>\n",
       "  <tbody>\n",
       "    <tr>\n",
       "      <th>runtime_in_minutes</th>\n",
       "      <td>1.000000</td>\n",
       "      <td>-0.105393</td>\n",
       "      <td>0.071270</td>\n",
       "      <td>0.191975</td>\n",
       "      <td>0.168507</td>\n",
       "      <td>0.048799</td>\n",
       "      <td>0.164626</td>\n",
       "      <td>0.190409</td>\n",
       "      <td>0.101849</td>\n",
       "    </tr>\n",
       "    <tr>\n",
       "      <th>tomatometer_status</th>\n",
       "      <td>-0.105393</td>\n",
       "      <td>1.000000</td>\n",
       "      <td>-0.806840</td>\n",
       "      <td>-0.275054</td>\n",
       "      <td>-0.582228</td>\n",
       "      <td>-0.042049</td>\n",
       "      <td>-0.262116</td>\n",
       "      <td>-0.534741</td>\n",
       "      <td>0.296627</td>\n",
       "    </tr>\n",
       "    <tr>\n",
       "      <th>tomatometer_rating</th>\n",
       "      <td>0.071270</td>\n",
       "      <td>-0.806840</td>\n",
       "      <td>1.000000</td>\n",
       "      <td>0.079565</td>\n",
       "      <td>0.660111</td>\n",
       "      <td>0.014426</td>\n",
       "      <td>0.049651</td>\n",
       "      <td>0.344220</td>\n",
       "      <td>-0.406547</td>\n",
       "    </tr>\n",
       "    <tr>\n",
       "      <th>tomatometer_count</th>\n",
       "      <td>0.191975</td>\n",
       "      <td>-0.275054</td>\n",
       "      <td>0.079565</td>\n",
       "      <td>1.000000</td>\n",
       "      <td>0.141012</td>\n",
       "      <td>0.132686</td>\n",
       "      <td>0.928250</td>\n",
       "      <td>0.902671</td>\n",
       "      <td>0.684753</td>\n",
       "    </tr>\n",
       "    <tr>\n",
       "      <th>audience_rating</th>\n",
       "      <td>0.168507</td>\n",
       "      <td>-0.582228</td>\n",
       "      <td>0.660111</td>\n",
       "      <td>0.141012</td>\n",
       "      <td>1.000000</td>\n",
       "      <td>0.022812</td>\n",
       "      <td>0.127383</td>\n",
       "      <td>0.312270</td>\n",
       "      <td>-0.217062</td>\n",
       "    </tr>\n",
       "    <tr>\n",
       "      <th>audience_count</th>\n",
       "      <td>0.048799</td>\n",
       "      <td>-0.042049</td>\n",
       "      <td>0.014426</td>\n",
       "      <td>0.132686</td>\n",
       "      <td>0.022812</td>\n",
       "      <td>1.000000</td>\n",
       "      <td>0.129592</td>\n",
       "      <td>0.125137</td>\n",
       "      <td>0.081453</td>\n",
       "    </tr>\n",
       "    <tr>\n",
       "      <th>audience_top_critics_count</th>\n",
       "      <td>0.164626</td>\n",
       "      <td>-0.262116</td>\n",
       "      <td>0.049651</td>\n",
       "      <td>0.928250</td>\n",
       "      <td>0.127383</td>\n",
       "      <td>0.129592</td>\n",
       "      <td>1.000000</td>\n",
       "      <td>0.805213</td>\n",
       "      <td>0.691071</td>\n",
       "    </tr>\n",
       "    <tr>\n",
       "      <th>audience_fresh_critics_count</th>\n",
       "      <td>0.190409</td>\n",
       "      <td>-0.534741</td>\n",
       "      <td>0.344220</td>\n",
       "      <td>0.902671</td>\n",
       "      <td>0.312270</td>\n",
       "      <td>0.125137</td>\n",
       "      <td>0.805213</td>\n",
       "      <td>1.000000</td>\n",
       "      <td>0.304512</td>\n",
       "    </tr>\n",
       "    <tr>\n",
       "      <th>audience_rotten_critics_count</th>\n",
       "      <td>0.101849</td>\n",
       "      <td>0.296627</td>\n",
       "      <td>-0.406547</td>\n",
       "      <td>0.684753</td>\n",
       "      <td>-0.217062</td>\n",
       "      <td>0.081453</td>\n",
       "      <td>0.691071</td>\n",
       "      <td>0.304512</td>\n",
       "      <td>1.000000</td>\n",
       "    </tr>\n",
       "  </tbody>\n",
       "</table>\n",
       "</div>"
      ],
      "text/plain": [
       "                               runtime_in_minutes  tomatometer_status  \\\n",
       "runtime_in_minutes                       1.000000           -0.105393   \n",
       "tomatometer_status                      -0.105393            1.000000   \n",
       "tomatometer_rating                       0.071270           -0.806840   \n",
       "tomatometer_count                        0.191975           -0.275054   \n",
       "audience_rating                          0.168507           -0.582228   \n",
       "audience_count                           0.048799           -0.042049   \n",
       "audience_top_critics_count               0.164626           -0.262116   \n",
       "audience_fresh_critics_count             0.190409           -0.534741   \n",
       "audience_rotten_critics_count            0.101849            0.296627   \n",
       "\n",
       "                               tomatometer_rating  tomatometer_count  \\\n",
       "runtime_in_minutes                       0.071270           0.191975   \n",
       "tomatometer_status                      -0.806840          -0.275054   \n",
       "tomatometer_rating                       1.000000           0.079565   \n",
       "tomatometer_count                        0.079565           1.000000   \n",
       "audience_rating                          0.660111           0.141012   \n",
       "audience_count                           0.014426           0.132686   \n",
       "audience_top_critics_count               0.049651           0.928250   \n",
       "audience_fresh_critics_count             0.344220           0.902671   \n",
       "audience_rotten_critics_count           -0.406547           0.684753   \n",
       "\n",
       "                               audience_rating  audience_count  \\\n",
       "runtime_in_minutes                    0.168507        0.048799   \n",
       "tomatometer_status                   -0.582228       -0.042049   \n",
       "tomatometer_rating                    0.660111        0.014426   \n",
       "tomatometer_count                     0.141012        0.132686   \n",
       "audience_rating                       1.000000        0.022812   \n",
       "audience_count                        0.022812        1.000000   \n",
       "audience_top_critics_count            0.127383        0.129592   \n",
       "audience_fresh_critics_count          0.312270        0.125137   \n",
       "audience_rotten_critics_count        -0.217062        0.081453   \n",
       "\n",
       "                               audience_top_critics_count  \\\n",
       "runtime_in_minutes                               0.164626   \n",
       "tomatometer_status                              -0.262116   \n",
       "tomatometer_rating                               0.049651   \n",
       "tomatometer_count                                0.928250   \n",
       "audience_rating                                  0.127383   \n",
       "audience_count                                   0.129592   \n",
       "audience_top_critics_count                       1.000000   \n",
       "audience_fresh_critics_count                     0.805213   \n",
       "audience_rotten_critics_count                    0.691071   \n",
       "\n",
       "                               audience_fresh_critics_count  \\\n",
       "runtime_in_minutes                                 0.190409   \n",
       "tomatometer_status                                -0.534741   \n",
       "tomatometer_rating                                 0.344220   \n",
       "tomatometer_count                                  0.902671   \n",
       "audience_rating                                    0.312270   \n",
       "audience_count                                     0.125137   \n",
       "audience_top_critics_count                         0.805213   \n",
       "audience_fresh_critics_count                       1.000000   \n",
       "audience_rotten_critics_count                      0.304512   \n",
       "\n",
       "                               audience_rotten_critics_count  \n",
       "runtime_in_minutes                                  0.101849  \n",
       "tomatometer_status                                  0.296627  \n",
       "tomatometer_rating                                 -0.406547  \n",
       "tomatometer_count                                   0.684753  \n",
       "audience_rating                                    -0.217062  \n",
       "audience_count                                      0.081453  \n",
       "audience_top_critics_count                          0.691071  \n",
       "audience_fresh_critics_count                        0.304512  \n",
       "audience_rotten_critics_count                       1.000000  "
      ]
     },
     "execution_count": 9,
     "metadata": {},
     "output_type": "execute_result"
    }
   ],
   "source": [
    "data.corr()"
   ]
  },
  {
   "cell_type": "code",
   "execution_count": 10,
   "metadata": {},
   "outputs": [
    {
     "data": {
      "text/plain": [
       "Upright    8953\n",
       "Spilled    7433\n",
       "Name: audience_status, dtype: int64"
      ]
     },
     "execution_count": 10,
     "metadata": {},
     "output_type": "execute_result"
    }
   ],
   "source": [
    "data['audience_status'].value_counts()"
   ]
  },
  {
   "cell_type": "code",
   "execution_count": 11,
   "metadata": {},
   "outputs": [],
   "source": [
    "x={'Upright':1,'Spilled':2}\n",
    "data['audience_status']=data['audience_status'].str.strip().map(x)\n"
   ]
  },
  {
   "cell_type": "code",
   "execution_count": 12,
   "metadata": {},
   "outputs": [
    {
     "data": {
      "text/plain": [
       "2"
      ]
     },
     "execution_count": 12,
     "metadata": {},
     "output_type": "execute_result"
    }
   ],
   "source": [
    "data['audience_status'].nunique()"
   ]
  },
  {
   "cell_type": "code",
   "execution_count": 13,
   "metadata": {},
   "outputs": [
    {
     "data": {
      "image/png": "[encoded data removed]",
      "text/plain": [
       "<Figure size 2304x720 with 2 Axes>"
      ]
     },
     "metadata": {
      "needs_background": "light"
     },
     "output_type": "display_data"
    }
   ],
   "source": [
    "colormap = plt.cm.RdBu\n",
    "plt.figure(figsize=(32,10))\n",
    "plt.title('Pearson Correlation of Features', y=1.05, size=15)\n",
    "sns_plot=sns.heatmap(data.corr(),linewidths=0.1,vmax=1.0, \n",
    "            square=True, cmap=colormap, linecolor='white', annot=True)\n",
    "sns_plot.figure.savefig(\"output.png\")"
   ]
  },
  {
   "cell_type": "code",
   "execution_count": 14,
   "metadata": {},
   "outputs": [],
   "source": [
    "data= data.drop(['movie_info','critics_consensus','poster_image_url','writers','on_streaming_date','in_theaters_date','studio_name','tomatometer_status','audience_status','audience_top_critics_count','audience_fresh_critics_count','audience_rotten_critics_count'],axis=1)"
   ]
  },
  {
   "cell_type": "code",
   "execution_count": 15,
   "metadata": {},
   "outputs": [
    {
     "data": {
      "text/html": [
       "<div>\n",
       "<style scoped>\n",
       "    .dataframe tbody tr th:only-of-type {\n",
       "        vertical-align: middle;\n",
       "    }\n",
       "\n",
       "    .dataframe tbody tr th {\n",
       "        vertical-align: top;\n",
       "    }\n",
       "\n",
       "    .dataframe thead th {\n",
       "        text-align: right;\n",
       "    }\n",
       "</style>\n",
       "<table border=\"1\" class=\"dataframe\">\n",
       "  <thead>\n",
       "    <tr style=\"text-align: right;\">\n",
       "      <th></th>\n",
       "      <th>rotten_tomatoes_link</th>\n",
       "      <th>movie_title</th>\n",
       "      <th>rating</th>\n",
       "      <th>genre</th>\n",
       "      <th>directors</th>\n",
       "      <th>cast</th>\n",
       "      <th>runtime_in_minutes</th>\n",
       "      <th>tomatometer_rating</th>\n",
       "      <th>tomatometer_count</th>\n",
       "      <th>audience_rating</th>\n",
       "      <th>audience_count</th>\n",
       "    </tr>\n",
       "  </thead>\n",
       "  <tbody>\n",
       "    <tr>\n",
       "      <th>0</th>\n",
       "      <td>/m/0814255</td>\n",
       "      <td>Percy Jackson &amp; the Olympians: The Lightning T...</td>\n",
       "      <td>PG</td>\n",
       "      <td>Action &amp; Adventure, Comedy, Drama, Science Fic...</td>\n",
       "      <td>Chris Columbus</td>\n",
       "      <td>Logan Lerman, Brandon T. Jackson, Alexandra Da...</td>\n",
       "      <td>83.0</td>\n",
       "      <td>49</td>\n",
       "      <td>144</td>\n",
       "      <td>53.0</td>\n",
       "      <td>254287.0</td>\n",
       "    </tr>\n",
       "    <tr>\n",
       "      <th>1</th>\n",
       "      <td>/m/0878835</td>\n",
       "      <td>Please Give</td>\n",
       "      <td>R</td>\n",
       "      <td>Comedy</td>\n",
       "      <td>Nicole Holofcener</td>\n",
       "      <td>Catherine Keener, Amanda Peet, Oliver Platt, R...</td>\n",
       "      <td>90.0</td>\n",
       "      <td>86</td>\n",
       "      <td>140</td>\n",
       "      <td>64.0</td>\n",
       "      <td>11567.0</td>\n",
       "    </tr>\n",
       "    <tr>\n",
       "      <th>2</th>\n",
       "      <td>/m/10</td>\n",
       "      <td>10</td>\n",
       "      <td>R</td>\n",
       "      <td>Comedy, Romance</td>\n",
       "      <td>Blake Edwards</td>\n",
       "      <td>Dudley Moore, Bo Derek, Julie Andrews, Robert ...</td>\n",
       "      <td>118.0</td>\n",
       "      <td>68</td>\n",
       "      <td>22</td>\n",
       "      <td>53.0</td>\n",
       "      <td>14670.0</td>\n",
       "    </tr>\n",
       "    <tr>\n",
       "      <th>3</th>\n",
       "      <td>/m/1000013-12_angry_men</td>\n",
       "      <td>12 Angry Men (Twelve Angry Men)</td>\n",
       "      <td>NR</td>\n",
       "      <td>Classics, Drama</td>\n",
       "      <td>Sidney Lumet</td>\n",
       "      <td>Martin Balsam, John Fiedler, Lee J. Cobb, E.G....</td>\n",
       "      <td>95.0</td>\n",
       "      <td>100</td>\n",
       "      <td>51</td>\n",
       "      <td>97.0</td>\n",
       "      <td>105000.0</td>\n",
       "    </tr>\n",
       "    <tr>\n",
       "      <th>4</th>\n",
       "      <td>/m/1000079-20000_leagues_under_the_sea</td>\n",
       "      <td>20,000 Leagues Under The Sea</td>\n",
       "      <td>G</td>\n",
       "      <td>Action &amp; Adventure, Drama, Kids &amp; Family</td>\n",
       "      <td>Richard Fleischer</td>\n",
       "      <td>James Mason, Kirk Douglas, Paul Lukas, Peter L...</td>\n",
       "      <td>127.0</td>\n",
       "      <td>89</td>\n",
       "      <td>27</td>\n",
       "      <td>74.0</td>\n",
       "      <td>68860.0</td>\n",
       "    </tr>\n",
       "  </tbody>\n",
       "</table>\n",
       "</div>"
      ],
      "text/plain": [
       "                     rotten_tomatoes_link  \\\n",
       "0                              /m/0814255   \n",
       "1                              /m/0878835   \n",
       "2                                   /m/10   \n",
       "3                 /m/1000013-12_angry_men   \n",
       "4  /m/1000079-20000_leagues_under_the_sea   \n",
       "\n",
       "                                         movie_title rating  \\\n",
       "0  Percy Jackson & the Olympians: The Lightning T...     PG   \n",
       "1                                        Please Give      R   \n",
       "2                                                 10      R   \n",
       "3                    12 Angry Men (Twelve Angry Men)     NR   \n",
       "4                       20,000 Leagues Under The Sea      G   \n",
       "\n",
       "                                               genre          directors  \\\n",
       "0  Action & Adventure, Comedy, Drama, Science Fic...     Chris Columbus   \n",
       "1                                             Comedy  Nicole Holofcener   \n",
       "2                                    Comedy, Romance      Blake Edwards   \n",
       "3                                    Classics, Drama       Sidney Lumet   \n",
       "4           Action & Adventure, Drama, Kids & Family  Richard Fleischer   \n",
       "\n",
       "                                                cast  runtime_in_minutes  \\\n",
       "0  Logan Lerman, Brandon T. Jackson, Alexandra Da...                83.0   \n",
       "1  Catherine Keener, Amanda Peet, Oliver Platt, R...                90.0   \n",
       "2  Dudley Moore, Bo Derek, Julie Andrews, Robert ...               118.0   \n",
       "3  Martin Balsam, John Fiedler, Lee J. Cobb, E.G....                95.0   \n",
       "4  James Mason, Kirk Douglas, Paul Lukas, Peter L...               127.0   \n",
       "\n",
       "   tomatometer_rating  tomatometer_count  audience_rating  audience_count  \n",
       "0                  49                144             53.0        254287.0  \n",
       "1                  86                140             64.0         11567.0  \n",
       "2                  68                 22             53.0         14670.0  \n",
       "3                 100                 51             97.0        105000.0  \n",
       "4                  89                 27             74.0         68860.0  "
      ]
     },
     "execution_count": 15,
     "metadata": {},
     "output_type": "execute_result"
    }
   ],
   "source": [
    "data.head()"
   ]
  },
  {
   "cell_type": "code",
   "execution_count": 16,
   "metadata": {},
   "outputs": [
    {
     "data": {
      "text/plain": [
       "R        6137\n",
       "NR       4862\n",
       "PG-13    2888\n",
       "PG       2062\n",
       "G         652\n",
       "NC17       37\n",
       "Name: rating, dtype: int64"
      ]
     },
     "execution_count": 16,
     "metadata": {},
     "output_type": "execute_result"
    }
   ],
   "source": [
    "data['rating'].value_counts()"
   ]
  },
  {
   "cell_type": "code",
   "execution_count": 17,
   "metadata": {},
   "outputs": [],
   "source": [
    "data = pd.get_dummies(data, prefix_sep= \"__\", \n",
    "                         columns = ['rating'])"
   ]
  },
  {
   "cell_type": "code",
   "execution_count": 18,
   "metadata": {},
   "outputs": [
    {
     "data": {
      "text/html": [
       "<div>\n",
       "<style scoped>\n",
       "    .dataframe tbody tr th:only-of-type {\n",
       "        vertical-align: middle;\n",
       "    }\n",
       "\n",
       "    .dataframe tbody tr th {\n",
       "        vertical-align: top;\n",
       "    }\n",
       "\n",
       "    .dataframe thead th {\n",
       "        text-align: right;\n",
       "    }\n",
       "</style>\n",
       "<table border=\"1\" class=\"dataframe\">\n",
       "  <thead>\n",
       "    <tr style=\"text-align: right;\">\n",
       "      <th></th>\n",
       "      <th>rotten_tomatoes_link</th>\n",
       "      <th>movie_title</th>\n",
       "      <th>genre</th>\n",
       "      <th>directors</th>\n",
       "      <th>cast</th>\n",
       "      <th>runtime_in_minutes</th>\n",
       "      <th>tomatometer_rating</th>\n",
       "      <th>tomatometer_count</th>\n",
       "      <th>audience_rating</th>\n",
       "      <th>audience_count</th>\n",
       "      <th>rating__G</th>\n",
       "      <th>rating__NC17</th>\n",
       "      <th>rating__NR</th>\n",
       "      <th>rating__PG</th>\n",
       "      <th>rating__PG-13</th>\n",
       "      <th>rating__R</th>\n",
       "    </tr>\n",
       "  </thead>\n",
       "  <tbody>\n",
       "    <tr>\n",
       "      <th>0</th>\n",
       "      <td>/m/0814255</td>\n",
       "      <td>Percy Jackson &amp; the Olympians: The Lightning T...</td>\n",
       "      <td>Action &amp; Adventure, Comedy, Drama, Science Fic...</td>\n",
       "      <td>Chris Columbus</td>\n",
       "      <td>Logan Lerman, Brandon T. Jackson, Alexandra Da...</td>\n",
       "      <td>83.0</td>\n",
       "      <td>49</td>\n",
       "      <td>144</td>\n",
       "      <td>53.0</td>\n",
       "      <td>254287.0</td>\n",
       "      <td>0</td>\n",
       "      <td>0</td>\n",
       "      <td>0</td>\n",
       "      <td>1</td>\n",
       "      <td>0</td>\n",
       "      <td>0</td>\n",
       "    </tr>\n",
       "    <tr>\n",
       "      <th>1</th>\n",
       "      <td>/m/0878835</td>\n",
       "      <td>Please Give</td>\n",
       "      <td>Comedy</td>\n",
       "      <td>Nicole Holofcener</td>\n",
       "      <td>Catherine Keener, Amanda Peet, Oliver Platt, R...</td>\n",
       "      <td>90.0</td>\n",
       "      <td>86</td>\n",
       "      <td>140</td>\n",
       "      <td>64.0</td>\n",
       "      <td>11567.0</td>\n",
       "      <td>0</td>\n",
       "      <td>0</td>\n",
       "      <td>0</td>\n",
       "      <td>0</td>\n",
       "      <td>0</td>\n",
       "      <td>1</td>\n",
       "    </tr>\n",
       "    <tr>\n",
       "      <th>2</th>\n",
       "      <td>/m/10</td>\n",
       "      <td>10</td>\n",
       "      <td>Comedy, Romance</td>\n",
       "      <td>Blake Edwards</td>\n",
       "      <td>Dudley Moore, Bo Derek, Julie Andrews, Robert ...</td>\n",
       "      <td>118.0</td>\n",
       "      <td>68</td>\n",
       "      <td>22</td>\n",
       "      <td>53.0</td>\n",
       "      <td>14670.0</td>\n",
       "      <td>0</td>\n",
       "      <td>0</td>\n",
       "      <td>0</td>\n",
       "      <td>0</td>\n",
       "      <td>0</td>\n",
       "      <td>1</td>\n",
       "    </tr>\n",
       "    <tr>\n",
       "      <th>3</th>\n",
       "      <td>/m/1000013-12_angry_men</td>\n",
       "      <td>12 Angry Men (Twelve Angry Men)</td>\n",
       "      <td>Classics, Drama</td>\n",
       "      <td>Sidney Lumet</td>\n",
       "      <td>Martin Balsam, John Fiedler, Lee J. Cobb, E.G....</td>\n",
       "      <td>95.0</td>\n",
       "      <td>100</td>\n",
       "      <td>51</td>\n",
       "      <td>97.0</td>\n",
       "      <td>105000.0</td>\n",
       "      <td>0</td>\n",
       "      <td>0</td>\n",
       "      <td>1</td>\n",
       "      <td>0</td>\n",
       "      <td>0</td>\n",
       "      <td>0</td>\n",
       "    </tr>\n",
       "    <tr>\n",
       "      <th>4</th>\n",
       "      <td>/m/1000079-20000_leagues_under_the_sea</td>\n",
       "      <td>20,000 Leagues Under The Sea</td>\n",
       "      <td>Action &amp; Adventure, Drama, Kids &amp; Family</td>\n",
       "      <td>Richard Fleischer</td>\n",
       "      <td>James Mason, Kirk Douglas, Paul Lukas, Peter L...</td>\n",
       "      <td>127.0</td>\n",
       "      <td>89</td>\n",
       "      <td>27</td>\n",
       "      <td>74.0</td>\n",
       "      <td>68860.0</td>\n",
       "      <td>1</td>\n",
       "      <td>0</td>\n",
       "      <td>0</td>\n",
       "      <td>0</td>\n",
       "      <td>0</td>\n",
       "      <td>0</td>\n",
       "    </tr>\n",
       "  </tbody>\n",
       "</table>\n",
       "</div>"
      ],
      "text/plain": [
       "                     rotten_tomatoes_link  \\\n",
       "0                              /m/0814255   \n",
       "1                              /m/0878835   \n",
       "2                                   /m/10   \n",
       "3                 /m/1000013-12_angry_men   \n",
       "4  /m/1000079-20000_leagues_under_the_sea   \n",
       "\n",
       "                                         movie_title  \\\n",
       "0  Percy Jackson & the Olympians: The Lightning T...   \n",
       "1                                        Please Give   \n",
       "2                                                 10   \n",
       "3                    12 Angry Men (Twelve Angry Men)   \n",
       "4                       20,000 Leagues Under The Sea   \n",
       "\n",
       "                                               genre          directors  \\\n",
       "0  Action & Adventure, Comedy, Drama, Science Fic...     Chris Columbus   \n",
       "1                                             Comedy  Nicole Holofcener   \n",
       "2                                    Comedy, Romance      Blake Edwards   \n",
       "3                                    Classics, Drama       Sidney Lumet   \n",
       "4           Action & Adventure, Drama, Kids & Family  Richard Fleischer   \n",
       "\n",
       "                                                cast  runtime_in_minutes  \\\n",
       "0  Logan Lerman, Brandon T. Jackson, Alexandra Da...                83.0   \n",
       "1  Catherine Keener, Amanda Peet, Oliver Platt, R...                90.0   \n",
       "2  Dudley Moore, Bo Derek, Julie Andrews, Robert ...               118.0   \n",
       "3  Martin Balsam, John Fiedler, Lee J. Cobb, E.G....                95.0   \n",
       "4  James Mason, Kirk Douglas, Paul Lukas, Peter L...               127.0   \n",
       "\n",
       "   tomatometer_rating  tomatometer_count  audience_rating  audience_count  \\\n",
       "0                  49                144             53.0        254287.0   \n",
       "1                  86                140             64.0         11567.0   \n",
       "2                  68                 22             53.0         14670.0   \n",
       "3                 100                 51             97.0        105000.0   \n",
       "4                  89                 27             74.0         68860.0   \n",
       "\n",
       "   rating__G  rating__NC17  rating__NR  rating__PG  rating__PG-13  rating__R  \n",
       "0          0             0           0           1              0          0  \n",
       "1          0             0           0           0              0          1  \n",
       "2          0             0           0           0              0          1  \n",
       "3          0             0           1           0              0          0  \n",
       "4          1             0           0           0              0          0  "
      ]
     },
     "execution_count": 18,
     "metadata": {},
     "output_type": "execute_result"
    }
   ],
   "source": [
    "data.head(5)"
   ]
  },
  {
   "cell_type": "code",
   "execution_count": 19,
   "metadata": {},
   "outputs": [
    {
     "data": {
      "text/html": [
       "<div>\n",
       "<style scoped>\n",
       "    .dataframe tbody tr th:only-of-type {\n",
       "        vertical-align: middle;\n",
       "    }\n",
       "\n",
       "    .dataframe tbody tr th {\n",
       "        vertical-align: top;\n",
       "    }\n",
       "\n",
       "    .dataframe thead th {\n",
       "        text-align: right;\n",
       "    }\n",
       "</style>\n",
       "<table border=\"1\" class=\"dataframe\">\n",
       "  <thead>\n",
       "    <tr style=\"text-align: right;\">\n",
       "      <th></th>\n",
       "      <th>Unnamed: 0</th>\n",
       "      <th>0</th>\n",
       "    </tr>\n",
       "  </thead>\n",
       "  <tbody>\n",
       "    <tr>\n",
       "      <th>0</th>\n",
       "      <td>/m/0814255</td>\n",
       "      <td>20</td>\n",
       "    </tr>\n",
       "    <tr>\n",
       "      <th>1</th>\n",
       "      <td>/m/0878835</td>\n",
       "      <td>122</td>\n",
       "    </tr>\n",
       "    <tr>\n",
       "      <th>2</th>\n",
       "      <td>/m/10</td>\n",
       "      <td>18</td>\n",
       "    </tr>\n",
       "    <tr>\n",
       "      <th>3</th>\n",
       "      <td>/m/1000013-12_angry_men</td>\n",
       "      <td>47</td>\n",
       "    </tr>\n",
       "    <tr>\n",
       "      <th>4</th>\n",
       "      <td>/m/1000079-20000_leagues_under_the_sea</td>\n",
       "      <td>20</td>\n",
       "    </tr>\n",
       "  </tbody>\n",
       "</table>\n",
       "</div>"
      ],
      "text/plain": [
       "                               Unnamed: 0    0\n",
       "0                              /m/0814255   20\n",
       "1                              /m/0878835  122\n",
       "2                                   /m/10   18\n",
       "3                 /m/1000013-12_angry_men   47\n",
       "4  /m/1000079-20000_leagues_under_the_sea   20"
      ]
     },
     "execution_count": 19,
     "metadata": {},
     "output_type": "execute_result"
    }
   ],
   "source": [
    "tag.head()"
   ]
  },
  {
   "cell_type": "code",
   "execution_count": 20,
   "metadata": {},
   "outputs": [
    {
     "data": {
      "text/plain": [
       "rotten_tomatoes_link      0\n",
       "movie_title               0\n",
       "genre                    17\n",
       "directors               114\n",
       "cast                    284\n",
       "runtime_in_minutes      155\n",
       "tomatometer_rating        0\n",
       "tomatometer_count         0\n",
       "audience_rating         252\n",
       "audience_count          252\n",
       "rating__G                 0\n",
       "rating__NC17              0\n",
       "rating__NR                0\n",
       "rating__PG                0\n",
       "rating__PG-13             0\n",
       "rating__R                 0\n",
       "dtype: int64"
      ]
     },
     "execution_count": 20,
     "metadata": {},
     "output_type": "execute_result"
    }
   ],
   "source": [
    "data.isnull().sum()"
   ]
  },
  {
   "cell_type": "code",
   "execution_count": 21,
   "metadata": {},
   "outputs": [],
   "source": [
    "data = data.dropna(axis=0, subset=['genre'])"
   ]
  },
  {
   "cell_type": "markdown",
   "metadata": {},
   "source": [
    "# Multi-Label Binarization"
   ]
  },
  {
   "cell_type": "code",
   "execution_count": 22,
   "metadata": {},
   "outputs": [
    {
     "data": {
      "text/html": [
       "<div>\n",
       "<style scoped>\n",
       "    .dataframe tbody tr th:only-of-type {\n",
       "        vertical-align: middle;\n",
       "    }\n",
       "\n",
       "    .dataframe tbody tr th {\n",
       "        vertical-align: top;\n",
       "    }\n",
       "\n",
       "    .dataframe thead th {\n",
       "        text-align: right;\n",
       "    }\n",
       "</style>\n",
       "<table border=\"1\" class=\"dataframe\">\n",
       "  <thead>\n",
       "    <tr style=\"text-align: right;\">\n",
       "      <th></th>\n",
       "      <th>Action&amp; Adventure</th>\n",
       "      <th>Animation</th>\n",
       "      <th>Anime&amp; Manga</th>\n",
       "      <th>ArtHouse&amp; International</th>\n",
       "      <th>Classics</th>\n",
       "      <th>Comedy</th>\n",
       "      <th>CultMovies</th>\n",
       "      <th>Documentary</th>\n",
       "      <th>Drama</th>\n",
       "      <th>Faith&amp; Spirituality</th>\n",
       "      <th>...</th>\n",
       "      <th>Horror</th>\n",
       "      <th>Kids&amp; Family</th>\n",
       "      <th>Musical&amp; PerformingArts</th>\n",
       "      <th>Mystery&amp; Suspense</th>\n",
       "      <th>Romance</th>\n",
       "      <th>ScienceFiction&amp; Fantasy</th>\n",
       "      <th>SpecialInterest</th>\n",
       "      <th>Sports&amp; Fitness</th>\n",
       "      <th>Television</th>\n",
       "      <th>Western</th>\n",
       "    </tr>\n",
       "  </thead>\n",
       "  <tbody>\n",
       "    <tr>\n",
       "      <th>0</th>\n",
       "      <td>1</td>\n",
       "      <td>0</td>\n",
       "      <td>0</td>\n",
       "      <td>0</td>\n",
       "      <td>0</td>\n",
       "      <td>1</td>\n",
       "      <td>0</td>\n",
       "      <td>0</td>\n",
       "      <td>1</td>\n",
       "      <td>0</td>\n",
       "      <td>...</td>\n",
       "      <td>0</td>\n",
       "      <td>0</td>\n",
       "      <td>0</td>\n",
       "      <td>0</td>\n",
       "      <td>0</td>\n",
       "      <td>1</td>\n",
       "      <td>0</td>\n",
       "      <td>0</td>\n",
       "      <td>0</td>\n",
       "      <td>0</td>\n",
       "    </tr>\n",
       "    <tr>\n",
       "      <th>1</th>\n",
       "      <td>0</td>\n",
       "      <td>0</td>\n",
       "      <td>0</td>\n",
       "      <td>0</td>\n",
       "      <td>0</td>\n",
       "      <td>1</td>\n",
       "      <td>0</td>\n",
       "      <td>0</td>\n",
       "      <td>0</td>\n",
       "      <td>0</td>\n",
       "      <td>...</td>\n",
       "      <td>0</td>\n",
       "      <td>0</td>\n",
       "      <td>0</td>\n",
       "      <td>0</td>\n",
       "      <td>0</td>\n",
       "      <td>0</td>\n",
       "      <td>0</td>\n",
       "      <td>0</td>\n",
       "      <td>0</td>\n",
       "      <td>0</td>\n",
       "    </tr>\n",
       "    <tr>\n",
       "      <th>2</th>\n",
       "      <td>0</td>\n",
       "      <td>0</td>\n",
       "      <td>0</td>\n",
       "      <td>0</td>\n",
       "      <td>0</td>\n",
       "      <td>1</td>\n",
       "      <td>0</td>\n",
       "      <td>0</td>\n",
       "      <td>0</td>\n",
       "      <td>0</td>\n",
       "      <td>...</td>\n",
       "      <td>0</td>\n",
       "      <td>0</td>\n",
       "      <td>0</td>\n",
       "      <td>0</td>\n",
       "      <td>1</td>\n",
       "      <td>0</td>\n",
       "      <td>0</td>\n",
       "      <td>0</td>\n",
       "      <td>0</td>\n",
       "      <td>0</td>\n",
       "    </tr>\n",
       "    <tr>\n",
       "      <th>3</th>\n",
       "      <td>0</td>\n",
       "      <td>0</td>\n",
       "      <td>0</td>\n",
       "      <td>0</td>\n",
       "      <td>1</td>\n",
       "      <td>0</td>\n",
       "      <td>0</td>\n",
       "      <td>0</td>\n",
       "      <td>1</td>\n",
       "      <td>0</td>\n",
       "      <td>...</td>\n",
       "      <td>0</td>\n",
       "      <td>0</td>\n",
       "      <td>0</td>\n",
       "      <td>0</td>\n",
       "      <td>0</td>\n",
       "      <td>0</td>\n",
       "      <td>0</td>\n",
       "      <td>0</td>\n",
       "      <td>0</td>\n",
       "      <td>0</td>\n",
       "    </tr>\n",
       "    <tr>\n",
       "      <th>4</th>\n",
       "      <td>1</td>\n",
       "      <td>0</td>\n",
       "      <td>0</td>\n",
       "      <td>0</td>\n",
       "      <td>0</td>\n",
       "      <td>0</td>\n",
       "      <td>0</td>\n",
       "      <td>0</td>\n",
       "      <td>1</td>\n",
       "      <td>0</td>\n",
       "      <td>...</td>\n",
       "      <td>0</td>\n",
       "      <td>1</td>\n",
       "      <td>0</td>\n",
       "      <td>0</td>\n",
       "      <td>0</td>\n",
       "      <td>0</td>\n",
       "      <td>0</td>\n",
       "      <td>0</td>\n",
       "      <td>0</td>\n",
       "      <td>0</td>\n",
       "    </tr>\n",
       "  </tbody>\n",
       "</table>\n",
       "<p>5 rows × 21 columns</p>\n",
       "</div>"
      ],
      "text/plain": [
       "   Action& Adventure  Animation  Anime& Manga  ArtHouse& International  \\\n",
       "0                  1          0             0                        0   \n",
       "1                  0          0             0                        0   \n",
       "2                  0          0             0                        0   \n",
       "3                  0          0             0                        0   \n",
       "4                  1          0             0                        0   \n",
       "\n",
       "   Classics  Comedy  CultMovies  Documentary  Drama  Faith& Spirituality  ...  \\\n",
       "0         0       1           0            0      1                    0  ...   \n",
       "1         0       1           0            0      0                    0  ...   \n",
       "2         0       1           0            0      0                    0  ...   \n",
       "3         1       0           0            0      1                    0  ...   \n",
       "4         0       0           0            0      1                    0  ...   \n",
       "\n",
       "   Horror  Kids& Family  Musical& PerformingArts  Mystery& Suspense  Romance  \\\n",
       "0       0             0                        0                  0        0   \n",
       "1       0             0                        0                  0        0   \n",
       "2       0             0                        0                  0        1   \n",
       "3       0             0                        0                  0        0   \n",
       "4       0             1                        0                  0        0   \n",
       "\n",
       "   ScienceFiction& Fantasy  SpecialInterest  Sports& Fitness  Television  \\\n",
       "0                        1                0                0           0   \n",
       "1                        0                0                0           0   \n",
       "2                        0                0                0           0   \n",
       "3                        0                0                0           0   \n",
       "4                        0                0                0           0   \n",
       "\n",
       "   Western  \n",
       "0        0  \n",
       "1        0  \n",
       "2        0  \n",
       "3        0  \n",
       "4        0  \n",
       "\n",
       "[5 rows x 21 columns]"
      ]
     },
     "execution_count": 22,
     "metadata": {},
     "output_type": "execute_result"
    }
   ],
   "source": [
    "from sklearn.preprocessing import MultiLabelBinarizer\n",
    "import json\n",
    "\n",
    "## format genre column to be in the form of a list rather than string\n",
    "\n",
    "genre_new=[] #declare a list\n",
    "for cell in data['genre']:\n",
    "    cell=cell.replace(\" \",\"\") #remove whitespace\n",
    "    cell=cell.replace(\"&\", \"& \") #add whitespace back in for ampersands\n",
    "    genre_new.append(cell.split(\",\")) #for each genre cell, create a list of items from the original string, using a comma as a delimeter\n",
    "    \n",
    "#add new genre column to the dataframe\n",
    "data['genre_new'] = genre_new \n",
    "\n",
    "## MultiLabelBinarizer takes an iterable list and turns it into columns with binary values that represent the list.\n",
    "## For example, [Comedy, Drama] -> Comedy and Drama columns with a value of 1, all other columns with a value of 0\n",
    "\n",
    "#initialize MultiLabelBinarizer \n",
    "mlb = MultiLabelBinarizer() \n",
    "\n",
    "#transform the genre_new column to a series of columns with binary values\n",
    "binary_labels=pd.DataFrame(mlb.fit_transform(data['genre_new']),columns=mlb.classes_) \n",
    "\n",
    "#order columns alphabetically\n",
    "binary_labels=binary_labels.sort_index(axis=1) \n",
    "\n",
    "binary_labels.head()"
   ]
  },
  {
   "cell_type": "code",
   "execution_count": 23,
   "metadata": {},
   "outputs": [
    {
     "data": {
      "text/html": [
       "<div>\n",
       "<style scoped>\n",
       "    .dataframe tbody tr th:only-of-type {\n",
       "        vertical-align: middle;\n",
       "    }\n",
       "\n",
       "    .dataframe tbody tr th {\n",
       "        vertical-align: top;\n",
       "    }\n",
       "\n",
       "    .dataframe thead th {\n",
       "        text-align: right;\n",
       "    }\n",
       "</style>\n",
       "<table border=\"1\" class=\"dataframe\">\n",
       "  <thead>\n",
       "    <tr style=\"text-align: right;\">\n",
       "      <th></th>\n",
       "      <th>rotten_tomatoes_link</th>\n",
       "      <th>movie_title</th>\n",
       "      <th>directors</th>\n",
       "      <th>cast</th>\n",
       "      <th>runtime_in_minutes</th>\n",
       "      <th>tomatometer_rating</th>\n",
       "      <th>tomatometer_count</th>\n",
       "      <th>audience_rating</th>\n",
       "      <th>audience_count</th>\n",
       "      <th>rating__G</th>\n",
       "      <th>...</th>\n",
       "      <th>Horror</th>\n",
       "      <th>Kids&amp; Family</th>\n",
       "      <th>Musical&amp; PerformingArts</th>\n",
       "      <th>Mystery&amp; Suspense</th>\n",
       "      <th>Romance</th>\n",
       "      <th>ScienceFiction&amp; Fantasy</th>\n",
       "      <th>SpecialInterest</th>\n",
       "      <th>Sports&amp; Fitness</th>\n",
       "      <th>Television</th>\n",
       "      <th>Western</th>\n",
       "    </tr>\n",
       "  </thead>\n",
       "  <tbody>\n",
       "    <tr>\n",
       "      <th>0</th>\n",
       "      <td>/m/0814255</td>\n",
       "      <td>Percy Jackson &amp; the Olympians: The Lightning T...</td>\n",
       "      <td>Chris Columbus</td>\n",
       "      <td>Logan Lerman, Brandon T. Jackson, Alexandra Da...</td>\n",
       "      <td>83.0</td>\n",
       "      <td>49</td>\n",
       "      <td>144</td>\n",
       "      <td>53.0</td>\n",
       "      <td>254287.0</td>\n",
       "      <td>0</td>\n",
       "      <td>...</td>\n",
       "      <td>0</td>\n",
       "      <td>0</td>\n",
       "      <td>0</td>\n",
       "      <td>0</td>\n",
       "      <td>0</td>\n",
       "      <td>1</td>\n",
       "      <td>0</td>\n",
       "      <td>0</td>\n",
       "      <td>0</td>\n",
       "      <td>0</td>\n",
       "    </tr>\n",
       "    <tr>\n",
       "      <th>1</th>\n",
       "      <td>/m/0878835</td>\n",
       "      <td>Please Give</td>\n",
       "      <td>Nicole Holofcener</td>\n",
       "      <td>Catherine Keener, Amanda Peet, Oliver Platt, R...</td>\n",
       "      <td>90.0</td>\n",
       "      <td>86</td>\n",
       "      <td>140</td>\n",
       "      <td>64.0</td>\n",
       "      <td>11567.0</td>\n",
       "      <td>0</td>\n",
       "      <td>...</td>\n",
       "      <td>0</td>\n",
       "      <td>0</td>\n",
       "      <td>0</td>\n",
       "      <td>0</td>\n",
       "      <td>0</td>\n",
       "      <td>0</td>\n",
       "      <td>0</td>\n",
       "      <td>0</td>\n",
       "      <td>0</td>\n",
       "      <td>0</td>\n",
       "    </tr>\n",
       "    <tr>\n",
       "      <th>2</th>\n",
       "      <td>/m/10</td>\n",
       "      <td>10</td>\n",
       "      <td>Blake Edwards</td>\n",
       "      <td>Dudley Moore, Bo Derek, Julie Andrews, Robert ...</td>\n",
       "      <td>118.0</td>\n",
       "      <td>68</td>\n",
       "      <td>22</td>\n",
       "      <td>53.0</td>\n",
       "      <td>14670.0</td>\n",
       "      <td>0</td>\n",
       "      <td>...</td>\n",
       "      <td>0</td>\n",
       "      <td>0</td>\n",
       "      <td>0</td>\n",
       "      <td>0</td>\n",
       "      <td>1</td>\n",
       "      <td>0</td>\n",
       "      <td>0</td>\n",
       "      <td>0</td>\n",
       "      <td>0</td>\n",
       "      <td>0</td>\n",
       "    </tr>\n",
       "    <tr>\n",
       "      <th>3</th>\n",
       "      <td>/m/1000013-12_angry_men</td>\n",
       "      <td>12 Angry Men (Twelve Angry Men)</td>\n",
       "      <td>Sidney Lumet</td>\n",
       "      <td>Martin Balsam, John Fiedler, Lee J. Cobb, E.G....</td>\n",
       "      <td>95.0</td>\n",
       "      <td>100</td>\n",
       "      <td>51</td>\n",
       "      <td>97.0</td>\n",
       "      <td>105000.0</td>\n",
       "      <td>0</td>\n",
       "      <td>...</td>\n",
       "      <td>0</td>\n",
       "      <td>0</td>\n",
       "      <td>0</td>\n",
       "      <td>0</td>\n",
       "      <td>0</td>\n",
       "      <td>0</td>\n",
       "      <td>0</td>\n",
       "      <td>0</td>\n",
       "      <td>0</td>\n",
       "      <td>0</td>\n",
       "    </tr>\n",
       "    <tr>\n",
       "      <th>4</th>\n",
       "      <td>/m/1000079-20000_leagues_under_the_sea</td>\n",
       "      <td>20,000 Leagues Under The Sea</td>\n",
       "      <td>Richard Fleischer</td>\n",
       "      <td>James Mason, Kirk Douglas, Paul Lukas, Peter L...</td>\n",
       "      <td>127.0</td>\n",
       "      <td>89</td>\n",
       "      <td>27</td>\n",
       "      <td>74.0</td>\n",
       "      <td>68860.0</td>\n",
       "      <td>1</td>\n",
       "      <td>...</td>\n",
       "      <td>0</td>\n",
       "      <td>1</td>\n",
       "      <td>0</td>\n",
       "      <td>0</td>\n",
       "      <td>0</td>\n",
       "      <td>0</td>\n",
       "      <td>0</td>\n",
       "      <td>0</td>\n",
       "      <td>0</td>\n",
       "      <td>0</td>\n",
       "    </tr>\n",
       "  </tbody>\n",
       "</table>\n",
       "<p>5 rows × 36 columns</p>\n",
       "</div>"
      ],
      "text/plain": [
       "                     rotten_tomatoes_link  \\\n",
       "0                              /m/0814255   \n",
       "1                              /m/0878835   \n",
       "2                                   /m/10   \n",
       "3                 /m/1000013-12_angry_men   \n",
       "4  /m/1000079-20000_leagues_under_the_sea   \n",
       "\n",
       "                                         movie_title          directors  \\\n",
       "0  Percy Jackson & the Olympians: The Lightning T...     Chris Columbus   \n",
       "1                                        Please Give  Nicole Holofcener   \n",
       "2                                                 10      Blake Edwards   \n",
       "3                    12 Angry Men (Twelve Angry Men)       Sidney Lumet   \n",
       "4                       20,000 Leagues Under The Sea  Richard Fleischer   \n",
       "\n",
       "                                                cast  runtime_in_minutes  \\\n",
       "0  Logan Lerman, Brandon T. Jackson, Alexandra Da...                83.0   \n",
       "1  Catherine Keener, Amanda Peet, Oliver Platt, R...                90.0   \n",
       "2  Dudley Moore, Bo Derek, Julie Andrews, Robert ...               118.0   \n",
       "3  Martin Balsam, John Fiedler, Lee J. Cobb, E.G....                95.0   \n",
       "4  James Mason, Kirk Douglas, Paul Lukas, Peter L...               127.0   \n",
       "\n",
       "   tomatometer_rating  tomatometer_count  audience_rating  audience_count  \\\n",
       "0                  49                144             53.0        254287.0   \n",
       "1                  86                140             64.0         11567.0   \n",
       "2                  68                 22             53.0         14670.0   \n",
       "3                 100                 51             97.0        105000.0   \n",
       "4                  89                 27             74.0         68860.0   \n",
       "\n",
       "   rating__G  ...  Horror  Kids& Family  Musical& PerformingArts  \\\n",
       "0          0  ...       0             0                        0   \n",
       "1          0  ...       0             0                        0   \n",
       "2          0  ...       0             0                        0   \n",
       "3          0  ...       0             0                        0   \n",
       "4          1  ...       0             1                        0   \n",
       "\n",
       "   Mystery& Suspense  Romance  ScienceFiction& Fantasy  SpecialInterest  \\\n",
       "0                  0        0                        1                0   \n",
       "1                  0        0                        0                0   \n",
       "2                  0        1                        0                0   \n",
       "3                  0        0                        0                0   \n",
       "4                  0        0                        0                0   \n",
       "\n",
       "   Sports& Fitness  Television  Western  \n",
       "0                0           0        0  \n",
       "1                0           0        0  \n",
       "2                0           0        0  \n",
       "3                0           0        0  \n",
       "4                0           0        0  \n",
       "\n",
       "[5 rows x 36 columns]"
      ]
     },
     "execution_count": 23,
     "metadata": {},
     "output_type": "execute_result"
    }
   ],
   "source": [
    "data = data.merge(binary_labels, how='inner', left_index=True, right_index=True)\n",
    "data= data.drop(columns=['genre','genre_new'])\n",
    "data.head()"
   ]
  },
  {
   "cell_type": "markdown",
   "metadata": {},
   "source": [
    "# Handling nominal data in Cast and Director features"
   ]
  },
  {
   "cell_type": "code",
   "execution_count": 24,
   "metadata": {},
   "outputs": [],
   "source": [
    "data['cast'] = data['cast'].apply(lambda x:str(x).split(\",\"))\n",
    "data['cast'] = data['cast'].apply(lambda x:','.join(x))\n",
    "data['directors'] = data['directors'].apply(lambda x:str(x).split(\",\"))\n",
    "data['directors'] = data['directors'].apply(lambda x:','.join(x))"
   ]
  },
  {
   "cell_type": "code",
   "execution_count": 25,
   "metadata": {},
   "outputs": [
    {
     "data": {
      "text/plain": [
       "0        Logan Lerman, Brandon T. Jackson, Alexandra Da...\n",
       "1        Catherine Keener, Amanda Peet, Oliver Platt, R...\n",
       "2        Dudley Moore, Bo Derek, Julie Andrews, Robert ...\n",
       "3        Martin Balsam, John Fiedler, Lee J. Cobb, E.G....\n",
       "4        James Mason, Kirk Douglas, Paul Lukas, Peter L...\n",
       "                               ...                        \n",
       "16616    Taylor Handley, Alison Folland, Dustin Seavey,...\n",
       "16617    Steve Guttenberg, Kathleen Quinlan, Arnold Vos...\n",
       "16618    Fred Astaire, Judy Garland, Gene Kelly, Willia...\n",
       "16619    David Bowie, Mick Ronson, Trevor Bolder, Mick ...\n",
       "16620    Hrithik Roshan, Abhay Deol, Farhan Akhtar, Kat...\n",
       "Name: cast, Length: 16604, dtype: object"
      ]
     },
     "execution_count": 25,
     "metadata": {},
     "output_type": "execute_result"
    }
   ],
   "source": [
    "data['cast']"
   ]
  },
  {
   "cell_type": "code",
   "execution_count": 26,
   "metadata": {},
   "outputs": [],
   "source": [
    "data['directors'] = data['directors'].apply(lambda x:str(x).replace(\" \", \"\").lower())\n",
    "data['cast'] = data['cast'].apply(lambda x:str(x).replace(\" \", \"\").lower())"
   ]
  },
  {
   "cell_type": "code",
   "execution_count": 27,
   "metadata": {},
   "outputs": [],
   "source": [
    "li = ','.join(data['directors']).split(',')\n",
    "li=set(li)\n",
    "director_dict = {i:0 for i in li}"
   ]
  },
  {
   "cell_type": "code",
   "execution_count": 28,
   "metadata": {},
   "outputs": [],
   "source": [
    "li = ','.join(data['cast']).split(',')\n",
    "li=set(li)\n",
    "cast_dict = {i:0 for i in li}"
   ]
  },
  {
   "cell_type": "code",
   "execution_count": 29,
   "metadata": {},
   "outputs": [],
   "source": [
    " for x in data['directors']:\n",
    "    lis=x.split(',')\n",
    "    for y in lis:\n",
    "        if y in director_dict:\n",
    "            val = director_dict.get(y) + 1\n",
    "            director_dict[y]=val\n",
    "\n",
    "            \n",
    "dir_li=list()\n",
    "i=0\n",
    "total = 0\n",
    "for x in data['directors']:\n",
    "    total=0\n",
    "    directs=x.split(',')\n",
    "    for y in directs:       \n",
    "        if y in director_dict:\n",
    "            total+=director_dict[y]*10\n",
    "    dir_li.append(total)\n",
    "    i=i+1\n",
    "data['directors'] = dir_li"
   ]
  },
  {
   "cell_type": "code",
   "execution_count": 30,
   "metadata": {},
   "outputs": [],
   "source": [
    " for x in data['cast']:\n",
    "    lis=x.split(',')\n",
    "    for y in lis:\n",
    "        if y in cast_dict:\n",
    "            val = cast_dict.get(y) + 1\n",
    "            cast_dict[y]=val\n",
    "\n",
    "            \n",
    "dir_li=list()\n",
    "i=0\n",
    "total = 0\n",
    "for x in data['cast']:\n",
    "    total=0\n",
    "    directs=x.split(',')\n",
    "    for y in directs:       \n",
    "        if y in cast_dict:\n",
    "            total+=cast_dict[y]*10\n",
    "    dir_li.append(total)\n",
    "#     data['directors'][i]=total\n",
    "    i=i+1\n",
    "data['cast'] = dir_li"
   ]
  },
  {
   "cell_type": "code",
   "execution_count": 31,
   "metadata": {},
   "outputs": [
    {
     "data": {
      "text/plain": [
       "0"
      ]
     },
     "execution_count": 31,
     "metadata": {},
     "output_type": "execute_result"
    }
   ],
   "source": [
    "len(data[data['cast']==0])"
   ]
  },
  {
   "cell_type": "code",
   "execution_count": 32,
   "metadata": {},
   "outputs": [
    {
     "data": {
      "text/html": [
       "<div>\n",
       "<style scoped>\n",
       "    .dataframe tbody tr th:only-of-type {\n",
       "        vertical-align: middle;\n",
       "    }\n",
       "\n",
       "    .dataframe tbody tr th {\n",
       "        vertical-align: top;\n",
       "    }\n",
       "\n",
       "    .dataframe thead th {\n",
       "        text-align: right;\n",
       "    }\n",
       "</style>\n",
       "<table border=\"1\" class=\"dataframe\">\n",
       "  <thead>\n",
       "    <tr style=\"text-align: right;\">\n",
       "      <th></th>\n",
       "      <th>rotten_tomatoes_link</th>\n",
       "      <th>movie_title</th>\n",
       "      <th>directors</th>\n",
       "      <th>cast</th>\n",
       "      <th>runtime_in_minutes</th>\n",
       "      <th>tomatometer_rating</th>\n",
       "      <th>tomatometer_count</th>\n",
       "      <th>audience_rating</th>\n",
       "      <th>audience_count</th>\n",
       "      <th>rating__G</th>\n",
       "      <th>...</th>\n",
       "      <th>Horror</th>\n",
       "      <th>Kids&amp; Family</th>\n",
       "      <th>Musical&amp; PerformingArts</th>\n",
       "      <th>Mystery&amp; Suspense</th>\n",
       "      <th>Romance</th>\n",
       "      <th>ScienceFiction&amp; Fantasy</th>\n",
       "      <th>SpecialInterest</th>\n",
       "      <th>Sports&amp; Fitness</th>\n",
       "      <th>Television</th>\n",
       "      <th>Western</th>\n",
       "    </tr>\n",
       "  </thead>\n",
       "  <tbody>\n",
       "    <tr>\n",
       "      <th>0</th>\n",
       "      <td>/m/0814255</td>\n",
       "      <td>Percy Jackson &amp; the Olympians: The Lightning T...</td>\n",
       "      <td>130</td>\n",
       "      <td>7150</td>\n",
       "      <td>83.0</td>\n",
       "      <td>49</td>\n",
       "      <td>144</td>\n",
       "      <td>53.0</td>\n",
       "      <td>254287.0</td>\n",
       "      <td>0</td>\n",
       "      <td>...</td>\n",
       "      <td>0</td>\n",
       "      <td>0</td>\n",
       "      <td>0</td>\n",
       "      <td>0</td>\n",
       "      <td>0</td>\n",
       "      <td>1</td>\n",
       "      <td>0</td>\n",
       "      <td>0</td>\n",
       "      <td>0</td>\n",
       "      <td>0</td>\n",
       "    </tr>\n",
       "    <tr>\n",
       "      <th>1</th>\n",
       "      <td>/m/0878835</td>\n",
       "      <td>Please Give</td>\n",
       "      <td>50</td>\n",
       "      <td>2600</td>\n",
       "      <td>90.0</td>\n",
       "      <td>86</td>\n",
       "      <td>140</td>\n",
       "      <td>64.0</td>\n",
       "      <td>11567.0</td>\n",
       "      <td>0</td>\n",
       "      <td>...</td>\n",
       "      <td>0</td>\n",
       "      <td>0</td>\n",
       "      <td>0</td>\n",
       "      <td>0</td>\n",
       "      <td>0</td>\n",
       "      <td>0</td>\n",
       "      <td>0</td>\n",
       "      <td>0</td>\n",
       "      <td>0</td>\n",
       "      <td>0</td>\n",
       "    </tr>\n",
       "    <tr>\n",
       "      <th>2</th>\n",
       "      <td>/m/10</td>\n",
       "      <td>10</td>\n",
       "      <td>270</td>\n",
       "      <td>3180</td>\n",
       "      <td>118.0</td>\n",
       "      <td>68</td>\n",
       "      <td>22</td>\n",
       "      <td>53.0</td>\n",
       "      <td>14670.0</td>\n",
       "      <td>0</td>\n",
       "      <td>...</td>\n",
       "      <td>0</td>\n",
       "      <td>0</td>\n",
       "      <td>0</td>\n",
       "      <td>0</td>\n",
       "      <td>1</td>\n",
       "      <td>0</td>\n",
       "      <td>0</td>\n",
       "      <td>0</td>\n",
       "      <td>0</td>\n",
       "      <td>0</td>\n",
       "    </tr>\n",
       "    <tr>\n",
       "      <th>3</th>\n",
       "      <td>/m/1000013-12_angry_men</td>\n",
       "      <td>12 Angry Men (Twelve Angry Men)</td>\n",
       "      <td>300</td>\n",
       "      <td>2080</td>\n",
       "      <td>95.0</td>\n",
       "      <td>100</td>\n",
       "      <td>51</td>\n",
       "      <td>97.0</td>\n",
       "      <td>105000.0</td>\n",
       "      <td>0</td>\n",
       "      <td>...</td>\n",
       "      <td>0</td>\n",
       "      <td>0</td>\n",
       "      <td>0</td>\n",
       "      <td>0</td>\n",
       "      <td>0</td>\n",
       "      <td>0</td>\n",
       "      <td>0</td>\n",
       "      <td>0</td>\n",
       "      <td>0</td>\n",
       "      <td>0</td>\n",
       "    </tr>\n",
       "    <tr>\n",
       "      <th>4</th>\n",
       "      <td>/m/1000079-20000_leagues_under_the_sea</td>\n",
       "      <td>20,000 Leagues Under The Sea</td>\n",
       "      <td>170</td>\n",
       "      <td>2410</td>\n",
       "      <td>127.0</td>\n",
       "      <td>89</td>\n",
       "      <td>27</td>\n",
       "      <td>74.0</td>\n",
       "      <td>68860.0</td>\n",
       "      <td>1</td>\n",
       "      <td>...</td>\n",
       "      <td>0</td>\n",
       "      <td>1</td>\n",
       "      <td>0</td>\n",
       "      <td>0</td>\n",
       "      <td>0</td>\n",
       "      <td>0</td>\n",
       "      <td>0</td>\n",
       "      <td>0</td>\n",
       "      <td>0</td>\n",
       "      <td>0</td>\n",
       "    </tr>\n",
       "  </tbody>\n",
       "</table>\n",
       "<p>5 rows × 36 columns</p>\n",
       "</div>"
      ],
      "text/plain": [
       "                     rotten_tomatoes_link  \\\n",
       "0                              /m/0814255   \n",
       "1                              /m/0878835   \n",
       "2                                   /m/10   \n",
       "3                 /m/1000013-12_angry_men   \n",
       "4  /m/1000079-20000_leagues_under_the_sea   \n",
       "\n",
       "                                         movie_title  directors  cast  \\\n",
       "0  Percy Jackson & the Olympians: The Lightning T...        130  7150   \n",
       "1                                        Please Give         50  2600   \n",
       "2                                                 10        270  3180   \n",
       "3                    12 Angry Men (Twelve Angry Men)        300  2080   \n",
       "4                       20,000 Leagues Under The Sea        170  2410   \n",
       "\n",
       "   runtime_in_minutes  tomatometer_rating  tomatometer_count  audience_rating  \\\n",
       "0                83.0                  49                144             53.0   \n",
       "1                90.0                  86                140             64.0   \n",
       "2               118.0                  68                 22             53.0   \n",
       "3                95.0                 100                 51             97.0   \n",
       "4               127.0                  89                 27             74.0   \n",
       "\n",
       "   audience_count  rating__G  ...  Horror  Kids& Family  \\\n",
       "0        254287.0          0  ...       0             0   \n",
       "1         11567.0          0  ...       0             0   \n",
       "2         14670.0          0  ...       0             0   \n",
       "3        105000.0          0  ...       0             0   \n",
       "4         68860.0          1  ...       0             1   \n",
       "\n",
       "   Musical& PerformingArts  Mystery& Suspense  Romance  \\\n",
       "0                        0                  0        0   \n",
       "1                        0                  0        0   \n",
       "2                        0                  0        1   \n",
       "3                        0                  0        0   \n",
       "4                        0                  0        0   \n",
       "\n",
       "   ScienceFiction& Fantasy  SpecialInterest  Sports& Fitness  Television  \\\n",
       "0                        1                0                0           0   \n",
       "1                        0                0                0           0   \n",
       "2                        0                0                0           0   \n",
       "3                        0                0                0           0   \n",
       "4                        0                0                0           0   \n",
       "\n",
       "   Western  \n",
       "0        0  \n",
       "1        0  \n",
       "2        0  \n",
       "3        0  \n",
       "4        0  \n",
       "\n",
       "[5 rows x 36 columns]"
      ]
     },
     "execution_count": 32,
     "metadata": {},
     "output_type": "execute_result"
    }
   ],
   "source": [
    "data.head()"
   ]
  },
  {
   "cell_type": "code",
   "execution_count": 33,
   "metadata": {},
   "outputs": [],
   "source": [
    "data['label']=tag['0']"
   ]
  },
  {
   "cell_type": "code",
   "execution_count": 34,
   "metadata": {},
   "outputs": [
    {
     "data": {
      "text/html": [
       "<div>\n",
       "<style scoped>\n",
       "    .dataframe tbody tr th:only-of-type {\n",
       "        vertical-align: middle;\n",
       "    }\n",
       "\n",
       "    .dataframe tbody tr th {\n",
       "        vertical-align: top;\n",
       "    }\n",
       "\n",
       "    .dataframe thead th {\n",
       "        text-align: right;\n",
       "    }\n",
       "</style>\n",
       "<table border=\"1\" class=\"dataframe\">\n",
       "  <thead>\n",
       "    <tr style=\"text-align: right;\">\n",
       "      <th></th>\n",
       "      <th>rotten_tomatoes_link</th>\n",
       "      <th>movie_title</th>\n",
       "      <th>directors</th>\n",
       "      <th>cast</th>\n",
       "      <th>runtime_in_minutes</th>\n",
       "      <th>tomatometer_rating</th>\n",
       "      <th>tomatometer_count</th>\n",
       "      <th>audience_rating</th>\n",
       "      <th>audience_count</th>\n",
       "      <th>rating__G</th>\n",
       "      <th>...</th>\n",
       "      <th>Kids&amp; Family</th>\n",
       "      <th>Musical&amp; PerformingArts</th>\n",
       "      <th>Mystery&amp; Suspense</th>\n",
       "      <th>Romance</th>\n",
       "      <th>ScienceFiction&amp; Fantasy</th>\n",
       "      <th>SpecialInterest</th>\n",
       "      <th>Sports&amp; Fitness</th>\n",
       "      <th>Television</th>\n",
       "      <th>Western</th>\n",
       "      <th>label</th>\n",
       "    </tr>\n",
       "  </thead>\n",
       "  <tbody>\n",
       "    <tr>\n",
       "      <th>0</th>\n",
       "      <td>/m/0814255</td>\n",
       "      <td>Percy Jackson &amp; the Olympians: The Lightning T...</td>\n",
       "      <td>130</td>\n",
       "      <td>7150</td>\n",
       "      <td>83.0</td>\n",
       "      <td>49</td>\n",
       "      <td>144</td>\n",
       "      <td>53.0</td>\n",
       "      <td>254287.0</td>\n",
       "      <td>0</td>\n",
       "      <td>...</td>\n",
       "      <td>0</td>\n",
       "      <td>0</td>\n",
       "      <td>0</td>\n",
       "      <td>0</td>\n",
       "      <td>1</td>\n",
       "      <td>0</td>\n",
       "      <td>0</td>\n",
       "      <td>0</td>\n",
       "      <td>0</td>\n",
       "      <td>20.0</td>\n",
       "    </tr>\n",
       "    <tr>\n",
       "      <th>1</th>\n",
       "      <td>/m/0878835</td>\n",
       "      <td>Please Give</td>\n",
       "      <td>50</td>\n",
       "      <td>2600</td>\n",
       "      <td>90.0</td>\n",
       "      <td>86</td>\n",
       "      <td>140</td>\n",
       "      <td>64.0</td>\n",
       "      <td>11567.0</td>\n",
       "      <td>0</td>\n",
       "      <td>...</td>\n",
       "      <td>0</td>\n",
       "      <td>0</td>\n",
       "      <td>0</td>\n",
       "      <td>0</td>\n",
       "      <td>0</td>\n",
       "      <td>0</td>\n",
       "      <td>0</td>\n",
       "      <td>0</td>\n",
       "      <td>0</td>\n",
       "      <td>122.0</td>\n",
       "    </tr>\n",
       "    <tr>\n",
       "      <th>2</th>\n",
       "      <td>/m/10</td>\n",
       "      <td>10</td>\n",
       "      <td>270</td>\n",
       "      <td>3180</td>\n",
       "      <td>118.0</td>\n",
       "      <td>68</td>\n",
       "      <td>22</td>\n",
       "      <td>53.0</td>\n",
       "      <td>14670.0</td>\n",
       "      <td>0</td>\n",
       "      <td>...</td>\n",
       "      <td>0</td>\n",
       "      <td>0</td>\n",
       "      <td>0</td>\n",
       "      <td>1</td>\n",
       "      <td>0</td>\n",
       "      <td>0</td>\n",
       "      <td>0</td>\n",
       "      <td>0</td>\n",
       "      <td>0</td>\n",
       "      <td>18.0</td>\n",
       "    </tr>\n",
       "    <tr>\n",
       "      <th>3</th>\n",
       "      <td>/m/1000013-12_angry_men</td>\n",
       "      <td>12 Angry Men (Twelve Angry Men)</td>\n",
       "      <td>300</td>\n",
       "      <td>2080</td>\n",
       "      <td>95.0</td>\n",
       "      <td>100</td>\n",
       "      <td>51</td>\n",
       "      <td>97.0</td>\n",
       "      <td>105000.0</td>\n",
       "      <td>0</td>\n",
       "      <td>...</td>\n",
       "      <td>0</td>\n",
       "      <td>0</td>\n",
       "      <td>0</td>\n",
       "      <td>0</td>\n",
       "      <td>0</td>\n",
       "      <td>0</td>\n",
       "      <td>0</td>\n",
       "      <td>0</td>\n",
       "      <td>0</td>\n",
       "      <td>47.0</td>\n",
       "    </tr>\n",
       "    <tr>\n",
       "      <th>4</th>\n",
       "      <td>/m/1000079-20000_leagues_under_the_sea</td>\n",
       "      <td>20,000 Leagues Under The Sea</td>\n",
       "      <td>170</td>\n",
       "      <td>2410</td>\n",
       "      <td>127.0</td>\n",
       "      <td>89</td>\n",
       "      <td>27</td>\n",
       "      <td>74.0</td>\n",
       "      <td>68860.0</td>\n",
       "      <td>1</td>\n",
       "      <td>...</td>\n",
       "      <td>1</td>\n",
       "      <td>0</td>\n",
       "      <td>0</td>\n",
       "      <td>0</td>\n",
       "      <td>0</td>\n",
       "      <td>0</td>\n",
       "      <td>0</td>\n",
       "      <td>0</td>\n",
       "      <td>0</td>\n",
       "      <td>20.0</td>\n",
       "    </tr>\n",
       "  </tbody>\n",
       "</table>\n",
       "<p>5 rows × 37 columns</p>\n",
       "</div>"
      ],
      "text/plain": [
       "                     rotten_tomatoes_link  \\\n",
       "0                              /m/0814255   \n",
       "1                              /m/0878835   \n",
       "2                                   /m/10   \n",
       "3                 /m/1000013-12_angry_men   \n",
       "4  /m/1000079-20000_leagues_under_the_sea   \n",
       "\n",
       "                                         movie_title  directors  cast  \\\n",
       "0  Percy Jackson & the Olympians: The Lightning T...        130  7150   \n",
       "1                                        Please Give         50  2600   \n",
       "2                                                 10        270  3180   \n",
       "3                    12 Angry Men (Twelve Angry Men)        300  2080   \n",
       "4                       20,000 Leagues Under The Sea        170  2410   \n",
       "\n",
       "   runtime_in_minutes  tomatometer_rating  tomatometer_count  audience_rating  \\\n",
       "0                83.0                  49                144             53.0   \n",
       "1                90.0                  86                140             64.0   \n",
       "2               118.0                  68                 22             53.0   \n",
       "3                95.0                 100                 51             97.0   \n",
       "4               127.0                  89                 27             74.0   \n",
       "\n",
       "   audience_count  rating__G  ...  Kids& Family  Musical& PerformingArts  \\\n",
       "0        254287.0          0  ...             0                        0   \n",
       "1         11567.0          0  ...             0                        0   \n",
       "2         14670.0          0  ...             0                        0   \n",
       "3        105000.0          0  ...             0                        0   \n",
       "4         68860.0          1  ...             1                        0   \n",
       "\n",
       "   Mystery& Suspense  Romance  ScienceFiction& Fantasy  SpecialInterest  \\\n",
       "0                  0        0                        1                0   \n",
       "1                  0        0                        0                0   \n",
       "2                  0        1                        0                0   \n",
       "3                  0        0                        0                0   \n",
       "4                  0        0                        0                0   \n",
       "\n",
       "   Sports& Fitness  Television  Western  label  \n",
       "0                0           0        0   20.0  \n",
       "1                0           0        0  122.0  \n",
       "2                0           0        0   18.0  \n",
       "3                0           0        0   47.0  \n",
       "4                0           0        0   20.0  \n",
       "\n",
       "[5 rows x 37 columns]"
      ]
     },
     "execution_count": 34,
     "metadata": {},
     "output_type": "execute_result"
    }
   ],
   "source": [
    "data.head()"
   ]
  },
  {
   "cell_type": "code",
   "execution_count": 35,
   "metadata": {},
   "outputs": [],
   "source": [
    "data=data.drop(columns=['rotten_tomatoes_link','movie_title'])"
   ]
  },
  {
   "cell_type": "code",
   "execution_count": 36,
   "metadata": {},
   "outputs": [],
   "source": [
    "data.fillna(data.mean(),inplace = True)"
   ]
  },
  {
   "cell_type": "markdown",
   "metadata": {},
   "source": [
    "# Skewness"
   ]
  },
  {
   "cell_type": "code",
   "execution_count": 37,
   "metadata": {},
   "outputs": [
    {
     "data": {
      "text/plain": [
       "<Figure size 1440x1440 with 0 Axes>"
      ]
     },
     "metadata": {},
     "output_type": "display_data"
    },
    {
     "data": {
      "image/png": "[encoded data removed]",
      "text/plain": [
       "<Figure size 432x288 with 12 Axes>"
      ]
     },
     "metadata": {
      "needs_background": "light"
     },
     "output_type": "display_data"
    }
   ],
   "source": [
    "plt.figure(figsize=(20,20))\n",
    "data.iloc[:,:10].hist(bins=15, color='steelblue', edgecolor='black', linewidth=1.0,\n",
    "           xlabelsize=8, ylabelsize=8, grid=False)    \n",
    "plt.tight_layout(rect=(0, 0, 1.2, 1.2))   "
   ]
  },
  {
   "cell_type": "code",
   "execution_count": 38,
   "metadata": {},
   "outputs": [
    {
     "name": "stdout",
     "output_type": "stream",
     "text": [
      "runtime_in_minutes    27.756649\n",
      "rating__NC17          21.114913\n",
      "audience_count        17.973384\n",
      "directors              6.679758\n",
      "rating__G              4.744597\n",
      "tomatometer_count      2.010689\n",
      "cast                   1.334875\n",
      "rating__NR             0.913524\n",
      "tomatometer_rating     0.419065\n",
      "audience_rating        0.309191\n",
      "dtype: float64\n"
     ]
    },
    {
     "data": {
      "text/plain": [
       "(array([0, 1, 2, 3, 4, 5, 6, 7, 8, 9]),\n",
       " <a list of 10 Text major ticklabel objects>)"
      ]
     },
     "execution_count": 38,
     "metadata": {},
     "output_type": "execute_result"
    },
    {
     "data": {
      "image/png": "[encoded data removed]",
      "text/plain": [
       "<Figure size 576x360 with 1 Axes>"
      ]
     },
     "metadata": {
      "needs_background": "light"
     },
     "output_type": "display_data"
    }
   ],
   "source": [
    "skew=data.iloc[:,:10].skew()\n",
    "print(skew.abs().sort_values(ascending=False))\n",
    "skew_df=pd.DataFrame(skew,index=None,columns=['Skewness'])\n",
    "plt.figure(figsize=(8,5))\n",
    "sns.barplot(x=skew_df.index,y='Skewness',data=skew_df)\n",
    "plt.xticks(rotation=90)"
   ]
  },
  {
   "cell_type": "code",
   "execution_count": 39,
   "metadata": {},
   "outputs": [],
   "source": [
    "data_copy=data.copy()"
   ]
  },
  {
   "cell_type": "code",
   "execution_count": 40,
   "metadata": {},
   "outputs": [],
   "source": [
    "def remove_skew_n_power(col):\n",
    "  print(\"Removing Skew by applying power of N :\")\n",
    "  power = 0\n",
    "  min_skew = 99999\n",
    "  for i in range(1,11):\n",
    "    skew = abs((col**i).skew())\n",
    "    print(i,skew)\n",
    "    if(skew < min_skew) :\n",
    "      min_skew = skew\n",
    "      power = i\n",
    "  return power, min_skew"
   ]
  },
  {
   "cell_type": "code",
   "execution_count": 41,
   "metadata": {},
   "outputs": [],
   "source": [
    "def remove_skew_n_root(col):\n",
    "  print(\"Removing Skew by applying root of N :\")\n",
    "  power = 0\n",
    "  min_skew = 99999\n",
    "  for i in range(1,11):\n",
    "    skew = abs((col**(1/i)).skew())\n",
    "    print(i,skew)\n",
    "    if(skew < min_skew) :\n",
    "      min_skew = skew\n",
    "      power = 1/i\n",
    "  return power, min_skew"
   ]
  },
  {
   "cell_type": "markdown",
   "metadata": {},
   "source": [
    "<b>Directors</b>"
   ]
  },
  {
   "cell_type": "code",
   "execution_count": 42,
   "metadata": {},
   "outputs": [
    {
     "data": {
      "text/plain": [
       "6.67975798292568"
      ]
     },
     "execution_count": 42,
     "metadata": {},
     "output_type": "execute_result"
    }
   ],
   "source": [
    "data[\"directors\"].skew()"
   ]
  },
  {
   "cell_type": "code",
   "execution_count": 43,
   "metadata": {},
   "outputs": [
    {
     "name": "stdout",
     "output_type": "stream",
     "text": [
      "Removing Skew by applying power of N :\n",
      "1 6.67975798292568\n",
      "2 11.41813952746434\n",
      "3 12.1581086197349\n",
      "4 12.842909118471557\n",
      "5 14.25355733075244\n",
      "6 17.121252872806295\n",
      "7 9.130190666988765\n",
      "8 1.4388987567822797\n",
      "9 0.27618448984252075\n",
      "10 0.6771401291565916\n",
      "Minimum Skewness (N, Skewness) : (9, 0.27618448984252075)\n",
      "\n",
      "\n",
      "\n",
      "Removing Skew by applying root of N :\n",
      "1 6.67975798292568\n",
      "2 2.356740433475564\n",
      "3 1.4489172323884096\n",
      "4 1.1058738481354484\n",
      "5 0.9291561633195123\n",
      "6 0.8218905267391573\n",
      "7 0.7499590831222062\n",
      "8 0.6983989065919766\n",
      "9 0.6596383473509541\n",
      "10 0.6294407268487788\n",
      "Minimum Skewness (N, Skewness) : (0.1, 0.6294407268487788)\n"
     ]
    }
   ],
   "source": [
    "print('Minimum Skewness (N, Skewness) :', remove_skew_n_power(data[\"directors\"]))\n",
    "print('\\n\\n')\n",
    "print('Minimum Skewness (N, Skewness) :', remove_skew_n_root(data[\"directors\"]))"
   ]
  },
  {
   "cell_type": "code",
   "execution_count": 44,
   "metadata": {},
   "outputs": [
    {
     "data": {
      "text/plain": [
       "<matplotlib.axes._subplots.AxesSubplot at 0x12da4c280>"
      ]
     },
     "execution_count": 44,
     "metadata": {},
     "output_type": "execute_result"
    },
    {
     "data": {
      "image/png": "[encoded data removed]",
      "text/plain": [
       "<Figure size 576x432 with 1 Axes>"
      ]
     },
     "metadata": {
      "needs_background": "light"
     },
     "output_type": "display_data"
    }
   ],
   "source": [
    "from scipy import stats\n",
    "plt.figure(figsize=(8,6))\n",
    "sns.distplot(data[\"directors\"]**9)"
   ]
  },
  {
   "cell_type": "code",
   "execution_count": 45,
   "metadata": {},
   "outputs": [],
   "source": [
    "data[\"directors\"]=data[\"directors\"]**9"
   ]
  },
  {
   "cell_type": "markdown",
   "metadata": {},
   "source": [
    "cast"
   ]
  },
  {
   "cell_type": "code",
   "execution_count": 46,
   "metadata": {},
   "outputs": [
    {
     "data": {
      "text/plain": [
       "1.3348753694915416"
      ]
     },
     "execution_count": 46,
     "metadata": {},
     "output_type": "execute_result"
    }
   ],
   "source": [
    "data[\"cast\"].skew()"
   ]
  },
  {
   "cell_type": "code",
   "execution_count": 47,
   "metadata": {},
   "outputs": [
    {
     "name": "stdout",
     "output_type": "stream",
     "text": [
      "Removing Skew by applying power of N :\n",
      "1 1.3348753694915416\n",
      "2 4.656917367838057\n",
      "3 11.173853185562198\n",
      "4 20.56244014901088\n",
      "5 0.514842838648432\n",
      "6 0.18494244576239627\n",
      "7 0.03715251614592233\n",
      "8 0.10202182055209488\n",
      "9 0.00012776602130596342\n",
      "10 0.0293323869143319\n",
      "Minimum Skewness (N, Skewness) : (9, 0.00012776602130596342)\n",
      "\n",
      "\n",
      "\n",
      "Removing Skew by applying root of N :\n",
      "1 1.3348753694915416\n",
      "2 0.24334411888606086\n",
      "3 0.12845981298714887\n",
      "4 0.3293505865002838\n",
      "5 0.4575234118666766\n",
      "6 0.5470034285283267\n",
      "7 0.6132024946140723\n",
      "8 0.6642320043108074\n",
      "9 0.7048008682756572\n",
      "10 0.7378411856190111\n",
      "Minimum Skewness (N, Skewness) : (0.3333333333333333, 0.12845981298714887)\n"
     ]
    }
   ],
   "source": [
    "print('Minimum Skewness (N, Skewness) :', remove_skew_n_power(data[\"cast\"]))\n",
    "print('\\n\\n')\n",
    "print('Minimum Skewness (N, Skewness) :', remove_skew_n_root(data[\"cast\"]))"
   ]
  },
  {
   "cell_type": "code",
   "execution_count": 48,
   "metadata": {},
   "outputs": [
    {
     "data": {
      "text/plain": [
       "<matplotlib.axes._subplots.AxesSubplot at 0x1333e23d0>"
      ]
     },
     "execution_count": 48,
     "metadata": {},
     "output_type": "execute_result"
    },
    {
     "data": {
      "image/png": "[encoded data removed]",
      "text/plain": [
       "<Figure size 576x432 with 1 Axes>"
      ]
     },
     "metadata": {
      "needs_background": "light"
     },
     "output_type": "display_data"
    }
   ],
   "source": [
    "from scipy import stats\n",
    "plt.figure(figsize=(8,6))\n",
    "sns.distplot(data[\"cast\"]**9)"
   ]
  },
  {
   "cell_type": "code",
   "execution_count": 49,
   "metadata": {},
   "outputs": [],
   "source": [
    "data[\"cast\"]=data[\"cast\"]**9"
   ]
  },
  {
   "cell_type": "markdown",
   "metadata": {},
   "source": [
    "runtime_in_minutes"
   ]
  },
  {
   "cell_type": "code",
   "execution_count": 50,
   "metadata": {},
   "outputs": [
    {
     "data": {
      "text/plain": [
       "27.75664935979491"
      ]
     },
     "execution_count": 50,
     "metadata": {},
     "output_type": "execute_result"
    }
   ],
   "source": [
    "data[\"runtime_in_minutes\"].skew()"
   ]
  },
  {
   "cell_type": "code",
   "execution_count": 51,
   "metadata": {},
   "outputs": [
    {
     "name": "stdout",
     "output_type": "stream",
     "text": [
      "Removing Skew by applying power of N :\n",
      "1 27.75664935979491\n",
      "2 123.40277640145297\n",
      "3 128.72824532927723\n",
      "4 128.85103089721378\n",
      "5 128.8562070895488\n",
      "6 128.856491626474\n",
      "7 128.85650828818203\n",
      "8 128.85650927964866\n",
      "9 128.85650933897085\n",
      "10 128.85650934252945\n",
      "Minimum Skewness (N, Skewness) : (1, 27.75664935979491)\n",
      "\n",
      "\n",
      "\n",
      "Removing Skew by applying root of N :\n",
      "1 27.75664935979491\n",
      "2 2.684163318954417\n",
      "3 0.33326843844970155\n",
      "4 0.7364514366829015\n",
      "5 1.4366073408081355\n",
      "6 1.9498066586237994\n",
      "7 2.346552646003817\n",
      "8 2.663596911727888\n",
      "9 2.923083394057524\n",
      "10 3.1394662687378507\n",
      "Minimum Skewness (N, Skewness) : (0.3333333333333333, 0.33326843844970155)\n"
     ]
    }
   ],
   "source": [
    "print('Minimum Skewness (N, Skewness) :', remove_skew_n_power(data[\"runtime_in_minutes\"]))\n",
    "print('\\n\\n')\n",
    "print('Minimum Skewness (N, Skewness) :', remove_skew_n_root(data[\"runtime_in_minutes\"]))"
   ]
  },
  {
   "cell_type": "code",
   "execution_count": 52,
   "metadata": {},
   "outputs": [
    {
     "data": {
      "text/plain": [
       "<matplotlib.axes._subplots.AxesSubplot at 0x12d289a30>"
      ]
     },
     "execution_count": 52,
     "metadata": {},
     "output_type": "execute_result"
    },
    {
     "data": {
      "image/png": "[encoded data removed]",
      "text/plain": [
       "<Figure size 576x432 with 1 Axes>"
      ]
     },
     "metadata": {
      "needs_background": "light"
     },
     "output_type": "display_data"
    }
   ],
   "source": [
    "from scipy import stats\n",
    "plt.figure(figsize=(8,6))\n",
    "sns.distplot(data[\"runtime_in_minutes\"]**(1/3))"
   ]
  },
  {
   "cell_type": "code",
   "execution_count": 53,
   "metadata": {},
   "outputs": [],
   "source": [
    "data[\"runtime_in_minutes\"]=data[\"runtime_in_minutes\"]**(1/3)"
   ]
  },
  {
   "cell_type": "markdown",
   "metadata": {},
   "source": [
    "audience_count"
   ]
  },
  {
   "cell_type": "code",
   "execution_count": 54,
   "metadata": {},
   "outputs": [
    {
     "data": {
      "text/plain": [
       "17.973383530483346"
      ]
     },
     "execution_count": 54,
     "metadata": {},
     "output_type": "execute_result"
    }
   ],
   "source": [
    "data[\"audience_count\"].skew()"
   ]
  },
  {
   "cell_type": "code",
   "execution_count": 55,
   "metadata": {},
   "outputs": [
    {
     "name": "stdout",
     "output_type": "stream",
     "text": [
      "Removing Skew by applying power of N :\n",
      "1 17.973383530483346\n",
      "2 18.22962793925369\n",
      "3 18.344917989299923\n",
      "4 18.51305921071749\n",
      "5 18.739971920213115\n",
      "6 19.032220744022386\n",
      "7 19.397405249196343\n",
      "8 19.844159043422685\n",
      "9 20.38210132596836\n",
      "10 21.02173172102365\n",
      "Minimum Skewness (N, Skewness) : (1, 17.973383530483346)\n",
      "\n",
      "\n",
      "\n",
      "Removing Skew by applying root of N :\n",
      "1 17.973383530483346\n",
      "2 11.774875646655012\n",
      "3 5.358530742938584\n",
      "4 3.0000598297488663\n",
      "5 2.0487888057679036\n",
      "6 1.569427917394569\n",
      "7 1.2854472486192707\n",
      "8 1.0980106398071265\n",
      "9 0.9648224870349464\n",
      "10 0.8650896398955965\n",
      "Minimum Skewness (N, Skewness) : (0.1, 0.8650896398955965)\n"
     ]
    }
   ],
   "source": [
    "print('Minimum Skewness (N, Skewness) :', remove_skew_n_power(data[\"audience_count\"]))\n",
    "print('\\n\\n')\n",
    "print('Minimum Skewness (N, Skewness) :', remove_skew_n_root(data[\"audience_count\"]))"
   ]
  },
  {
   "cell_type": "code",
   "execution_count": 56,
   "metadata": {},
   "outputs": [
    {
     "data": {
      "text/plain": [
       "<matplotlib.axes._subplots.AxesSubplot at 0x1318f85e0>"
      ]
     },
     "execution_count": 56,
     "metadata": {},
     "output_type": "execute_result"
    },
    {
     "data": {
      "image/png": "[encoded data removed]",
      "text/plain": [
       "<Figure size 576x432 with 1 Axes>"
      ]
     },
     "metadata": {
      "needs_background": "light"
     },
     "output_type": "display_data"
    }
   ],
   "source": [
    "from scipy import stats\n",
    "plt.figure(figsize=(8,6))\n",
    "sns.distplot(data[\"audience_count\"]**(1/10))"
   ]
  },
  {
   "cell_type": "code",
   "execution_count": 57,
   "metadata": {},
   "outputs": [],
   "source": [
    "data[\"audience_count\"]=data[\"audience_count\"]**(1/10)"
   ]
  },
  {
   "cell_type": "markdown",
   "metadata": {},
   "source": [
    "tomatometer_count "
   ]
  },
  {
   "cell_type": "code",
   "execution_count": 58,
   "metadata": {},
   "outputs": [
    {
     "data": {
      "text/plain": [
       "2.010688866976988"
      ]
     },
     "execution_count": 58,
     "metadata": {},
     "output_type": "execute_result"
    }
   ],
   "source": [
    "data[\"tomatometer_count\"].skew()"
   ]
  },
  {
   "cell_type": "code",
   "execution_count": 59,
   "metadata": {},
   "outputs": [
    {
     "name": "stdout",
     "output_type": "stream",
     "text": [
      "Removing Skew by applying power of N :\n",
      "1 2.010688866976988\n",
      "2 4.8432358803047775\n",
      "3 9.008827355799514\n",
      "4 13.914241765707272\n",
      "5 19.0827211296708\n",
      "6 24.249469758055053\n",
      "7 29.202481848215808\n",
      "8 0.8531969390813795\n",
      "9 0.1751343113053768\n",
      "10 0.023309991398489455\n",
      "Minimum Skewness (N, Skewness) : (10, 0.023309991398489455)\n",
      "\n",
      "\n",
      "\n",
      "Removing Skew by applying root of N :\n",
      "1 2.010688866976988\n",
      "2 1.0395093263151742\n",
      "3 0.7486487323933328\n",
      "4 0.6068846879312034\n",
      "5 0.5228364433131846\n",
      "6 0.4672061779584223\n",
      "7 0.42766445653713997\n",
      "8 0.3981141402295386\n",
      "9 0.37519350509230776\n",
      "10 0.3568968065098624\n",
      "Minimum Skewness (N, Skewness) : (0.1, 0.3568968065098624)\n"
     ]
    }
   ],
   "source": [
    "print('Minimum Skewness (N, Skewness) :', remove_skew_n_power(data[\"tomatometer_count\"]))\n",
    "print('\\n\\n')\n",
    "print('Minimum Skewness (N, Skewness) :', remove_skew_n_root(data[\"tomatometer_count\"]))"
   ]
  },
  {
   "cell_type": "code",
   "execution_count": 60,
   "metadata": {},
   "outputs": [
    {
     "data": {
      "text/plain": [
       "<matplotlib.axes._subplots.AxesSubplot at 0x133c3a4c0>"
      ]
     },
     "execution_count": 60,
     "metadata": {},
     "output_type": "execute_result"
    },
    {
     "data": {
      "image/png": "[encoded data removed]",
      "text/plain": [
       "<Figure size 576x432 with 1 Axes>"
      ]
     },
     "metadata": {
      "needs_background": "light"
     },
     "output_type": "display_data"
    }
   ],
   "source": [
    "from scipy import stats\n",
    "plt.figure(figsize=(8,6))\n",
    "sns.distplot(data[\"tomatometer_count\"]**(10))"
   ]
  },
  {
   "cell_type": "code",
   "execution_count": 61,
   "metadata": {},
   "outputs": [],
   "source": [
    "data[\"tomatometer_count\"]=data[\"tomatometer_count\"]**(10)"
   ]
  },
  {
   "cell_type": "code",
   "execution_count": null,
   "metadata": {},
   "outputs": [],
   "source": [
    "plt.figure(figsize=(20,20))\n",
    "data.iloc[:,:10].hist(bins=15, color='steelblue', edgecolor='black', linewidth=1.0,\n",
    "           xlabelsize=8, ylabelsize=8, grid=False)    \n",
    "plt.tight_layout(rect=(0, 0, 1.2, 1.2))"
   ]
  },
  {
   "cell_type": "markdown",
   "metadata": {},
   "source": [
    "# Outlier Removal"
   ]
  },
  {
   "cell_type": "code",
   "execution_count": 62,
   "metadata": {},
   "outputs": [
    {
     "name": "stdout",
     "output_type": "stream",
     "text": [
      "-> Percentage of data loss=  0.0\n"
     ]
    },
    {
     "data": {
      "text/plain": [
       "<matplotlib.axes._subplots.AxesSubplot at 0x12da51bb0>"
      ]
     },
     "execution_count": 62,
     "metadata": {},
     "output_type": "execute_result"
    },
    {
     "data": {
      "image/png": "[encoded data removed]",
      "text/plain": [
       "<Figure size 432x288 with 1 Axes>"
      ]
     },
     "metadata": {
      "needs_background": "light"
     },
     "output_type": "display_data"
    }
   ],
   "source": [
    "q1, q2, q3 = data['cast'].quantile([.25,.50,.75])\n",
    "IQR = q3-q1\n",
    "Min = q1 - IQR*1.5\n",
    "Max = q3 + IQR*1.5\n",
    "data_outliers = data[data['cast']<Min]\n",
    "data_outliers = pd.concat([data_outliers, data[data['cast']>Max]])\n",
    "no_outlier_data = data[data['cast']>Min]\n",
    "no_outlier_data = no_outlier_data[no_outlier_data['cast']<Max]\n",
    "print(\"-> Percentage of data loss= \", len(data_outliers['cast'])*100/len(data['cast']))\n",
    "sns.distplot(no_outlier_data['cast'])"
   ]
  },
  {
   "cell_type": "code",
   "execution_count": 63,
   "metadata": {},
   "outputs": [],
   "source": [
    "data = no_outlier_data.copy()"
   ]
  },
  {
   "cell_type": "code",
   "execution_count": 64,
   "metadata": {},
   "outputs": [
    {
     "name": "stdout",
     "output_type": "stream",
     "text": [
      "-> Percentage of data loss=  3.463020958805107\n"
     ]
    },
    {
     "data": {
      "text/plain": [
       "<matplotlib.axes._subplots.AxesSubplot at 0x12e13f160>"
      ]
     },
     "execution_count": 64,
     "metadata": {},
     "output_type": "execute_result"
    },
    {
     "data": {
      "image/png": "[encoded data removed]",
      "text/plain": [
       "<Figure size 432x288 with 1 Axes>"
      ]
     },
     "metadata": {
      "needs_background": "light"
     },
     "output_type": "display_data"
    }
   ],
   "source": [
    "q1, q2, q3 = data['runtime_in_minutes'].quantile([.25,.50,.75])\n",
    "IQR = q3-q1\n",
    "Min = q1 - IQR*1.5\n",
    "Max = q3 + IQR*1.5\n",
    "data_outliers = data[data['runtime_in_minutes']<Min]\n",
    "data_outliers = pd.concat([data_outliers, data[data['runtime_in_minutes']>Max]])\n",
    "no_outlier_data = data[data['runtime_in_minutes']>Min]\n",
    "no_outlier_data = no_outlier_data[no_outlier_data['runtime_in_minutes']<Max]\n",
    "print(\"-> Percentage of data loss= \", len(data_outliers['runtime_in_minutes'])*100/len(data['runtime_in_minutes']))\n",
    "sns.distplot(no_outlier_data['runtime_in_minutes'])"
   ]
  },
  {
   "cell_type": "code",
   "execution_count": 65,
   "metadata": {},
   "outputs": [],
   "source": [
    "data = no_outlier_data.copy()"
   ]
  },
  {
   "cell_type": "code",
   "execution_count": 66,
   "metadata": {},
   "outputs": [
    {
     "name": "stdout",
     "output_type": "stream",
     "text": [
      "-> Percentage of data loss=  0.4179923887953085\n"
     ]
    },
    {
     "data": {
      "text/plain": [
       "<matplotlib.axes._subplots.AxesSubplot at 0x132403c70>"
      ]
     },
     "execution_count": 66,
     "metadata": {},
     "output_type": "execute_result"
    },
    {
     "data": {
      "image/png": "[encoded data removed]",
      "text/plain": [
       "<Figure size 432x288 with 1 Axes>"
      ]
     },
     "metadata": {
      "needs_background": "light"
     },
     "output_type": "display_data"
    }
   ],
   "source": [
    "q1, q2, q3 = data['audience_count'].quantile([.25,.50,.75])\n",
    "IQR = q3-q1\n",
    "Min = q1 - IQR*1.5\n",
    "Max = q3 + IQR*1.5\n",
    "data_outliers = data[data['audience_count']<Min]\n",
    "data_outliers = pd.concat([data_outliers, data[data['audience_count']>Max]])\n",
    "no_outlier_data = data[data['audience_count']>Min]\n",
    "no_outlier_data = no_outlier_data[no_outlier_data['audience_count']<Max]\n",
    "print(\"-> Percentage of data loss= \", len(data_outliers['audience_count'])*100/len(data['audience_count']))\n",
    "sns.distplot(no_outlier_data['audience_count'])"
   ]
  },
  {
   "cell_type": "code",
   "execution_count": 67,
   "metadata": {},
   "outputs": [],
   "source": [
    "data = no_outlier_data.copy()"
   ]
  },
  {
   "cell_type": "code",
   "execution_count": 68,
   "metadata": {},
   "outputs": [
    {
     "name": "stdout",
     "output_type": "stream",
     "text": [
      "-> Percentage of data loss=  37.00037589274527\n"
     ]
    },
    {
     "data": {
      "text/plain": [
       "<matplotlib.axes._subplots.AxesSubplot at 0x132400730>"
      ]
     },
     "execution_count": 68,
     "metadata": {},
     "output_type": "execute_result"
    },
    {
     "data": {
      "image/png": "[encoded data removed]",
      "text/plain": [
       "<Figure size 432x288 with 1 Axes>"
      ]
     },
     "metadata": {
      "needs_background": "light"
     },
     "output_type": "display_data"
    }
   ],
   "source": [
    "q1, q2, q3 = data['tomatometer_count'].quantile([.25,.50,.75])\n",
    "IQR = q3-q1\n",
    "Min = q1 - IQR*1.5\n",
    "Max = q3 + IQR*1.5\n",
    "data_outliers = data[data['tomatometer_count']<Min]\n",
    "data_outliers = pd.concat([data_outliers, data[data['tomatometer_count']>Max]])\n",
    "no_outlier_data = data[data['tomatometer_count']>Min]\n",
    "no_outlier_data = no_outlier_data[no_outlier_data['tomatometer_count']<Max]\n",
    "print(\"-> Percentage of data loss= \", len(data_outliers['tomatometer_count'])*100/len(data['tomatometer_count']))\n",
    "sns.distplot(no_outlier_data['tomatometer_count'])"
   ]
  },
  {
   "cell_type": "code",
   "execution_count": 69,
   "metadata": {},
   "outputs": [],
   "source": [
    "data = no_outlier_data.copy()"
   ]
  },
  {
   "cell_type": "code",
   "execution_count": 70,
   "metadata": {},
   "outputs": [
    {
     "name": "stdout",
     "output_type": "stream",
     "text": [
      "-> Percentage of data loss=  0.0\n"
     ]
    },
    {
     "data": {
      "text/plain": [
       "<matplotlib.axes._subplots.AxesSubplot at 0x131a9c0d0>"
      ]
     },
     "execution_count": 70,
     "metadata": {},
     "output_type": "execute_result"
    },
    {
     "data": {
      "image/png": "[encoded data removed]",
      "text/plain": [
       "<Figure size 432x288 with 1 Axes>"
      ]
     },
     "metadata": {
      "needs_background": "light"
     },
     "output_type": "display_data"
    }
   ],
   "source": [
    "q1, q2, q3 = data['audience_rating'].quantile([.25,.50,.75])\n",
    "IQR = q3-q1\n",
    "Min = q1 - IQR*1.5\n",
    "Max = q3 + IQR*1.5\n",
    "data_outliers = data[data['audience_rating']<Min]\n",
    "data_outliers = pd.concat([data_outliers, data[data['audience_rating']>Max]])\n",
    "no_outlier_data = data[data['audience_rating']>Min]\n",
    "no_outlier_data = no_outlier_data[no_outlier_data['audience_rating']<Max]\n",
    "print(\"-> Percentage of data loss= \", len(data_outliers['audience_rating'])*100/len(data['audience_rating']))\n",
    "sns.distplot(no_outlier_data['audience_rating'])"
   ]
  },
  {
   "cell_type": "code",
   "execution_count": 71,
   "metadata": {},
   "outputs": [],
   "source": [
    "data = no_outlier_data.copy()"
   ]
  },
  {
   "cell_type": "code",
   "execution_count": 72,
   "metadata": {},
   "outputs": [
    {
     "name": "stdout",
     "output_type": "stream",
     "text": [
      "-> Percentage of data loss=  0.0\n"
     ]
    },
    {
     "data": {
      "text/plain": [
       "<matplotlib.axes._subplots.AxesSubplot at 0x131534b50>"
      ]
     },
     "execution_count": 72,
     "metadata": {},
     "output_type": "execute_result"
    },
    {
     "data": {
      "image/png": "[encoded data removed]",
      "text/plain": [
       "<Figure size 432x288 with 1 Axes>"
      ]
     },
     "metadata": {
      "needs_background": "light"
     },
     "output_type": "display_data"
    }
   ],
   "source": [
    "q1, q2, q3 = data['tomatometer_rating'].quantile([.25,.50,.75])\n",
    "IQR = q3-q1\n",
    "Min = q1 - IQR*1.5\n",
    "Max = q3 + IQR*1.5\n",
    "data_outliers = data[data['tomatometer_rating']<Min]\n",
    "data_outliers = pd.concat([data_outliers, data[data['tomatometer_rating']>Max]])\n",
    "no_outlier_data = data[data['tomatometer_rating']>Min]\n",
    "no_outlier_data = no_outlier_data[no_outlier_data['tomatometer_rating']<Max]\n",
    "print(\"-> Percentage of data loss= \", len(data_outliers['tomatometer_rating'])*100/len(data['tomatometer_rating']))\n",
    "sns.distplot(no_outlier_data['tomatometer_rating'])"
   ]
  },
  {
   "cell_type": "code",
   "execution_count": 73,
   "metadata": {},
   "outputs": [],
   "source": [
    "data = no_outlier_data.copy()"
   ]
  },
  {
   "cell_type": "code",
   "execution_count": 74,
   "metadata": {},
   "outputs": [
    {
     "data": {
      "text/plain": [
       "directors                  0\n",
       "cast                       0\n",
       "runtime_in_minutes         0\n",
       "tomatometer_rating         0\n",
       "tomatometer_count          0\n",
       "audience_rating            0\n",
       "audience_count             0\n",
       "rating__G                  0\n",
       "rating__NC17               0\n",
       "rating__NR                 0\n",
       "rating__PG                 0\n",
       "rating__PG-13              0\n",
       "rating__R                  0\n",
       "Action& Adventure          0\n",
       "Animation                  0\n",
       "Anime& Manga               0\n",
       "ArtHouse& International    0\n",
       "Classics                   0\n",
       "Comedy                     0\n",
       "CultMovies                 0\n",
       "Documentary                0\n",
       "Drama                      0\n",
       "Faith& Spirituality        0\n",
       "Gay& Lesbian               0\n",
       "Horror                     0\n",
       "Kids& Family               0\n",
       "Musical& PerformingArts    0\n",
       "Mystery& Suspense          0\n",
       "Romance                    0\n",
       "ScienceFiction& Fantasy    0\n",
       "SpecialInterest            0\n",
       "Sports& Fitness            0\n",
       "Television                 0\n",
       "Western                    0\n",
       "label                      0\n",
       "dtype: int64"
      ]
     },
     "execution_count": 74,
     "metadata": {},
     "output_type": "execute_result"
    }
   ],
   "source": [
    "data.isnull().sum()"
   ]
  },
  {
   "cell_type": "markdown",
   "metadata": {},
   "source": [
    "# Normalization"
   ]
  },
  {
   "cell_type": "code",
   "execution_count": 75,
   "metadata": {},
   "outputs": [],
   "source": [
    "from sklearn.preprocessing import MinMaxScaler"
   ]
  },
  {
   "cell_type": "code",
   "execution_count": 76,
   "metadata": {},
   "outputs": [],
   "source": [
    "mms = MinMaxScaler()"
   ]
  },
  {
   "cell_type": "code",
   "execution_count": 77,
   "metadata": {},
   "outputs": [],
   "source": [
    "data[[\"runtime_in_minutes\",\"tomatometer_rating\",\"tomatometer_count\",\"audience_rating\",\"audience_count\"]]=mms.fit_transform(data[[\"runtime_in_minutes\",\"tomatometer_rating\",\"tomatometer_count\",\"audience_rating\",\"audience_count\"]])"
   ]
  },
  {
   "cell_type": "code",
   "execution_count": 78,
   "metadata": {},
   "outputs": [
    {
     "data": {
      "text/plain": [
       "count    10056.000000\n",
       "mean        23.358137\n",
       "std         44.500553\n",
       "min       -156.000000\n",
       "25%          3.000000\n",
       "50%         12.000000\n",
       "75%         31.000000\n",
       "max        412.000000\n",
       "Name: label, dtype: float64"
      ]
     },
     "execution_count": 78,
     "metadata": {},
     "output_type": "execute_result"
    }
   ],
   "source": [
    "data['label'].describe()"
   ]
  },
  {
   "cell_type": "code",
   "execution_count": 79,
   "metadata": {},
   "outputs": [
    {
     "data": {
      "text/plain": [
       "23.358137453725387"
      ]
     },
     "execution_count": 79,
     "metadata": {},
     "output_type": "execute_result"
    }
   ],
   "source": [
    "temp=data['label'].mean()\n",
    "temp"
   ]
  },
  {
   "cell_type": "code",
   "execution_count": 80,
   "metadata": {},
   "outputs": [],
   "source": [
    "data['label']=data['label'].apply(lambda x: 1 if x>temp else 0)"
   ]
  },
  {
   "cell_type": "code",
   "execution_count": 81,
   "metadata": {},
   "outputs": [
    {
     "data": {
      "text/plain": [
       "directors                  3209\n",
       "cast                       3209\n",
       "runtime_in_minutes         3209\n",
       "tomatometer_rating         3209\n",
       "tomatometer_count          3209\n",
       "audience_rating            3209\n",
       "audience_count             3209\n",
       "rating__G                  3209\n",
       "rating__NC17               3209\n",
       "rating__NR                 3209\n",
       "rating__PG                 3209\n",
       "rating__PG-13              3209\n",
       "rating__R                  3209\n",
       "Action& Adventure          3209\n",
       "Animation                  3209\n",
       "Anime& Manga               3209\n",
       "ArtHouse& International    3209\n",
       "Classics                   3209\n",
       "Comedy                     3209\n",
       "CultMovies                 3209\n",
       "Documentary                3209\n",
       "Drama                      3209\n",
       "Faith& Spirituality        3209\n",
       "Gay& Lesbian               3209\n",
       "Horror                     3209\n",
       "Kids& Family               3209\n",
       "Musical& PerformingArts    3209\n",
       "Mystery& Suspense          3209\n",
       "Romance                    3209\n",
       "ScienceFiction& Fantasy    3209\n",
       "SpecialInterest            3209\n",
       "Sports& Fitness            3209\n",
       "Television                 3209\n",
       "Western                    3209\n",
       "label                      3209\n",
       "dtype: int64"
      ]
     },
     "execution_count": 81,
     "metadata": {},
     "output_type": "execute_result"
    }
   ],
   "source": [
    "data[data['label']==1].count()"
   ]
  },
  {
   "cell_type": "markdown",
   "metadata": {},
   "source": [
    "# Successful movies - Genre and Rating count"
   ]
  },
  {
   "cell_type": "code",
   "execution_count": 82,
   "metadata": {
    "scrolled": false
   },
   "outputs": [
    {
     "name": "stdout",
     "output_type": "stream",
     "text": [
      "Hit Genre:Drama\n",
      "                      Genre  Count\n",
      "0         Action& Adventure    613\n",
      "1                 Animation    116\n",
      "2              Anime& Manga      4\n",
      "3   ArtHouse& International    477\n",
      "4                  Classics    321\n",
      "5                    Comedy   1035\n",
      "6                CultMovies     12\n",
      "7               Documentary    383\n",
      "8                     Drama   1748\n",
      "9       Faith& Spirituality     14\n",
      "10             Gay& Lesbian     10\n",
      "11                   Horror    337\n",
      "12             Kids& Family    226\n",
      "13  Musical& PerformingArts    182\n",
      "14        Mystery& Suspense    632\n",
      "15                  Romance    346\n",
      "16  ScienceFiction& Fantasy    335\n",
      "17          SpecialInterest    260\n",
      "18          Sports& Fitness     37\n",
      "19               Television     51\n",
      "20                  Western     48\n"
     ]
    },
    {
     "data": {
      "text/plain": [
       "(array([ 0,  1,  2,  3,  4,  5,  6,  7,  8,  9, 10, 11, 12, 13, 14, 15, 16,\n",
       "        17, 18, 19, 20]),\n",
       " <a list of 21 Text major ticklabel objects>)"
      ]
     },
     "execution_count": 82,
     "metadata": {},
     "output_type": "execute_result"
    },
    {
     "data": {
      "image/png": "[encoded data removed]",
      "text/plain": [
       "<Figure size 720x360 with 1 Axes>"
      ]
     },
     "metadata": {
      "needs_background": "light"
     },
     "output_type": "display_data"
    }
   ],
   "source": [
    "dfr=data[data.label==1]\n",
    "col = ['Action& Adventure','Animation','Anime& Manga','ArtHouse& International','Classics','Comedy','CultMovies','Documentary','Drama','Faith& Spirituality','Gay& Lesbian','Horror','Kids& Family','Musical& PerformingArts','Mystery& Suspense',\n",
    "       'Romance','ScienceFiction& Fantasy','SpecialInterest','Sports& Fitness','Television','Western']\n",
    "\n",
    "# dfr.loc[col]\n",
    "l = dict()\n",
    "for i in col:    \n",
    "    l[i] = sum(dfr[i])\n",
    "max_key = max(l, key=l.get)\n",
    "print(\"Hit Genre:\"+ str(max_key))\n",
    "df = pd.DataFrame(list(l.items()),columns = ['Genre','Count'])\n",
    "print (df)\n",
    "plt.figure(figsize=(10,5))\n",
    "sns.barplot(x='Genre',y = 'Count',data=df)\n",
    "plt.xticks(rotation=90)"
   ]
  },
  {
   "cell_type": "code",
   "execution_count": 83,
   "metadata": {},
   "outputs": [
    {
     "name": "stdout",
     "output_type": "stream",
     "text": [
      "A Movie is a success if it is rating__R Rated.\n"
     ]
    },
    {
     "data": {
      "text/plain": [
       "<BarContainer object of 5 artists>"
      ]
     },
     "execution_count": 83,
     "metadata": {},
     "output_type": "execute_result"
    },
    {
     "data": {
      "image/png": "[encoded data removed]",
      "text/plain": [
       "<Figure size 432x288 with 1 Axes>"
      ]
     },
     "metadata": {
      "needs_background": "light"
     },
     "output_type": "display_data"
    }
   ],
   "source": [
    "col = ['rating__G','rating__NC17', 'rating__PG', 'rating__PG-13','rating__R']\n",
    "l = dict()\n",
    "for i in col:    \n",
    "    l[i] = sum(dfr[i])\n",
    "max_key = max(l, key=l.get)\n",
    "print(\"A Movie is a success if it is \"+ str(max_key)+\" Rated.\")\n",
    "plt.bar(l.keys(), l.values())"
   ]
  },
  {
   "cell_type": "code",
   "execution_count": 84,
   "metadata": {},
   "outputs": [],
   "source": [
    "X = data.drop('label', axis = 1).values\n",
    "y = data['label'].values.reshape(-1,1)"
   ]
  },
  {
   "cell_type": "code",
   "execution_count": 85,
   "metadata": {},
   "outputs": [
    {
     "data": {
      "text/plain": [
       "(10056, 35)"
      ]
     },
     "execution_count": 85,
     "metadata": {},
     "output_type": "execute_result"
    }
   ],
   "source": [
    "data.shape"
   ]
  },
  {
   "cell_type": "markdown",
   "metadata": {},
   "source": [
    "# Data Preparation"
   ]
  },
  {
   "cell_type": "code",
   "execution_count": 88,
   "metadata": {},
   "outputs": [],
   "source": [
    "from sklearn.model_selection import train_test_split\n",
    "X_train, X_test, y_train, y_test = train_test_split(X, y, test_size = 0.25, random_state = 22)\n",
    "sm = SMOTE(random_state=12)\n",
    "X_train, y_train = sm.fit_sample(X_train, y_train)\n",
    "from sklearn.metrics import classification_report\n",
    "from sklearn.naive_bayes import GaussianNB\n",
    "classifier_nb = GaussianNB()"
   ]
  },
  {
   "cell_type": "code",
   "execution_count": 89,
   "metadata": {},
   "outputs": [],
   "source": [
    "from sklearn.metrics import accuracy_score\n",
    "from sklearn.neighbors import KNeighborsClassifier\n",
    "classifier_knn = KNeighborsClassifier()"
   ]
  },
  {
   "cell_type": "code",
   "execution_count": 90,
   "metadata": {},
   "outputs": [],
   "source": [
    "# Fitting Logistic Regression to the Training set\n",
    "from sklearn.preprocessing import StandardScaler\n",
    "from sklearn.pipeline import Pipeline\n",
    "from sklearn.model_selection import GridSearchCV\n",
    "from sklearn.linear_model import LogisticRegression\n",
    "classifier_lr = LogisticRegression()"
   ]
  },
  {
   "cell_type": "code",
   "execution_count": 91,
   "metadata": {},
   "outputs": [],
   "source": [
    "from sklearn.ensemble import RandomForestClassifier\n",
    "from sklearn.datasets import make_classification\n",
    "clf = RandomForestClassifier()"
   ]
  },
  {
   "cell_type": "code",
   "execution_count": 98,
   "metadata": {},
   "outputs": [],
   "source": [
    "from sklearn.svm import SVC\n",
    "classifier_svm = SVC()"
   ]
  },
  {
   "cell_type": "markdown",
   "metadata": {},
   "source": [
    "# Cross Validation"
   ]
  },
  {
   "cell_type": "code",
   "execution_count": 92,
   "metadata": {},
   "outputs": [
    {
     "data": {
      "text/plain": [
       "0.49757360077644774"
      ]
     },
     "execution_count": 92,
     "metadata": {},
     "output_type": "execute_result"
    }
   ],
   "source": [
    "from sklearn.model_selection import ShuffleSplit\n",
    "cv = ShuffleSplit(n_splits=5, test_size=0.3, random_state=0)\n",
    "np.mean(cross_val_score(classifier_nb, X_train, y_train.ravel(), cv=cv))"
   ]
  },
  {
   "cell_type": "code",
   "execution_count": 93,
   "metadata": {},
   "outputs": [
    {
     "data": {
      "text/plain": [
       "0.6027822711096732"
      ]
     },
     "execution_count": 93,
     "metadata": {},
     "output_type": "execute_result"
    }
   ],
   "source": [
    "cv = ShuffleSplit(n_splits=5, test_size=0.3, random_state=0)\n",
    "np.mean(cross_val_score(classifier_knn, X_train, y_train.ravel(), cv=cv))"
   ]
  },
  {
   "cell_type": "code",
   "execution_count": 94,
   "metadata": {},
   "outputs": [
    {
     "data": {
      "text/plain": [
       "0.7559365901002912"
      ]
     },
     "execution_count": 94,
     "metadata": {},
     "output_type": "execute_result"
    }
   ],
   "source": [
    "cv = ShuffleSplit(n_splits=5, test_size=0.3, random_state=0)\n",
    "np.mean(cross_val_score(clf, X_train, y_train.ravel(), cv=cv))"
   ]
  },
  {
   "cell_type": "code",
   "execution_count": 95,
   "metadata": {},
   "outputs": [
    {
     "data": {
      "text/plain": [
       "0.494208993853122"
      ]
     },
     "execution_count": 95,
     "metadata": {},
     "output_type": "execute_result"
    }
   ],
   "source": [
    "cv = ShuffleSplit(n_splits=5, test_size=0.3, random_state=0)\n",
    "np.mean(cross_val_score(classifier_lr, X_train, y_train.ravel(), cv=cv))"
   ]
  },
  {
   "cell_type": "code",
   "execution_count": 96,
   "metadata": {},
   "outputs": [
    {
     "data": {
      "text/plain": [
       "0.494208993853122"
      ]
     },
     "execution_count": 96,
     "metadata": {},
     "output_type": "execute_result"
    }
   ],
   "source": [
    "cv = ShuffleSplit(n_splits=5, test_size=0.3, random_state=0)\n",
    "np.mean(cross_val_score(classifier_lr, X_train, y_train.ravel(), cv=cv))"
   ]
  },
  {
   "cell_type": "code",
   "execution_count": 99,
   "metadata": {},
   "outputs": [
    {
     "data": {
      "text/plain": [
       "0.5114849563248139"
      ]
     },
     "execution_count": 99,
     "metadata": {},
     "output_type": "execute_result"
    }
   ],
   "source": [
    "cv = ShuffleSplit(n_splits=5, test_size=0.3, random_state=0)\n",
    "np.mean(cross_val_score(classifier_svm, X_train, y_train.ravel(), cv=cv))"
   ]
  },
  {
   "cell_type": "markdown",
   "metadata": {},
   "source": [
    "# Machine Learning Models"
   ]
  },
  {
   "cell_type": "markdown",
   "metadata": {},
   "source": [
    "# KNN"
   ]
  },
  {
   "cell_type": "code",
   "execution_count": 100,
   "metadata": {},
   "outputs": [
    {
     "name": "stdout",
     "output_type": "stream",
     "text": [
      "Training set:  0.7589788390603767\n",
      "Test set:  0.545346062052506\n",
      "F score:  0.5025984818835016\n",
      "Recall score:  0.5044964132490658\n",
      "Precision score:  0.5041830819214818\n"
     ]
    }
   ],
   "source": [
    "classifier_knn = classifier_knn.fit(X_train, y_train.ravel())\n",
    "y_pred_knn_train = classifier_knn.predict(X_train)\n",
    "accuracy_knn_train = accuracy_score(y_train, y_pred_knn_train)\n",
    "print(\"Training set: \", accuracy_knn_train)\n",
    "\n",
    "y_pred_knn_test = classifier_knn.predict(X_test)\n",
    "accuracy_knn_test = accuracy_score(y_test, y_pred_knn_test)\n",
    "print(\"Test set: \", accuracy_knn_test)\n",
    "\n",
    "from sklearn.metrics import f1_score\n",
    "fscore_knn_test =f1_score(y_test, y_pred_knn_test, average='macro')\n",
    "print(\"F score: \", fscore_knn_test)\n",
    "from sklearn.metrics import recall_score\n",
    "rscore_knn_test =recall_score(y_test, y_pred_knn_test, average='macro')\n",
    "print(\"Recall score: \", rscore_knn_test)\n",
    "from sklearn.metrics import precision_score\n",
    "pscore_knn_test =precision_score(y_test, y_pred_knn_test, average='macro')\n",
    "print(\"Precision score: \", pscore_knn_test)"
   ]
  },
  {
   "cell_type": "code",
   "execution_count": 101,
   "metadata": {},
   "outputs": [
    {
     "data": {
      "image/png": "[encoded data removed]",
      "text/plain": [
       "<Figure size 432x288 with 2 Axes>"
      ]
     },
     "metadata": {
      "needs_background": "light"
     },
     "output_type": "display_data"
    }
   ],
   "source": [
    "from sklearn.metrics import confusion_matrix\n",
    "sns.heatmap(confusion_matrix(y_test, y_pred_knn_test), annot=True, cmap = 'viridis', fmt='.0f')\n",
    "plt.show()"
   ]
  },
  {
   "cell_type": "markdown",
   "metadata": {},
   "source": [
    "# Naive Bayes"
   ]
  },
  {
   "cell_type": "code",
   "execution_count": 102,
   "metadata": {},
   "outputs": [
    {
     "data": {
      "text/plain": [
       "GaussianNB(priors=None, var_smoothing=1e-09)"
      ]
     },
     "execution_count": 102,
     "metadata": {},
     "output_type": "execute_result"
    }
   ],
   "source": [
    "classifier_nb.fit(X_train, y_train.ravel())"
   ]
  },
  {
   "cell_type": "code",
   "execution_count": 103,
   "metadata": {},
   "outputs": [
    {
     "name": "stdout",
     "output_type": "stream",
     "text": [
      "Training set:  0.5080566880217433\n",
      "Test set:  0.5918854415274463\n",
      "F score:  0.5076230348742297\n",
      "Recall score:  0.5095608248373852\n",
      "Precision score:  0.5108824069941453\n"
     ]
    }
   ],
   "source": [
    "from sklearn.metrics import accuracy_score\n",
    "y_pred_nb_train = classifier_nb.predict(X_train)\n",
    "accuracy_nb_train = accuracy_score(y_train, y_pred_nb_train)\n",
    "print(\"Training set: \", accuracy_nb_train)\n",
    "\n",
    "y_pred_nb_test = classifier_nb.predict(X_test)\n",
    "accuracy_nb_test = accuracy_score(y_test, y_pred_nb_test)\n",
    "print(\"Test set: \", accuracy_nb_test)\n",
    "from sklearn.metrics import f1_score\n",
    "fscore_knn_test =f1_score(y_test, y_pred_nb_test, average='macro')\n",
    "print(\"F score: \", fscore_knn_test)\n",
    "\n",
    "from sklearn.metrics import recall_score\n",
    "rscore_knn_test =recall_score(y_test, y_pred_nb_test, average='macro')\n",
    "print(\"Recall score: \", rscore_knn_test)\n",
    "from sklearn.metrics import precision_score\n",
    "pscore_knn_test =precision_score(y_test, y_pred_nb_test, average='macro')\n",
    "print(\"Precision score: \", pscore_knn_test)"
   ]
  },
  {
   "cell_type": "code",
   "execution_count": 104,
   "metadata": {},
   "outputs": [
    {
     "data": {
      "image/png": "[encoded data removed]",
      "text/plain": [
       "<Figure size 432x288 with 2 Axes>"
      ]
     },
     "metadata": {
      "needs_background": "light"
     },
     "output_type": "display_data"
    }
   ],
   "source": [
    "from sklearn.metrics import confusion_matrix\n",
    "sns.heatmap(confusion_matrix(y_test, y_pred_nb_test), annot=True, cmap = 'viridis', fmt='.0f')\n",
    "plt.show()"
   ]
  },
  {
   "cell_type": "markdown",
   "metadata": {},
   "source": [
    "# Random Forest"
   ]
  },
  {
   "cell_type": "code",
   "execution_count": 105,
   "metadata": {},
   "outputs": [
    {
     "data": {
      "text/plain": [
       "RandomForestClassifier(bootstrap=True, ccp_alpha=0.0, class_weight=None,\n",
       "                       criterion='gini', max_depth=None, max_features='auto',\n",
       "                       max_leaf_nodes=None, max_samples=None,\n",
       "                       min_impurity_decrease=0.0, min_impurity_split=None,\n",
       "                       min_samples_leaf=1, min_samples_split=2,\n",
       "                       min_weight_fraction_leaf=0.0, n_estimators=100,\n",
       "                       n_jobs=None, oob_score=False, random_state=None,\n",
       "                       verbose=0, warm_start=False)"
      ]
     },
     "execution_count": 105,
     "metadata": {},
     "output_type": "execute_result"
    }
   ],
   "source": [
    "clf.fit(X_train, y_train.ravel())"
   ]
  },
  {
   "cell_type": "code",
   "execution_count": 106,
   "metadata": {},
   "outputs": [
    {
     "name": "stdout",
     "output_type": "stream",
     "text": [
      "Training set:  1.0\n",
      "Test set:  0.6646778042959427\n",
      "F score:  0.48865588259918824\n",
      "Recall score:  0.5236404080361674\n",
      "Precision score:  0.5647198931234744\n",
      "Specificity score:  0.9274764150943396\n"
     ]
    }
   ],
   "source": [
    "y_pred_rf_train = clf.predict(X_train)\n",
    "accuracy_rf_train = accuracy_score(y_train, y_pred_rf_train)\n",
    "print(\"Training set: \", accuracy_rf_train)\n",
    "\n",
    "y_pred_rf_test = clf.predict(X_test)\n",
    "accuracy_rf_test = accuracy_score(y_test, y_pred_rf_test)\n",
    "print(\"Test set: \", accuracy_rf_test)\n",
    "from sklearn.metrics import f1_score\n",
    "fscore_knn_test =f1_score(y_test, y_pred_rf_test, average='macro')\n",
    "print(\"F score: \", fscore_knn_test)\n",
    "\n",
    "from sklearn.metrics import recall_score\n",
    "rscore_knn_test =recall_score(y_test, y_pred_rf_test, average='macro')\n",
    "print(\"Recall score: \", rscore_knn_test)\n",
    "from sklearn.metrics import precision_score\n",
    "pscore_knn_test =precision_score(y_test, y_pred_rf_test, average='macro')\n",
    "print(\"Precision score: \", pscore_knn_test)\n",
    "from sklearn.metrics import confusion_matrix\n",
    "tn, fp, fn, tp = confusion_matrix(y_test, y_pred_rf_test).ravel()\n",
    "specificity = tn / (tn+fp)\n",
    "print(\"Specificity score: \", specificity)"
   ]
  },
  {
   "cell_type": "code",
   "execution_count": 107,
   "metadata": {},
   "outputs": [
    {
     "data": {
      "image/png": "[encoded data removed]",
      "text/plain": [
       "<Figure size 432x288 with 2 Axes>"
      ]
     },
     "metadata": {
      "needs_background": "light"
     },
     "output_type": "display_data"
    }
   ],
   "source": [
    "from sklearn.metrics import confusion_matrix\n",
    "sns.heatmap(confusion_matrix(y_test, y_pred_rf_test), annot=True, cmap = 'viridis', fmt='.0f')\n",
    "plt.show()\n"
   ]
  },
  {
   "cell_type": "markdown",
   "metadata": {},
   "source": [
    "# Logistic Regression"
   ]
  },
  {
   "cell_type": "code",
   "execution_count": 108,
   "metadata": {},
   "outputs": [
    {
     "data": {
      "text/plain": [
       "LogisticRegression(C=1.0, class_weight=None, dual=False, fit_intercept=True,\n",
       "                   intercept_scaling=1, l1_ratio=None, max_iter=100,\n",
       "                   multi_class='auto', n_jobs=None, penalty='l2',\n",
       "                   random_state=None, solver='lbfgs', tol=0.0001, verbose=0,\n",
       "                   warm_start=False)"
      ]
     },
     "execution_count": 108,
     "metadata": {},
     "output_type": "execute_result"
    }
   ],
   "source": [
    "classifier_lr.fit(X_train, y_train.ravel())"
   ]
  },
  {
   "cell_type": "code",
   "execution_count": 109,
   "metadata": {},
   "outputs": [
    {
     "name": "stdout",
     "output_type": "stream",
     "text": [
      "Training set:  0.5044651523975927\n",
      "Test set:  0.5230708035003978\n",
      "F score:  0.5004473836549762\n",
      "Recall score:  0.5110867797665729\n",
      "Precision score:  0.5097916201149326\n"
     ]
    }
   ],
   "source": [
    "y_pred_lr_train = classifier_lr.predict(X_train)\n",
    "accuracy_lr_train = accuracy_score(y_train, y_pred_lr_train)\n",
    "print(\"Training set: \", accuracy_lr_train)\n",
    "\n",
    "y_pred_lr_test = classifier_lr.predict(X_test)\n",
    "accuracy_lr_test = accuracy_score(y_test, y_pred_lr_test)\n",
    "print(\"Test set: \", accuracy_lr_test)\n",
    "from sklearn.metrics import f1_score\n",
    "fscore_knn_test =f1_score(y_test, y_pred_lr_test, average='macro')\n",
    "print(\"F score: \", fscore_knn_test)\n",
    "from sklearn.metrics import recall_score\n",
    "rscore_knn_test =recall_score(y_test, y_pred_lr_test, average='macro')\n",
    "print(\"Recall score: \", rscore_knn_test)\n",
    "from sklearn.metrics import precision_score\n",
    "pscore_knn_test =precision_score(y_test, y_pred_lr_test, average='macro')\n",
    "print(\"Precision score: \", pscore_knn_test)"
   ]
  },
  {
   "cell_type": "code",
   "execution_count": 110,
   "metadata": {},
   "outputs": [
    {
     "data": {
      "image/png": "[encoded data removed]",
      "text/plain": [
       "<Figure size 432x288 with 2 Axes>"
      ]
     },
     "metadata": {
      "needs_background": "light"
     },
     "output_type": "display_data"
    }
   ],
   "source": [
    "from sklearn.metrics import confusion_matrix\n",
    "sns.heatmap(confusion_matrix(y_test, y_pred_lr_test), annot=True, cmap = 'viridis', fmt='.0f')\n",
    "plt.show()"
   ]
  },
  {
   "cell_type": "markdown",
   "metadata": {},
   "source": [
    "# SVM"
   ]
  },
  {
   "cell_type": "code",
   "execution_count": 111,
   "metadata": {},
   "outputs": [
    {
     "data": {
      "text/plain": [
       "SVC(C=1.0, break_ties=False, cache_size=200, class_weight=None, coef0=0.0,\n",
       "    decision_function_shape='ovr', degree=3, gamma='scale', kernel='rbf',\n",
       "    max_iter=-1, probability=False, random_state=None, shrinking=True,\n",
       "    tol=0.001, verbose=False)"
      ]
     },
     "execution_count": 111,
     "metadata": {},
     "output_type": "execute_result"
    }
   ],
   "source": [
    "classifier_svm.fit(X_train, y_train.ravel())"
   ]
  },
  {
   "cell_type": "code",
   "execution_count": 112,
   "metadata": {},
   "outputs": [
    {
     "name": "stdout",
     "output_type": "stream",
     "text": [
      "Training set:  0.5254319549602019\n",
      "Test set:  0.4343675417661098\n",
      "F score:  0.4338225232621784\n",
      "Recall score:  0.507048801725331\n",
      "Precision score:  0.5074491910173985\n"
     ]
    }
   ],
   "source": [
    "y_pred_svm_train = classifier_svm.predict(X_train)\n",
    "accuracy_svm_train = accuracy_score(y_train, y_pred_svm_train)\n",
    "print(\"Training set: \", accuracy_svm_train)\n",
    "\n",
    "y_pred_svm_test = classifier_svm.predict(X_test)\n",
    "accuracy_svm_test = accuracy_score(y_test, y_pred_svm_test)\n",
    "print(\"Test set: \", accuracy_svm_test)\n",
    "from sklearn.metrics import f1_score\n",
    "fscore_knn_test =f1_score(y_test, y_pred_svm_test, average='macro')\n",
    "print(\"F score: \", fscore_knn_test)\n",
    "from sklearn.metrics import recall_score\n",
    "rscore_knn_test =recall_score(y_test, y_pred_svm_test, average='macro')\n",
    "print(\"Recall score: \", rscore_knn_test)\n",
    "from sklearn.metrics import precision_score\n",
    "pscore_knn_test =precision_score(y_test, y_pred_svm_test, average='macro')\n",
    "print(\"Precision score: \", pscore_knn_test)"
   ]
  },
  {
   "cell_type": "code",
   "execution_count": 113,
   "metadata": {},
   "outputs": [
    {
     "data": {
      "image/png": "[encoded data removed]",
      "text/plain": [
       "<Figure size 432x288 with 2 Axes>"
      ]
     },
     "metadata": {
      "needs_background": "light"
     },
     "output_type": "display_data"
    }
   ],
   "source": [
    "from sklearn.metrics import confusion_matrix\n",
    "sns.heatmap(confusion_matrix(y_test, y_pred_svm_test), annot=True, cmap = 'viridis', fmt='.0f')\n",
    "plt.show()"
   ]
  }
 ],
 "metadata": {
  "kernelspec": {
   "display_name": "Python 3",
   "language": "python",
   "name": "python3"
  },
  "language_info": {
   "codemirror_mode": {
    "name": "ipython",
    "version": 3
   },
   "file_extension": ".py",
   "mimetype": "text/x-python",
   "name": "python",
   "nbconvert_exporter": "python",
   "pygments_lexer": "ipython3",
   "version": "3.8.2"
  }
 },
 "nbformat": 4,
 "nbformat_minor": 4
}
