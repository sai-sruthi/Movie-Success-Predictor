{
 "cells": [
  {
   "cell_type": "code",
   "execution_count": 1,
   "metadata": {},
   "outputs": [
    {
     "name": "stdout",
     "output_type": "stream",
     "text": [
      "Requirement already satisfied: imblearn in /opt/anaconda3/lib/python3.7/site-packages (0.0)\n",
      "Requirement already satisfied: imbalanced-learn in /opt/anaconda3/lib/python3.7/site-packages (from imblearn) (0.6.2)\n",
      "Requirement already satisfied: numpy>=1.11 in /opt/anaconda3/lib/python3.7/site-packages (from imbalanced-learn->imblearn) (1.18.1)\n",
      "Requirement already satisfied: joblib>=0.11 in /opt/anaconda3/lib/python3.7/site-packages (from imbalanced-learn->imblearn) (0.14.1)\n",
      "Requirement already satisfied: scikit-learn>=0.22 in /opt/anaconda3/lib/python3.7/site-packages (from imbalanced-learn->imblearn) (0.22.1)\n",
      "Requirement already satisfied: scipy>=0.17 in /opt/anaconda3/lib/python3.7/site-packages (from imbalanced-learn->imblearn) (1.4.1)\n",
      "Note: you may need to restart the kernel to use updated packages.\n"
     ]
    }
   ],
   "source": [
    "pip install imblearn"
   ]
  },
  {
   "cell_type": "code",
   "execution_count": 2,
   "metadata": {},
   "outputs": [],
   "source": [
    "from mpl_toolkits.mplot3d import Axes3D\n",
    "from sklearn.preprocessing import StandardScaler\n",
    "import matplotlib.pyplot as plt # plotting\n",
    "import numpy as np # linear algebra\n",
    "\n",
    "import os # accessing directory structure\n",
    "import pandas as pd # data processing, CSV file I/O (e.g. pd.read_csv)\n",
    "import seaborn as sns\n",
    "import random\n",
    "from imblearn.over_sampling import SMOTE\n",
    "import sklearn\n",
    "from sklearn.model_selection import train_test_split,cross_validate,KFold,StratifiedKFold\n",
    "from sklearn.model_selection import cross_val_score,cross_val_predict"
   ]
  },
  {
   "cell_type": "code",
   "execution_count": 3,
   "metadata": {},
   "outputs": [],
   "source": [
    "data = pd.read_csv('rotten_tomatoes_movies.csv')\n",
    "tag = pd.read_csv('tag.csv')"
   ]
  },
  {
   "cell_type": "code",
   "execution_count": 4,
   "metadata": {},
   "outputs": [],
   "source": [
    "data=data.drop(['directors'],axis=1)"
   ]
  },
  {
   "cell_type": "code",
   "execution_count": 5,
   "metadata": {},
   "outputs": [
    {
     "data": {
      "text/plain": [
       "rotten_tomatoes_link                0\n",
       "movie_title                         0\n",
       "movie_info                         24\n",
       "critics_consensus                8329\n",
       "poster_image_url                    0\n",
       "rating                              0\n",
       "genre                              17\n",
       "writers                          1349\n",
       "cast                              284\n",
       "in_theaters_date                  815\n",
       "on_streaming_date                   2\n",
       "runtime_in_minutes                155\n",
       "studio_name                       416\n",
       "tomatometer_status                  0\n",
       "tomatometer_rating                  0\n",
       "tomatometer_count                   0\n",
       "audience_status                   252\n",
       "audience_rating                   252\n",
       "audience_count                    252\n",
       "audience_top_critics_count          0\n",
       "audience_fresh_critics_count        0\n",
       "audience_rotten_critics_count       0\n",
       "dtype: int64"
      ]
     },
     "execution_count": 5,
     "metadata": {},
     "output_type": "execute_result"
    }
   ],
   "source": [
    "data.isnull().sum()"
   ]
  },
  {
   "cell_type": "code",
   "execution_count": 6,
   "metadata": {},
   "outputs": [
    {
     "data": {
      "text/plain": [
       "R         6136\n",
       "NR        4862\n",
       "PG-13     2885\n",
       "PG        2062\n",
       "G          652\n",
       "NC17        37\n",
       "PG-13)       3\n",
       "R)           1\n",
       "Name: rating, dtype: int64"
      ]
     },
     "execution_count": 6,
     "metadata": {},
     "output_type": "execute_result"
    }
   ],
   "source": [
    "data['rating'].value_counts()"
   ]
  },
  {
   "cell_type": "code",
   "execution_count": 7,
   "metadata": {},
   "outputs": [],
   "source": [
    "\n",
    "data=data.replace({'rating': {'PG-13)': 'PG-13', 'R)': 'R'}})\n"
   ]
  },
  {
   "cell_type": "code",
   "execution_count": 8,
   "metadata": {},
   "outputs": [
    {
     "data": {
      "text/plain": [
       "R        6137\n",
       "NR       4862\n",
       "PG-13    2888\n",
       "PG       2062\n",
       "G         652\n",
       "NC17       37\n",
       "Name: rating, dtype: int64"
      ]
     },
     "execution_count": 8,
     "metadata": {},
     "output_type": "execute_result"
    }
   ],
   "source": [
    "data['rating'].value_counts()"
   ]
  },
  {
   "cell_type": "code",
   "execution_count": 9,
   "metadata": {},
   "outputs": [],
   "source": [
    "from sklearn import preprocessing\n",
    "label_encoder = preprocessing.LabelEncoder()\n",
    "data['tomatometer_status'] = label_encoder.fit_transform(data['tomatometer_status'])"
   ]
  },
  {
   "cell_type": "code",
   "execution_count": 10,
   "metadata": {},
   "outputs": [
    {
     "data": {
      "text/html": [
       "<div>\n",
       "<style scoped>\n",
       "    .dataframe tbody tr th:only-of-type {\n",
       "        vertical-align: middle;\n",
       "    }\n",
       "\n",
       "    .dataframe tbody tr th {\n",
       "        vertical-align: top;\n",
       "    }\n",
       "\n",
       "    .dataframe thead th {\n",
       "        text-align: right;\n",
       "    }\n",
       "</style>\n",
       "<table border=\"1\" class=\"dataframe\">\n",
       "  <thead>\n",
       "    <tr style=\"text-align: right;\">\n",
       "      <th></th>\n",
       "      <th>rotten_tomatoes_link</th>\n",
       "      <th>movie_title</th>\n",
       "      <th>movie_info</th>\n",
       "      <th>critics_consensus</th>\n",
       "      <th>poster_image_url</th>\n",
       "      <th>rating</th>\n",
       "      <th>genre</th>\n",
       "      <th>writers</th>\n",
       "      <th>cast</th>\n",
       "      <th>in_theaters_date</th>\n",
       "      <th>...</th>\n",
       "      <th>studio_name</th>\n",
       "      <th>tomatometer_status</th>\n",
       "      <th>tomatometer_rating</th>\n",
       "      <th>tomatometer_count</th>\n",
       "      <th>audience_status</th>\n",
       "      <th>audience_rating</th>\n",
       "      <th>audience_count</th>\n",
       "      <th>audience_top_critics_count</th>\n",
       "      <th>audience_fresh_critics_count</th>\n",
       "      <th>audience_rotten_critics_count</th>\n",
       "    </tr>\n",
       "  </thead>\n",
       "  <tbody>\n",
       "    <tr>\n",
       "      <th>0</th>\n",
       "      <td>/m/0814255</td>\n",
       "      <td>Percy Jackson &amp; the Olympians: The Lightning T...</td>\n",
       "      <td>A teenager discovers he's the descendant of a ...</td>\n",
       "      <td>Though it may seem like just another Harry Pot...</td>\n",
       "      <td>https://resizing.flixster.com/p1veUpQ4ktsSHtRu...</td>\n",
       "      <td>PG</td>\n",
       "      <td>Action &amp; Adventure, Comedy, Drama, Science Fic...</td>\n",
       "      <td>Craig Titley</td>\n",
       "      <td>Logan Lerman, Brandon T. Jackson, Alexandra Da...</td>\n",
       "      <td>2010-02-12</td>\n",
       "      <td>...</td>\n",
       "      <td>20th Century Fox</td>\n",
       "      <td>2</td>\n",
       "      <td>49</td>\n",
       "      <td>144</td>\n",
       "      <td>Spilled</td>\n",
       "      <td>53.0</td>\n",
       "      <td>254287.0</td>\n",
       "      <td>38</td>\n",
       "      <td>71</td>\n",
       "      <td>73</td>\n",
       "    </tr>\n",
       "    <tr>\n",
       "      <th>1</th>\n",
       "      <td>/m/0878835</td>\n",
       "      <td>Please Give</td>\n",
       "      <td>Kate has a lot on her mind. There's the ethics...</td>\n",
       "      <td>Nicole Holofcener's newest might seem slight i...</td>\n",
       "      <td>https://resizing.flixster.com/0AbudQ4KsB4BeXSB...</td>\n",
       "      <td>R</td>\n",
       "      <td>Comedy</td>\n",
       "      <td>Nicole Holofcener</td>\n",
       "      <td>Catherine Keener, Amanda Peet, Oliver Platt, R...</td>\n",
       "      <td>2010-04-30</td>\n",
       "      <td>...</td>\n",
       "      <td>Sony Pictures Classics</td>\n",
       "      <td>0</td>\n",
       "      <td>86</td>\n",
       "      <td>140</td>\n",
       "      <td>Upright</td>\n",
       "      <td>64.0</td>\n",
       "      <td>11567.0</td>\n",
       "      <td>43</td>\n",
       "      <td>121</td>\n",
       "      <td>19</td>\n",
       "    </tr>\n",
       "    <tr>\n",
       "      <th>2</th>\n",
       "      <td>/m/10</td>\n",
       "      <td>10</td>\n",
       "      <td>Blake Edwards' 10 stars Dudley Moore as George...</td>\n",
       "      <td>NaN</td>\n",
       "      <td>https://resizing.flixster.com/mF0dxH6UTa0FdkMs...</td>\n",
       "      <td>R</td>\n",
       "      <td>Comedy, Romance</td>\n",
       "      <td>Blake Edwards</td>\n",
       "      <td>Dudley Moore, Bo Derek, Julie Andrews, Robert ...</td>\n",
       "      <td>1979-10-05</td>\n",
       "      <td>...</td>\n",
       "      <td>Waner Bros.</td>\n",
       "      <td>1</td>\n",
       "      <td>68</td>\n",
       "      <td>22</td>\n",
       "      <td>Spilled</td>\n",
       "      <td>53.0</td>\n",
       "      <td>14670.0</td>\n",
       "      <td>2</td>\n",
       "      <td>15</td>\n",
       "      <td>7</td>\n",
       "    </tr>\n",
       "    <tr>\n",
       "      <th>3</th>\n",
       "      <td>/m/1000013-12_angry_men</td>\n",
       "      <td>12 Angry Men (Twelve Angry Men)</td>\n",
       "      <td>A Puerto Rican youth is on trial for murder, a...</td>\n",
       "      <td>Sidney Lumet's feature debut is a superbly wri...</td>\n",
       "      <td>https://resizing.flixster.com/u-8xAyGaDVvROLiR...</td>\n",
       "      <td>NR</td>\n",
       "      <td>Classics, Drama</td>\n",
       "      <td>Reginald Rose</td>\n",
       "      <td>Martin Balsam, John Fiedler, Lee J. Cobb, E.G....</td>\n",
       "      <td>1957-04-13</td>\n",
       "      <td>...</td>\n",
       "      <td>Criterion Collection</td>\n",
       "      <td>0</td>\n",
       "      <td>100</td>\n",
       "      <td>51</td>\n",
       "      <td>Upright</td>\n",
       "      <td>97.0</td>\n",
       "      <td>105000.0</td>\n",
       "      <td>6</td>\n",
       "      <td>51</td>\n",
       "      <td>0</td>\n",
       "    </tr>\n",
       "    <tr>\n",
       "      <th>4</th>\n",
       "      <td>/m/1000079-20000_leagues_under_the_sea</td>\n",
       "      <td>20,000 Leagues Under The Sea</td>\n",
       "      <td>This 1954 Disney version of Jules Verne's 20,0...</td>\n",
       "      <td>One of Disney's finest live-action adventures,...</td>\n",
       "      <td>https://resizing.flixster.com/FKExgYBHu07XLoil...</td>\n",
       "      <td>G</td>\n",
       "      <td>Action &amp; Adventure, Drama, Kids &amp; Family</td>\n",
       "      <td>Earl Felton</td>\n",
       "      <td>James Mason, Kirk Douglas, Paul Lukas, Peter L...</td>\n",
       "      <td>1954-01-01</td>\n",
       "      <td>...</td>\n",
       "      <td>Disney</td>\n",
       "      <td>1</td>\n",
       "      <td>89</td>\n",
       "      <td>27</td>\n",
       "      <td>Upright</td>\n",
       "      <td>74.0</td>\n",
       "      <td>68860.0</td>\n",
       "      <td>5</td>\n",
       "      <td>24</td>\n",
       "      <td>3</td>\n",
       "    </tr>\n",
       "  </tbody>\n",
       "</table>\n",
       "<p>5 rows × 22 columns</p>\n",
       "</div>"
      ],
      "text/plain": [
       "                     rotten_tomatoes_link  \\\n",
       "0                              /m/0814255   \n",
       "1                              /m/0878835   \n",
       "2                                   /m/10   \n",
       "3                 /m/1000013-12_angry_men   \n",
       "4  /m/1000079-20000_leagues_under_the_sea   \n",
       "\n",
       "                                         movie_title  \\\n",
       "0  Percy Jackson & the Olympians: The Lightning T...   \n",
       "1                                        Please Give   \n",
       "2                                                 10   \n",
       "3                    12 Angry Men (Twelve Angry Men)   \n",
       "4                       20,000 Leagues Under The Sea   \n",
       "\n",
       "                                          movie_info  \\\n",
       "0  A teenager discovers he's the descendant of a ...   \n",
       "1  Kate has a lot on her mind. There's the ethics...   \n",
       "2  Blake Edwards' 10 stars Dudley Moore as George...   \n",
       "3  A Puerto Rican youth is on trial for murder, a...   \n",
       "4  This 1954 Disney version of Jules Verne's 20,0...   \n",
       "\n",
       "                                   critics_consensus  \\\n",
       "0  Though it may seem like just another Harry Pot...   \n",
       "1  Nicole Holofcener's newest might seem slight i...   \n",
       "2                                                NaN   \n",
       "3  Sidney Lumet's feature debut is a superbly wri...   \n",
       "4  One of Disney's finest live-action adventures,...   \n",
       "\n",
       "                                    poster_image_url rating  \\\n",
       "0  https://resizing.flixster.com/p1veUpQ4ktsSHtRu...     PG   \n",
       "1  https://resizing.flixster.com/0AbudQ4KsB4BeXSB...      R   \n",
       "2  https://resizing.flixster.com/mF0dxH6UTa0FdkMs...      R   \n",
       "3  https://resizing.flixster.com/u-8xAyGaDVvROLiR...     NR   \n",
       "4  https://resizing.flixster.com/FKExgYBHu07XLoil...      G   \n",
       "\n",
       "                                               genre            writers  \\\n",
       "0  Action & Adventure, Comedy, Drama, Science Fic...       Craig Titley   \n",
       "1                                             Comedy  Nicole Holofcener   \n",
       "2                                    Comedy, Romance      Blake Edwards   \n",
       "3                                    Classics, Drama      Reginald Rose   \n",
       "4           Action & Adventure, Drama, Kids & Family        Earl Felton   \n",
       "\n",
       "                                                cast in_theaters_date  ...  \\\n",
       "0  Logan Lerman, Brandon T. Jackson, Alexandra Da...       2010-02-12  ...   \n",
       "1  Catherine Keener, Amanda Peet, Oliver Platt, R...       2010-04-30  ...   \n",
       "2  Dudley Moore, Bo Derek, Julie Andrews, Robert ...       1979-10-05  ...   \n",
       "3  Martin Balsam, John Fiedler, Lee J. Cobb, E.G....       1957-04-13  ...   \n",
       "4  James Mason, Kirk Douglas, Paul Lukas, Peter L...       1954-01-01  ...   \n",
       "\n",
       "              studio_name  tomatometer_status tomatometer_rating  \\\n",
       "0        20th Century Fox                   2                 49   \n",
       "1  Sony Pictures Classics                   0                 86   \n",
       "2             Waner Bros.                   1                 68   \n",
       "3    Criterion Collection                   0                100   \n",
       "4                  Disney                   1                 89   \n",
       "\n",
       "   tomatometer_count  audience_status  audience_rating audience_count  \\\n",
       "0                144          Spilled             53.0       254287.0   \n",
       "1                140          Upright             64.0        11567.0   \n",
       "2                 22          Spilled             53.0        14670.0   \n",
       "3                 51          Upright             97.0       105000.0   \n",
       "4                 27          Upright             74.0        68860.0   \n",
       "\n",
       "   audience_top_critics_count  audience_fresh_critics_count  \\\n",
       "0                          38                            71   \n",
       "1                          43                           121   \n",
       "2                           2                            15   \n",
       "3                           6                            51   \n",
       "4                           5                            24   \n",
       "\n",
       "   audience_rotten_critics_count  \n",
       "0                             73  \n",
       "1                             19  \n",
       "2                              7  \n",
       "3                              0  \n",
       "4                              3  \n",
       "\n",
       "[5 rows x 22 columns]"
      ]
     },
     "execution_count": 10,
     "metadata": {},
     "output_type": "execute_result"
    }
   ],
   "source": [
    "data.head(5)"
   ]
  },
  {
   "cell_type": "code",
   "execution_count": 11,
   "metadata": {},
   "outputs": [
    {
     "data": {
      "text/html": [
       "<div>\n",
       "<style scoped>\n",
       "    .dataframe tbody tr th:only-of-type {\n",
       "        vertical-align: middle;\n",
       "    }\n",
       "\n",
       "    .dataframe tbody tr th {\n",
       "        vertical-align: top;\n",
       "    }\n",
       "\n",
       "    .dataframe thead th {\n",
       "        text-align: right;\n",
       "    }\n",
       "</style>\n",
       "<table border=\"1\" class=\"dataframe\">\n",
       "  <thead>\n",
       "    <tr style=\"text-align: right;\">\n",
       "      <th></th>\n",
       "      <th>runtime_in_minutes</th>\n",
       "      <th>tomatometer_status</th>\n",
       "      <th>tomatometer_rating</th>\n",
       "      <th>tomatometer_count</th>\n",
       "      <th>audience_rating</th>\n",
       "      <th>audience_count</th>\n",
       "      <th>audience_top_critics_count</th>\n",
       "      <th>audience_fresh_critics_count</th>\n",
       "      <th>audience_rotten_critics_count</th>\n",
       "    </tr>\n",
       "  </thead>\n",
       "  <tbody>\n",
       "    <tr>\n",
       "      <th>runtime_in_minutes</th>\n",
       "      <td>1.000000</td>\n",
       "      <td>-0.105393</td>\n",
       "      <td>0.071270</td>\n",
       "      <td>0.191975</td>\n",
       "      <td>0.168507</td>\n",
       "      <td>0.048799</td>\n",
       "      <td>0.164626</td>\n",
       "      <td>0.190409</td>\n",
       "      <td>0.101849</td>\n",
       "    </tr>\n",
       "    <tr>\n",
       "      <th>tomatometer_status</th>\n",
       "      <td>-0.105393</td>\n",
       "      <td>1.000000</td>\n",
       "      <td>-0.806840</td>\n",
       "      <td>-0.275054</td>\n",
       "      <td>-0.582228</td>\n",
       "      <td>-0.042049</td>\n",
       "      <td>-0.262116</td>\n",
       "      <td>-0.534741</td>\n",
       "      <td>0.296627</td>\n",
       "    </tr>\n",
       "    <tr>\n",
       "      <th>tomatometer_rating</th>\n",
       "      <td>0.071270</td>\n",
       "      <td>-0.806840</td>\n",
       "      <td>1.000000</td>\n",
       "      <td>0.079565</td>\n",
       "      <td>0.660111</td>\n",
       "      <td>0.014426</td>\n",
       "      <td>0.049651</td>\n",
       "      <td>0.344220</td>\n",
       "      <td>-0.406547</td>\n",
       "    </tr>\n",
       "    <tr>\n",
       "      <th>tomatometer_count</th>\n",
       "      <td>0.191975</td>\n",
       "      <td>-0.275054</td>\n",
       "      <td>0.079565</td>\n",
       "      <td>1.000000</td>\n",
       "      <td>0.141012</td>\n",
       "      <td>0.132686</td>\n",
       "      <td>0.928250</td>\n",
       "      <td>0.902671</td>\n",
       "      <td>0.684753</td>\n",
       "    </tr>\n",
       "    <tr>\n",
       "      <th>audience_rating</th>\n",
       "      <td>0.168507</td>\n",
       "      <td>-0.582228</td>\n",
       "      <td>0.660111</td>\n",
       "      <td>0.141012</td>\n",
       "      <td>1.000000</td>\n",
       "      <td>0.022812</td>\n",
       "      <td>0.127383</td>\n",
       "      <td>0.312270</td>\n",
       "      <td>-0.217062</td>\n",
       "    </tr>\n",
       "    <tr>\n",
       "      <th>audience_count</th>\n",
       "      <td>0.048799</td>\n",
       "      <td>-0.042049</td>\n",
       "      <td>0.014426</td>\n",
       "      <td>0.132686</td>\n",
       "      <td>0.022812</td>\n",
       "      <td>1.000000</td>\n",
       "      <td>0.129592</td>\n",
       "      <td>0.125137</td>\n",
       "      <td>0.081453</td>\n",
       "    </tr>\n",
       "    <tr>\n",
       "      <th>audience_top_critics_count</th>\n",
       "      <td>0.164626</td>\n",
       "      <td>-0.262116</td>\n",
       "      <td>0.049651</td>\n",
       "      <td>0.928250</td>\n",
       "      <td>0.127383</td>\n",
       "      <td>0.129592</td>\n",
       "      <td>1.000000</td>\n",
       "      <td>0.805213</td>\n",
       "      <td>0.691071</td>\n",
       "    </tr>\n",
       "    <tr>\n",
       "      <th>audience_fresh_critics_count</th>\n",
       "      <td>0.190409</td>\n",
       "      <td>-0.534741</td>\n",
       "      <td>0.344220</td>\n",
       "      <td>0.902671</td>\n",
       "      <td>0.312270</td>\n",
       "      <td>0.125137</td>\n",
       "      <td>0.805213</td>\n",
       "      <td>1.000000</td>\n",
       "      <td>0.304512</td>\n",
       "    </tr>\n",
       "    <tr>\n",
       "      <th>audience_rotten_critics_count</th>\n",
       "      <td>0.101849</td>\n",
       "      <td>0.296627</td>\n",
       "      <td>-0.406547</td>\n",
       "      <td>0.684753</td>\n",
       "      <td>-0.217062</td>\n",
       "      <td>0.081453</td>\n",
       "      <td>0.691071</td>\n",
       "      <td>0.304512</td>\n",
       "      <td>1.000000</td>\n",
       "    </tr>\n",
       "  </tbody>\n",
       "</table>\n",
       "</div>"
      ],
      "text/plain": [
       "                               runtime_in_minutes  tomatometer_status  \\\n",
       "runtime_in_minutes                       1.000000           -0.105393   \n",
       "tomatometer_status                      -0.105393            1.000000   \n",
       "tomatometer_rating                       0.071270           -0.806840   \n",
       "tomatometer_count                        0.191975           -0.275054   \n",
       "audience_rating                          0.168507           -0.582228   \n",
       "audience_count                           0.048799           -0.042049   \n",
       "audience_top_critics_count               0.164626           -0.262116   \n",
       "audience_fresh_critics_count             0.190409           -0.534741   \n",
       "audience_rotten_critics_count            0.101849            0.296627   \n",
       "\n",
       "                               tomatometer_rating  tomatometer_count  \\\n",
       "runtime_in_minutes                       0.071270           0.191975   \n",
       "tomatometer_status                      -0.806840          -0.275054   \n",
       "tomatometer_rating                       1.000000           0.079565   \n",
       "tomatometer_count                        0.079565           1.000000   \n",
       "audience_rating                          0.660111           0.141012   \n",
       "audience_count                           0.014426           0.132686   \n",
       "audience_top_critics_count               0.049651           0.928250   \n",
       "audience_fresh_critics_count             0.344220           0.902671   \n",
       "audience_rotten_critics_count           -0.406547           0.684753   \n",
       "\n",
       "                               audience_rating  audience_count  \\\n",
       "runtime_in_minutes                    0.168507        0.048799   \n",
       "tomatometer_status                   -0.582228       -0.042049   \n",
       "tomatometer_rating                    0.660111        0.014426   \n",
       "tomatometer_count                     0.141012        0.132686   \n",
       "audience_rating                       1.000000        0.022812   \n",
       "audience_count                        0.022812        1.000000   \n",
       "audience_top_critics_count            0.127383        0.129592   \n",
       "audience_fresh_critics_count          0.312270        0.125137   \n",
       "audience_rotten_critics_count        -0.217062        0.081453   \n",
       "\n",
       "                               audience_top_critics_count  \\\n",
       "runtime_in_minutes                               0.164626   \n",
       "tomatometer_status                              -0.262116   \n",
       "tomatometer_rating                               0.049651   \n",
       "tomatometer_count                                0.928250   \n",
       "audience_rating                                  0.127383   \n",
       "audience_count                                   0.129592   \n",
       "audience_top_critics_count                       1.000000   \n",
       "audience_fresh_critics_count                     0.805213   \n",
       "audience_rotten_critics_count                    0.691071   \n",
       "\n",
       "                               audience_fresh_critics_count  \\\n",
       "runtime_in_minutes                                 0.190409   \n",
       "tomatometer_status                                -0.534741   \n",
       "tomatometer_rating                                 0.344220   \n",
       "tomatometer_count                                  0.902671   \n",
       "audience_rating                                    0.312270   \n",
       "audience_count                                     0.125137   \n",
       "audience_top_critics_count                         0.805213   \n",
       "audience_fresh_critics_count                       1.000000   \n",
       "audience_rotten_critics_count                      0.304512   \n",
       "\n",
       "                               audience_rotten_critics_count  \n",
       "runtime_in_minutes                                  0.101849  \n",
       "tomatometer_status                                  0.296627  \n",
       "tomatometer_rating                                 -0.406547  \n",
       "tomatometer_count                                   0.684753  \n",
       "audience_rating                                    -0.217062  \n",
       "audience_count                                      0.081453  \n",
       "audience_top_critics_count                          0.691071  \n",
       "audience_fresh_critics_count                        0.304512  \n",
       "audience_rotten_critics_count                       1.000000  "
      ]
     },
     "execution_count": 11,
     "metadata": {},
     "output_type": "execute_result"
    }
   ],
   "source": [
    "data.corr()"
   ]
  },
  {
   "cell_type": "code",
   "execution_count": 12,
   "metadata": {},
   "outputs": [
    {
     "data": {
      "text/plain": [
       "Upright    8953\n",
       "Spilled    7433\n",
       "Name: audience_status, dtype: int64"
      ]
     },
     "execution_count": 12,
     "metadata": {},
     "output_type": "execute_result"
    }
   ],
   "source": [
    "data['audience_status'].value_counts()"
   ]
  },
  {
   "cell_type": "code",
   "execution_count": 13,
   "metadata": {},
   "outputs": [],
   "source": [
    "x={'Upright':1,'Spilled':2}\n",
    "data['audience_status']=data['audience_status'].str.strip().map(x)\n"
   ]
  },
  {
   "cell_type": "code",
   "execution_count": 14,
   "metadata": {},
   "outputs": [
    {
     "data": {
      "text/plain": [
       "2"
      ]
     },
     "execution_count": 14,
     "metadata": {},
     "output_type": "execute_result"
    }
   ],
   "source": [
    "data['audience_status'].nunique()"
   ]
  },
  {
   "cell_type": "code",
   "execution_count": 15,
   "metadata": {},
   "outputs": [
    {
     "data": {
      "image/png": "[encoded data removed]",
      "text/plain": [
       "<Figure size 2304x720 with 2 Axes>"
      ]
     },
     "metadata": {
      "needs_background": "light"
     },
     "output_type": "display_data"
    }
   ],
   "source": [
    "colormap = plt.cm.RdBu\n",
    "plt.figure(figsize=(32,10))\n",
    "plt.title('Pearson Correlation of Features', y=1.05, size=15)\n",
    "sns_plot=sns.heatmap(data.corr(),linewidths=0.1,vmax=1.0, \n",
    "            square=True, cmap=colormap, linecolor='white', annot=True)\n",
    "sns_plot.figure.savefig(\"output.png\")"
   ]
  },
  {
   "cell_type": "code",
   "execution_count": 16,
   "metadata": {},
   "outputs": [],
   "source": [
    "data= data.drop(['movie_info','critics_consensus','poster_image_url','writers','on_streaming_date','in_theaters_date','studio_name','tomatometer_status','audience_status','audience_top_critics_count','audience_fresh_critics_count','audience_rotten_critics_count'],axis=1)"
   ]
  },
  {
   "cell_type": "code",
   "execution_count": 17,
   "metadata": {},
   "outputs": [
    {
     "data": {
      "text/html": [
       "<div>\n",
       "<style scoped>\n",
       "    .dataframe tbody tr th:only-of-type {\n",
       "        vertical-align: middle;\n",
       "    }\n",
       "\n",
       "    .dataframe tbody tr th {\n",
       "        vertical-align: top;\n",
       "    }\n",
       "\n",
       "    .dataframe thead th {\n",
       "        text-align: right;\n",
       "    }\n",
       "</style>\n",
       "<table border=\"1\" class=\"dataframe\">\n",
       "  <thead>\n",
       "    <tr style=\"text-align: right;\">\n",
       "      <th></th>\n",
       "      <th>rotten_tomatoes_link</th>\n",
       "      <th>movie_title</th>\n",
       "      <th>rating</th>\n",
       "      <th>genre</th>\n",
       "      <th>cast</th>\n",
       "      <th>runtime_in_minutes</th>\n",
       "      <th>tomatometer_rating</th>\n",
       "      <th>tomatometer_count</th>\n",
       "      <th>audience_rating</th>\n",
       "      <th>audience_count</th>\n",
       "    </tr>\n",
       "  </thead>\n",
       "  <tbody>\n",
       "    <tr>\n",
       "      <th>0</th>\n",
       "      <td>/m/0814255</td>\n",
       "      <td>Percy Jackson &amp; the Olympians: The Lightning T...</td>\n",
       "      <td>PG</td>\n",
       "      <td>Action &amp; Adventure, Comedy, Drama, Science Fic...</td>\n",
       "      <td>Logan Lerman, Brandon T. Jackson, Alexandra Da...</td>\n",
       "      <td>83.0</td>\n",
       "      <td>49</td>\n",
       "      <td>144</td>\n",
       "      <td>53.0</td>\n",
       "      <td>254287.0</td>\n",
       "    </tr>\n",
       "    <tr>\n",
       "      <th>1</th>\n",
       "      <td>/m/0878835</td>\n",
       "      <td>Please Give</td>\n",
       "      <td>R</td>\n",
       "      <td>Comedy</td>\n",
       "      <td>Catherine Keener, Amanda Peet, Oliver Platt, R...</td>\n",
       "      <td>90.0</td>\n",
       "      <td>86</td>\n",
       "      <td>140</td>\n",
       "      <td>64.0</td>\n",
       "      <td>11567.0</td>\n",
       "    </tr>\n",
       "    <tr>\n",
       "      <th>2</th>\n",
       "      <td>/m/10</td>\n",
       "      <td>10</td>\n",
       "      <td>R</td>\n",
       "      <td>Comedy, Romance</td>\n",
       "      <td>Dudley Moore, Bo Derek, Julie Andrews, Robert ...</td>\n",
       "      <td>118.0</td>\n",
       "      <td>68</td>\n",
       "      <td>22</td>\n",
       "      <td>53.0</td>\n",
       "      <td>14670.0</td>\n",
       "    </tr>\n",
       "    <tr>\n",
       "      <th>3</th>\n",
       "      <td>/m/1000013-12_angry_men</td>\n",
       "      <td>12 Angry Men (Twelve Angry Men)</td>\n",
       "      <td>NR</td>\n",
       "      <td>Classics, Drama</td>\n",
       "      <td>Martin Balsam, John Fiedler, Lee J. Cobb, E.G....</td>\n",
       "      <td>95.0</td>\n",
       "      <td>100</td>\n",
       "      <td>51</td>\n",
       "      <td>97.0</td>\n",
       "      <td>105000.0</td>\n",
       "    </tr>\n",
       "    <tr>\n",
       "      <th>4</th>\n",
       "      <td>/m/1000079-20000_leagues_under_the_sea</td>\n",
       "      <td>20,000 Leagues Under The Sea</td>\n",
       "      <td>G</td>\n",
       "      <td>Action &amp; Adventure, Drama, Kids &amp; Family</td>\n",
       "      <td>James Mason, Kirk Douglas, Paul Lukas, Peter L...</td>\n",
       "      <td>127.0</td>\n",
       "      <td>89</td>\n",
       "      <td>27</td>\n",
       "      <td>74.0</td>\n",
       "      <td>68860.0</td>\n",
       "    </tr>\n",
       "  </tbody>\n",
       "</table>\n",
       "</div>"
      ],
      "text/plain": [
       "                     rotten_tomatoes_link  \\\n",
       "0                              /m/0814255   \n",
       "1                              /m/0878835   \n",
       "2                                   /m/10   \n",
       "3                 /m/1000013-12_angry_men   \n",
       "4  /m/1000079-20000_leagues_under_the_sea   \n",
       "\n",
       "                                         movie_title rating  \\\n",
       "0  Percy Jackson & the Olympians: The Lightning T...     PG   \n",
       "1                                        Please Give      R   \n",
       "2                                                 10      R   \n",
       "3                    12 Angry Men (Twelve Angry Men)     NR   \n",
       "4                       20,000 Leagues Under The Sea      G   \n",
       "\n",
       "                                               genre  \\\n",
       "0  Action & Adventure, Comedy, Drama, Science Fic...   \n",
       "1                                             Comedy   \n",
       "2                                    Comedy, Romance   \n",
       "3                                    Classics, Drama   \n",
       "4           Action & Adventure, Drama, Kids & Family   \n",
       "\n",
       "                                                cast  runtime_in_minutes  \\\n",
       "0  Logan Lerman, Brandon T. Jackson, Alexandra Da...                83.0   \n",
       "1  Catherine Keener, Amanda Peet, Oliver Platt, R...                90.0   \n",
       "2  Dudley Moore, Bo Derek, Julie Andrews, Robert ...               118.0   \n",
       "3  Martin Balsam, John Fiedler, Lee J. Cobb, E.G....                95.0   \n",
       "4  James Mason, Kirk Douglas, Paul Lukas, Peter L...               127.0   \n",
       "\n",
       "   tomatometer_rating  tomatometer_count  audience_rating  audience_count  \n",
       "0                  49                144             53.0        254287.0  \n",
       "1                  86                140             64.0         11567.0  \n",
       "2                  68                 22             53.0         14670.0  \n",
       "3                 100                 51             97.0        105000.0  \n",
       "4                  89                 27             74.0         68860.0  "
      ]
     },
     "execution_count": 17,
     "metadata": {},
     "output_type": "execute_result"
    }
   ],
   "source": [
    "data.head()"
   ]
  },
  {
   "cell_type": "code",
   "execution_count": 18,
   "metadata": {},
   "outputs": [
    {
     "data": {
      "text/plain": [
       "R        6137\n",
       "NR       4862\n",
       "PG-13    2888\n",
       "PG       2062\n",
       "G         652\n",
       "NC17       37\n",
       "Name: rating, dtype: int64"
      ]
     },
     "execution_count": 18,
     "metadata": {},
     "output_type": "execute_result"
    }
   ],
   "source": [
    "data['rating'].value_counts()"
   ]
  },
  {
   "cell_type": "code",
   "execution_count": 19,
   "metadata": {},
   "outputs": [],
   "source": [
    "data = pd.get_dummies(data, prefix_sep= \"__\", \n",
    "                         columns = ['rating'])"
   ]
  },
  {
   "cell_type": "code",
   "execution_count": 20,
   "metadata": {},
   "outputs": [
    {
     "data": {
      "text/html": [
       "<div>\n",
       "<style scoped>\n",
       "    .dataframe tbody tr th:only-of-type {\n",
       "        vertical-align: middle;\n",
       "    }\n",
       "\n",
       "    .dataframe tbody tr th {\n",
       "        vertical-align: top;\n",
       "    }\n",
       "\n",
       "    .dataframe thead th {\n",
       "        text-align: right;\n",
       "    }\n",
       "</style>\n",
       "<table border=\"1\" class=\"dataframe\">\n",
       "  <thead>\n",
       "    <tr style=\"text-align: right;\">\n",
       "      <th></th>\n",
       "      <th>rotten_tomatoes_link</th>\n",
       "      <th>movie_title</th>\n",
       "      <th>genre</th>\n",
       "      <th>cast</th>\n",
       "      <th>runtime_in_minutes</th>\n",
       "      <th>tomatometer_rating</th>\n",
       "      <th>tomatometer_count</th>\n",
       "      <th>audience_rating</th>\n",
       "      <th>audience_count</th>\n",
       "      <th>rating__G</th>\n",
       "      <th>rating__NC17</th>\n",
       "      <th>rating__NR</th>\n",
       "      <th>rating__PG</th>\n",
       "      <th>rating__PG-13</th>\n",
       "      <th>rating__R</th>\n",
       "    </tr>\n",
       "  </thead>\n",
       "  <tbody>\n",
       "    <tr>\n",
       "      <th>0</th>\n",
       "      <td>/m/0814255</td>\n",
       "      <td>Percy Jackson &amp; the Olympians: The Lightning T...</td>\n",
       "      <td>Action &amp; Adventure, Comedy, Drama, Science Fic...</td>\n",
       "      <td>Logan Lerman, Brandon T. Jackson, Alexandra Da...</td>\n",
       "      <td>83.0</td>\n",
       "      <td>49</td>\n",
       "      <td>144</td>\n",
       "      <td>53.0</td>\n",
       "      <td>254287.0</td>\n",
       "      <td>0</td>\n",
       "      <td>0</td>\n",
       "      <td>0</td>\n",
       "      <td>1</td>\n",
       "      <td>0</td>\n",
       "      <td>0</td>\n",
       "    </tr>\n",
       "    <tr>\n",
       "      <th>1</th>\n",
       "      <td>/m/0878835</td>\n",
       "      <td>Please Give</td>\n",
       "      <td>Comedy</td>\n",
       "      <td>Catherine Keener, Amanda Peet, Oliver Platt, R...</td>\n",
       "      <td>90.0</td>\n",
       "      <td>86</td>\n",
       "      <td>140</td>\n",
       "      <td>64.0</td>\n",
       "      <td>11567.0</td>\n",
       "      <td>0</td>\n",
       "      <td>0</td>\n",
       "      <td>0</td>\n",
       "      <td>0</td>\n",
       "      <td>0</td>\n",
       "      <td>1</td>\n",
       "    </tr>\n",
       "    <tr>\n",
       "      <th>2</th>\n",
       "      <td>/m/10</td>\n",
       "      <td>10</td>\n",
       "      <td>Comedy, Romance</td>\n",
       "      <td>Dudley Moore, Bo Derek, Julie Andrews, Robert ...</td>\n",
       "      <td>118.0</td>\n",
       "      <td>68</td>\n",
       "      <td>22</td>\n",
       "      <td>53.0</td>\n",
       "      <td>14670.0</td>\n",
       "      <td>0</td>\n",
       "      <td>0</td>\n",
       "      <td>0</td>\n",
       "      <td>0</td>\n",
       "      <td>0</td>\n",
       "      <td>1</td>\n",
       "    </tr>\n",
       "    <tr>\n",
       "      <th>3</th>\n",
       "      <td>/m/1000013-12_angry_men</td>\n",
       "      <td>12 Angry Men (Twelve Angry Men)</td>\n",
       "      <td>Classics, Drama</td>\n",
       "      <td>Martin Balsam, John Fiedler, Lee J. Cobb, E.G....</td>\n",
       "      <td>95.0</td>\n",
       "      <td>100</td>\n",
       "      <td>51</td>\n",
       "      <td>97.0</td>\n",
       "      <td>105000.0</td>\n",
       "      <td>0</td>\n",
       "      <td>0</td>\n",
       "      <td>1</td>\n",
       "      <td>0</td>\n",
       "      <td>0</td>\n",
       "      <td>0</td>\n",
       "    </tr>\n",
       "    <tr>\n",
       "      <th>4</th>\n",
       "      <td>/m/1000079-20000_leagues_under_the_sea</td>\n",
       "      <td>20,000 Leagues Under The Sea</td>\n",
       "      <td>Action &amp; Adventure, Drama, Kids &amp; Family</td>\n",
       "      <td>James Mason, Kirk Douglas, Paul Lukas, Peter L...</td>\n",
       "      <td>127.0</td>\n",
       "      <td>89</td>\n",
       "      <td>27</td>\n",
       "      <td>74.0</td>\n",
       "      <td>68860.0</td>\n",
       "      <td>1</td>\n",
       "      <td>0</td>\n",
       "      <td>0</td>\n",
       "      <td>0</td>\n",
       "      <td>0</td>\n",
       "      <td>0</td>\n",
       "    </tr>\n",
       "  </tbody>\n",
       "</table>\n",
       "</div>"
      ],
      "text/plain": [
       "                     rotten_tomatoes_link  \\\n",
       "0                              /m/0814255   \n",
       "1                              /m/0878835   \n",
       "2                                   /m/10   \n",
       "3                 /m/1000013-12_angry_men   \n",
       "4  /m/1000079-20000_leagues_under_the_sea   \n",
       "\n",
       "                                         movie_title  \\\n",
       "0  Percy Jackson & the Olympians: The Lightning T...   \n",
       "1                                        Please Give   \n",
       "2                                                 10   \n",
       "3                    12 Angry Men (Twelve Angry Men)   \n",
       "4                       20,000 Leagues Under The Sea   \n",
       "\n",
       "                                               genre  \\\n",
       "0  Action & Adventure, Comedy, Drama, Science Fic...   \n",
       "1                                             Comedy   \n",
       "2                                    Comedy, Romance   \n",
       "3                                    Classics, Drama   \n",
       "4           Action & Adventure, Drama, Kids & Family   \n",
       "\n",
       "                                                cast  runtime_in_minutes  \\\n",
       "0  Logan Lerman, Brandon T. Jackson, Alexandra Da...                83.0   \n",
       "1  Catherine Keener, Amanda Peet, Oliver Platt, R...                90.0   \n",
       "2  Dudley Moore, Bo Derek, Julie Andrews, Robert ...               118.0   \n",
       "3  Martin Balsam, John Fiedler, Lee J. Cobb, E.G....                95.0   \n",
       "4  James Mason, Kirk Douglas, Paul Lukas, Peter L...               127.0   \n",
       "\n",
       "   tomatometer_rating  tomatometer_count  audience_rating  audience_count  \\\n",
       "0                  49                144             53.0        254287.0   \n",
       "1                  86                140             64.0         11567.0   \n",
       "2                  68                 22             53.0         14670.0   \n",
       "3                 100                 51             97.0        105000.0   \n",
       "4                  89                 27             74.0         68860.0   \n",
       "\n",
       "   rating__G  rating__NC17  rating__NR  rating__PG  rating__PG-13  rating__R  \n",
       "0          0             0           0           1              0          0  \n",
       "1          0             0           0           0              0          1  \n",
       "2          0             0           0           0              0          1  \n",
       "3          0             0           1           0              0          0  \n",
       "4          1             0           0           0              0          0  "
      ]
     },
     "execution_count": 20,
     "metadata": {},
     "output_type": "execute_result"
    }
   ],
   "source": [
    "data.head(5)"
   ]
  },
  {
   "cell_type": "code",
   "execution_count": 21,
   "metadata": {},
   "outputs": [
    {
     "data": {
      "text/html": [
       "<div>\n",
       "<style scoped>\n",
       "    .dataframe tbody tr th:only-of-type {\n",
       "        vertical-align: middle;\n",
       "    }\n",
       "\n",
       "    .dataframe tbody tr th {\n",
       "        vertical-align: top;\n",
       "    }\n",
       "\n",
       "    .dataframe thead th {\n",
       "        text-align: right;\n",
       "    }\n",
       "</style>\n",
       "<table border=\"1\" class=\"dataframe\">\n",
       "  <thead>\n",
       "    <tr style=\"text-align: right;\">\n",
       "      <th></th>\n",
       "      <th>Unnamed: 0</th>\n",
       "      <th>0</th>\n",
       "    </tr>\n",
       "  </thead>\n",
       "  <tbody>\n",
       "    <tr>\n",
       "      <th>0</th>\n",
       "      <td>/m/0814255</td>\n",
       "      <td>20</td>\n",
       "    </tr>\n",
       "    <tr>\n",
       "      <th>1</th>\n",
       "      <td>/m/0878835</td>\n",
       "      <td>122</td>\n",
       "    </tr>\n",
       "    <tr>\n",
       "      <th>2</th>\n",
       "      <td>/m/10</td>\n",
       "      <td>18</td>\n",
       "    </tr>\n",
       "    <tr>\n",
       "      <th>3</th>\n",
       "      <td>/m/1000013-12_angry_men</td>\n",
       "      <td>47</td>\n",
       "    </tr>\n",
       "    <tr>\n",
       "      <th>4</th>\n",
       "      <td>/m/1000079-20000_leagues_under_the_sea</td>\n",
       "      <td>20</td>\n",
       "    </tr>\n",
       "  </tbody>\n",
       "</table>\n",
       "</div>"
      ],
      "text/plain": [
       "                               Unnamed: 0    0\n",
       "0                              /m/0814255   20\n",
       "1                              /m/0878835  122\n",
       "2                                   /m/10   18\n",
       "3                 /m/1000013-12_angry_men   47\n",
       "4  /m/1000079-20000_leagues_under_the_sea   20"
      ]
     },
     "execution_count": 21,
     "metadata": {},
     "output_type": "execute_result"
    }
   ],
   "source": [
    "tag.head()"
   ]
  },
  {
   "cell_type": "code",
   "execution_count": 22,
   "metadata": {},
   "outputs": [
    {
     "data": {
      "text/plain": [
       "rotten_tomatoes_link      0\n",
       "movie_title               0\n",
       "genre                    17\n",
       "cast                    284\n",
       "runtime_in_minutes      155\n",
       "tomatometer_rating        0\n",
       "tomatometer_count         0\n",
       "audience_rating         252\n",
       "audience_count          252\n",
       "rating__G                 0\n",
       "rating__NC17              0\n",
       "rating__NR                0\n",
       "rating__PG                0\n",
       "rating__PG-13             0\n",
       "rating__R                 0\n",
       "dtype: int64"
      ]
     },
     "execution_count": 22,
     "metadata": {},
     "output_type": "execute_result"
    }
   ],
   "source": [
    "data.isnull().sum()"
   ]
  },
  {
   "cell_type": "code",
   "execution_count": 23,
   "metadata": {},
   "outputs": [],
   "source": [
    "data = data.dropna(axis=0, subset=['genre'])"
   ]
  },
  {
   "cell_type": "code",
   "execution_count": 24,
   "metadata": {},
   "outputs": [
    {
     "data": {
      "text/html": [
       "<div>\n",
       "<style scoped>\n",
       "    .dataframe tbody tr th:only-of-type {\n",
       "        vertical-align: middle;\n",
       "    }\n",
       "\n",
       "    .dataframe tbody tr th {\n",
       "        vertical-align: top;\n",
       "    }\n",
       "\n",
       "    .dataframe thead th {\n",
       "        text-align: right;\n",
       "    }\n",
       "</style>\n",
       "<table border=\"1\" class=\"dataframe\">\n",
       "  <thead>\n",
       "    <tr style=\"text-align: right;\">\n",
       "      <th></th>\n",
       "      <th>Action&amp; Adventure</th>\n",
       "      <th>Animation</th>\n",
       "      <th>Anime&amp; Manga</th>\n",
       "      <th>ArtHouse&amp; International</th>\n",
       "      <th>Classics</th>\n",
       "      <th>Comedy</th>\n",
       "      <th>CultMovies</th>\n",
       "      <th>Documentary</th>\n",
       "      <th>Drama</th>\n",
       "      <th>Faith&amp; Spirituality</th>\n",
       "      <th>...</th>\n",
       "      <th>Horror</th>\n",
       "      <th>Kids&amp; Family</th>\n",
       "      <th>Musical&amp; PerformingArts</th>\n",
       "      <th>Mystery&amp; Suspense</th>\n",
       "      <th>Romance</th>\n",
       "      <th>ScienceFiction&amp; Fantasy</th>\n",
       "      <th>SpecialInterest</th>\n",
       "      <th>Sports&amp; Fitness</th>\n",
       "      <th>Television</th>\n",
       "      <th>Western</th>\n",
       "    </tr>\n",
       "  </thead>\n",
       "  <tbody>\n",
       "    <tr>\n",
       "      <th>0</th>\n",
       "      <td>1</td>\n",
       "      <td>0</td>\n",
       "      <td>0</td>\n",
       "      <td>0</td>\n",
       "      <td>0</td>\n",
       "      <td>1</td>\n",
       "      <td>0</td>\n",
       "      <td>0</td>\n",
       "      <td>1</td>\n",
       "      <td>0</td>\n",
       "      <td>...</td>\n",
       "      <td>0</td>\n",
       "      <td>0</td>\n",
       "      <td>0</td>\n",
       "      <td>0</td>\n",
       "      <td>0</td>\n",
       "      <td>1</td>\n",
       "      <td>0</td>\n",
       "      <td>0</td>\n",
       "      <td>0</td>\n",
       "      <td>0</td>\n",
       "    </tr>\n",
       "    <tr>\n",
       "      <th>1</th>\n",
       "      <td>0</td>\n",
       "      <td>0</td>\n",
       "      <td>0</td>\n",
       "      <td>0</td>\n",
       "      <td>0</td>\n",
       "      <td>1</td>\n",
       "      <td>0</td>\n",
       "      <td>0</td>\n",
       "      <td>0</td>\n",
       "      <td>0</td>\n",
       "      <td>...</td>\n",
       "      <td>0</td>\n",
       "      <td>0</td>\n",
       "      <td>0</td>\n",
       "      <td>0</td>\n",
       "      <td>0</td>\n",
       "      <td>0</td>\n",
       "      <td>0</td>\n",
       "      <td>0</td>\n",
       "      <td>0</td>\n",
       "      <td>0</td>\n",
       "    </tr>\n",
       "    <tr>\n",
       "      <th>2</th>\n",
       "      <td>0</td>\n",
       "      <td>0</td>\n",
       "      <td>0</td>\n",
       "      <td>0</td>\n",
       "      <td>0</td>\n",
       "      <td>1</td>\n",
       "      <td>0</td>\n",
       "      <td>0</td>\n",
       "      <td>0</td>\n",
       "      <td>0</td>\n",
       "      <td>...</td>\n",
       "      <td>0</td>\n",
       "      <td>0</td>\n",
       "      <td>0</td>\n",
       "      <td>0</td>\n",
       "      <td>1</td>\n",
       "      <td>0</td>\n",
       "      <td>0</td>\n",
       "      <td>0</td>\n",
       "      <td>0</td>\n",
       "      <td>0</td>\n",
       "    </tr>\n",
       "    <tr>\n",
       "      <th>3</th>\n",
       "      <td>0</td>\n",
       "      <td>0</td>\n",
       "      <td>0</td>\n",
       "      <td>0</td>\n",
       "      <td>1</td>\n",
       "      <td>0</td>\n",
       "      <td>0</td>\n",
       "      <td>0</td>\n",
       "      <td>1</td>\n",
       "      <td>0</td>\n",
       "      <td>...</td>\n",
       "      <td>0</td>\n",
       "      <td>0</td>\n",
       "      <td>0</td>\n",
       "      <td>0</td>\n",
       "      <td>0</td>\n",
       "      <td>0</td>\n",
       "      <td>0</td>\n",
       "      <td>0</td>\n",
       "      <td>0</td>\n",
       "      <td>0</td>\n",
       "    </tr>\n",
       "    <tr>\n",
       "      <th>4</th>\n",
       "      <td>1</td>\n",
       "      <td>0</td>\n",
       "      <td>0</td>\n",
       "      <td>0</td>\n",
       "      <td>0</td>\n",
       "      <td>0</td>\n",
       "      <td>0</td>\n",
       "      <td>0</td>\n",
       "      <td>1</td>\n",
       "      <td>0</td>\n",
       "      <td>...</td>\n",
       "      <td>0</td>\n",
       "      <td>1</td>\n",
       "      <td>0</td>\n",
       "      <td>0</td>\n",
       "      <td>0</td>\n",
       "      <td>0</td>\n",
       "      <td>0</td>\n",
       "      <td>0</td>\n",
       "      <td>0</td>\n",
       "      <td>0</td>\n",
       "    </tr>\n",
       "  </tbody>\n",
       "</table>\n",
       "<p>5 rows × 21 columns</p>\n",
       "</div>"
      ],
      "text/plain": [
       "   Action& Adventure  Animation  Anime& Manga  ArtHouse& International  \\\n",
       "0                  1          0             0                        0   \n",
       "1                  0          0             0                        0   \n",
       "2                  0          0             0                        0   \n",
       "3                  0          0             0                        0   \n",
       "4                  1          0             0                        0   \n",
       "\n",
       "   Classics  Comedy  CultMovies  Documentary  Drama  Faith& Spirituality  ...  \\\n",
       "0         0       1           0            0      1                    0  ...   \n",
       "1         0       1           0            0      0                    0  ...   \n",
       "2         0       1           0            0      0                    0  ...   \n",
       "3         1       0           0            0      1                    0  ...   \n",
       "4         0       0           0            0      1                    0  ...   \n",
       "\n",
       "   Horror  Kids& Family  Musical& PerformingArts  Mystery& Suspense  Romance  \\\n",
       "0       0             0                        0                  0        0   \n",
       "1       0             0                        0                  0        0   \n",
       "2       0             0                        0                  0        1   \n",
       "3       0             0                        0                  0        0   \n",
       "4       0             1                        0                  0        0   \n",
       "\n",
       "   ScienceFiction& Fantasy  SpecialInterest  Sports& Fitness  Television  \\\n",
       "0                        1                0                0           0   \n",
       "1                        0                0                0           0   \n",
       "2                        0                0                0           0   \n",
       "3                        0                0                0           0   \n",
       "4                        0                0                0           0   \n",
       "\n",
       "   Western  \n",
       "0        0  \n",
       "1        0  \n",
       "2        0  \n",
       "3        0  \n",
       "4        0  \n",
       "\n",
       "[5 rows x 21 columns]"
      ]
     },
     "execution_count": 24,
     "metadata": {},
     "output_type": "execute_result"
    }
   ],
   "source": [
    "from sklearn.preprocessing import MultiLabelBinarizer\n",
    "import json\n",
    "\n",
    "## format genre column to be in the form of a list rather than string\n",
    "\n",
    "genre_new=[] #declare a list\n",
    "for cell in data['genre']:\n",
    "    cell=cell.replace(\" \",\"\") #remove whitespace\n",
    "    cell=cell.replace(\"&\", \"& \") #add whitespace back in for ampersands\n",
    "    genre_new.append(cell.split(\",\")) #for each genre cell, create a list of items from the original string, using a comma as a delimeter\n",
    "    \n",
    "#add new genre column to the dataframe\n",
    "data['genre_new'] = genre_new \n",
    "\n",
    "## MultiLabelBinarizer takes an iterable list and turns it into columns with binary values that represent the list.\n",
    "## For example, [Comedy, Drama] -> Comedy and Drama columns with a value of 1, all other columns with a value of 0\n",
    "\n",
    "#initialize MultiLabelBinarizer \n",
    "mlb = MultiLabelBinarizer() \n",
    "\n",
    "#transform the genre_new column to a series of columns with binary values\n",
    "binary_labels=pd.DataFrame(mlb.fit_transform(data['genre_new']),columns=mlb.classes_) \n",
    "\n",
    "#order columns alphabetically\n",
    "binary_labels=binary_labels.sort_index(axis=1) \n",
    "\n",
    "binary_labels.head()"
   ]
  },
  {
   "cell_type": "code",
   "execution_count": 25,
   "metadata": {},
   "outputs": [
    {
     "data": {
      "text/html": [
       "<div>\n",
       "<style scoped>\n",
       "    .dataframe tbody tr th:only-of-type {\n",
       "        vertical-align: middle;\n",
       "    }\n",
       "\n",
       "    .dataframe tbody tr th {\n",
       "        vertical-align: top;\n",
       "    }\n",
       "\n",
       "    .dataframe thead th {\n",
       "        text-align: right;\n",
       "    }\n",
       "</style>\n",
       "<table border=\"1\" class=\"dataframe\">\n",
       "  <thead>\n",
       "    <tr style=\"text-align: right;\">\n",
       "      <th></th>\n",
       "      <th>rotten_tomatoes_link</th>\n",
       "      <th>movie_title</th>\n",
       "      <th>cast</th>\n",
       "      <th>runtime_in_minutes</th>\n",
       "      <th>tomatometer_rating</th>\n",
       "      <th>tomatometer_count</th>\n",
       "      <th>audience_rating</th>\n",
       "      <th>audience_count</th>\n",
       "      <th>rating__G</th>\n",
       "      <th>rating__NC17</th>\n",
       "      <th>...</th>\n",
       "      <th>Horror</th>\n",
       "      <th>Kids&amp; Family</th>\n",
       "      <th>Musical&amp; PerformingArts</th>\n",
       "      <th>Mystery&amp; Suspense</th>\n",
       "      <th>Romance</th>\n",
       "      <th>ScienceFiction&amp; Fantasy</th>\n",
       "      <th>SpecialInterest</th>\n",
       "      <th>Sports&amp; Fitness</th>\n",
       "      <th>Television</th>\n",
       "      <th>Western</th>\n",
       "    </tr>\n",
       "  </thead>\n",
       "  <tbody>\n",
       "    <tr>\n",
       "      <th>0</th>\n",
       "      <td>/m/0814255</td>\n",
       "      <td>Percy Jackson &amp; the Olympians: The Lightning T...</td>\n",
       "      <td>Logan Lerman, Brandon T. Jackson, Alexandra Da...</td>\n",
       "      <td>83.0</td>\n",
       "      <td>49</td>\n",
       "      <td>144</td>\n",
       "      <td>53.0</td>\n",
       "      <td>254287.0</td>\n",
       "      <td>0</td>\n",
       "      <td>0</td>\n",
       "      <td>...</td>\n",
       "      <td>0</td>\n",
       "      <td>0</td>\n",
       "      <td>0</td>\n",
       "      <td>0</td>\n",
       "      <td>0</td>\n",
       "      <td>1</td>\n",
       "      <td>0</td>\n",
       "      <td>0</td>\n",
       "      <td>0</td>\n",
       "      <td>0</td>\n",
       "    </tr>\n",
       "    <tr>\n",
       "      <th>1</th>\n",
       "      <td>/m/0878835</td>\n",
       "      <td>Please Give</td>\n",
       "      <td>Catherine Keener, Amanda Peet, Oliver Platt, R...</td>\n",
       "      <td>90.0</td>\n",
       "      <td>86</td>\n",
       "      <td>140</td>\n",
       "      <td>64.0</td>\n",
       "      <td>11567.0</td>\n",
       "      <td>0</td>\n",
       "      <td>0</td>\n",
       "      <td>...</td>\n",
       "      <td>0</td>\n",
       "      <td>0</td>\n",
       "      <td>0</td>\n",
       "      <td>0</td>\n",
       "      <td>0</td>\n",
       "      <td>0</td>\n",
       "      <td>0</td>\n",
       "      <td>0</td>\n",
       "      <td>0</td>\n",
       "      <td>0</td>\n",
       "    </tr>\n",
       "    <tr>\n",
       "      <th>2</th>\n",
       "      <td>/m/10</td>\n",
       "      <td>10</td>\n",
       "      <td>Dudley Moore, Bo Derek, Julie Andrews, Robert ...</td>\n",
       "      <td>118.0</td>\n",
       "      <td>68</td>\n",
       "      <td>22</td>\n",
       "      <td>53.0</td>\n",
       "      <td>14670.0</td>\n",
       "      <td>0</td>\n",
       "      <td>0</td>\n",
       "      <td>...</td>\n",
       "      <td>0</td>\n",
       "      <td>0</td>\n",
       "      <td>0</td>\n",
       "      <td>0</td>\n",
       "      <td>1</td>\n",
       "      <td>0</td>\n",
       "      <td>0</td>\n",
       "      <td>0</td>\n",
       "      <td>0</td>\n",
       "      <td>0</td>\n",
       "    </tr>\n",
       "    <tr>\n",
       "      <th>3</th>\n",
       "      <td>/m/1000013-12_angry_men</td>\n",
       "      <td>12 Angry Men (Twelve Angry Men)</td>\n",
       "      <td>Martin Balsam, John Fiedler, Lee J. Cobb, E.G....</td>\n",
       "      <td>95.0</td>\n",
       "      <td>100</td>\n",
       "      <td>51</td>\n",
       "      <td>97.0</td>\n",
       "      <td>105000.0</td>\n",
       "      <td>0</td>\n",
       "      <td>0</td>\n",
       "      <td>...</td>\n",
       "      <td>0</td>\n",
       "      <td>0</td>\n",
       "      <td>0</td>\n",
       "      <td>0</td>\n",
       "      <td>0</td>\n",
       "      <td>0</td>\n",
       "      <td>0</td>\n",
       "      <td>0</td>\n",
       "      <td>0</td>\n",
       "      <td>0</td>\n",
       "    </tr>\n",
       "    <tr>\n",
       "      <th>4</th>\n",
       "      <td>/m/1000079-20000_leagues_under_the_sea</td>\n",
       "      <td>20,000 Leagues Under The Sea</td>\n",
       "      <td>James Mason, Kirk Douglas, Paul Lukas, Peter L...</td>\n",
       "      <td>127.0</td>\n",
       "      <td>89</td>\n",
       "      <td>27</td>\n",
       "      <td>74.0</td>\n",
       "      <td>68860.0</td>\n",
       "      <td>1</td>\n",
       "      <td>0</td>\n",
       "      <td>...</td>\n",
       "      <td>0</td>\n",
       "      <td>1</td>\n",
       "      <td>0</td>\n",
       "      <td>0</td>\n",
       "      <td>0</td>\n",
       "      <td>0</td>\n",
       "      <td>0</td>\n",
       "      <td>0</td>\n",
       "      <td>0</td>\n",
       "      <td>0</td>\n",
       "    </tr>\n",
       "  </tbody>\n",
       "</table>\n",
       "<p>5 rows × 35 columns</p>\n",
       "</div>"
      ],
      "text/plain": [
       "                     rotten_tomatoes_link  \\\n",
       "0                              /m/0814255   \n",
       "1                              /m/0878835   \n",
       "2                                   /m/10   \n",
       "3                 /m/1000013-12_angry_men   \n",
       "4  /m/1000079-20000_leagues_under_the_sea   \n",
       "\n",
       "                                         movie_title  \\\n",
       "0  Percy Jackson & the Olympians: The Lightning T...   \n",
       "1                                        Please Give   \n",
       "2                                                 10   \n",
       "3                    12 Angry Men (Twelve Angry Men)   \n",
       "4                       20,000 Leagues Under The Sea   \n",
       "\n",
       "                                                cast  runtime_in_minutes  \\\n",
       "0  Logan Lerman, Brandon T. Jackson, Alexandra Da...                83.0   \n",
       "1  Catherine Keener, Amanda Peet, Oliver Platt, R...                90.0   \n",
       "2  Dudley Moore, Bo Derek, Julie Andrews, Robert ...               118.0   \n",
       "3  Martin Balsam, John Fiedler, Lee J. Cobb, E.G....                95.0   \n",
       "4  James Mason, Kirk Douglas, Paul Lukas, Peter L...               127.0   \n",
       "\n",
       "   tomatometer_rating  tomatometer_count  audience_rating  audience_count  \\\n",
       "0                  49                144             53.0        254287.0   \n",
       "1                  86                140             64.0         11567.0   \n",
       "2                  68                 22             53.0         14670.0   \n",
       "3                 100                 51             97.0        105000.0   \n",
       "4                  89                 27             74.0         68860.0   \n",
       "\n",
       "   rating__G  rating__NC17  ...  Horror  Kids& Family  \\\n",
       "0          0             0  ...       0             0   \n",
       "1          0             0  ...       0             0   \n",
       "2          0             0  ...       0             0   \n",
       "3          0             0  ...       0             0   \n",
       "4          1             0  ...       0             1   \n",
       "\n",
       "   Musical& PerformingArts  Mystery& Suspense  Romance  \\\n",
       "0                        0                  0        0   \n",
       "1                        0                  0        0   \n",
       "2                        0                  0        1   \n",
       "3                        0                  0        0   \n",
       "4                        0                  0        0   \n",
       "\n",
       "   ScienceFiction& Fantasy  SpecialInterest  Sports& Fitness  Television  \\\n",
       "0                        1                0                0           0   \n",
       "1                        0                0                0           0   \n",
       "2                        0                0                0           0   \n",
       "3                        0                0                0           0   \n",
       "4                        0                0                0           0   \n",
       "\n",
       "   Western  \n",
       "0        0  \n",
       "1        0  \n",
       "2        0  \n",
       "3        0  \n",
       "4        0  \n",
       "\n",
       "[5 rows x 35 columns]"
      ]
     },
     "execution_count": 25,
     "metadata": {},
     "output_type": "execute_result"
    }
   ],
   "source": [
    "data = data.merge(binary_labels, how='inner', left_index=True, right_index=True)\n",
    "data= data.drop(columns=['genre','genre_new'])\n",
    "data.head()"
   ]
  },
  {
   "cell_type": "code",
   "execution_count": 26,
   "metadata": {},
   "outputs": [],
   "source": [
    "data['cast'] = data['cast'].apply(lambda x:str(x).split(\",\"))\n",
    "data['cast'] = data['cast'].apply(lambda x:','.join(x))\n",
    "# data['directors'] = data['directors'].apply(lambda x:str(x).split(\",\"))\n",
    "# data['directors'] = data['directors'].apply(lambda x:','.join(x))"
   ]
  },
  {
   "cell_type": "code",
   "execution_count": 27,
   "metadata": {},
   "outputs": [
    {
     "data": {
      "text/plain": [
       "0        Logan Lerman, Brandon T. Jackson, Alexandra Da...\n",
       "1        Catherine Keener, Amanda Peet, Oliver Platt, R...\n",
       "2        Dudley Moore, Bo Derek, Julie Andrews, Robert ...\n",
       "3        Martin Balsam, John Fiedler, Lee J. Cobb, E.G....\n",
       "4        James Mason, Kirk Douglas, Paul Lukas, Peter L...\n",
       "                               ...                        \n",
       "16616    Taylor Handley, Alison Folland, Dustin Seavey,...\n",
       "16617    Steve Guttenberg, Kathleen Quinlan, Arnold Vos...\n",
       "16618    Fred Astaire, Judy Garland, Gene Kelly, Willia...\n",
       "16619    David Bowie, Mick Ronson, Trevor Bolder, Mick ...\n",
       "16620    Hrithik Roshan, Abhay Deol, Farhan Akhtar, Kat...\n",
       "Name: cast, Length: 16604, dtype: object"
      ]
     },
     "execution_count": 27,
     "metadata": {},
     "output_type": "execute_result"
    }
   ],
   "source": [
    "data['cast']"
   ]
  },
  {
   "cell_type": "code",
   "execution_count": 28,
   "metadata": {},
   "outputs": [],
   "source": [
    "# data1 = pd.read_csv('movie_metadata.csv')\n",
    "# t = data1[['actor_2_facebook_likes','actor_2_name','actor_1_facebook_likes','actor_1_name','actor_3_facebook_likes','actor_3_name']]\n"
   ]
  },
  {
   "cell_type": "code",
   "execution_count": 29,
   "metadata": {},
   "outputs": [],
   "source": [
    "\n",
    "# actor1_data = data1[['actor_1_name','actor_1_facebook_likes']].drop_duplicates(keep= 'first').reset_index(drop=True)\n",
    "# actor2_data = data1[['actor_2_name','actor_2_facebook_likes']].drop_duplicates(keep= 'first').reset_index(drop=True)\n",
    "# actor3_data = data1[['actor_3_name','actor_3_facebook_likes']].drop_duplicates(keep= 'first').reset_index(drop=True)\n",
    "# # director_data = data1[['director_name','director_facebook_likes']].drop_duplicates(keep= 'first').reset_index(drop=True)\n",
    "# actor1_data.columns,actor2_data.columns,actor3_data.columns = ['actor','likes'],['actor','likes'],['actor','likes']"
   ]
  },
  {
   "cell_type": "code",
   "execution_count": 30,
   "metadata": {},
   "outputs": [],
   "source": [
    "# f_data = pd.concat([actor2_data,actor2_data,actor3_data]).drop_duplicates(keep= 'first').reset_index(drop=True)"
   ]
  },
  {
   "cell_type": "code",
   "execution_count": 31,
   "metadata": {},
   "outputs": [],
   "source": [
    "# f_data['actor'] = f_data['actor'].apply(lambda x:str(x).replace(\" \", \"\").lower())"
   ]
  },
  {
   "cell_type": "code",
   "execution_count": 32,
   "metadata": {},
   "outputs": [],
   "source": [
    "# d = f_data.set_index('actor')['likes'].to_dict()"
   ]
  },
  {
   "cell_type": "code",
   "execution_count": 33,
   "metadata": {},
   "outputs": [],
   "source": [
    "# li = list()\n",
    "# i=0\n",
    "# total = 0\n",
    "# for x in data['cast']:\n",
    "#     total=0\n",
    "#     for y in x:\n",
    "#         s = str(y).replace(\" \", \"\").lower()\n",
    "#         if(s in d.keys()):\n",
    "#             total+=d[s] \n",
    "#     li.append(total)\n",
    "# #     data['cast'][i]=total\n",
    "#     i=i+1\n",
    "# data['cast'] = li"
   ]
  },
  {
   "cell_type": "code",
   "execution_count": 34,
   "metadata": {},
   "outputs": [],
   "source": [
    "# data['directors'] = data['directors'].apply(lambda x:str(x).replace(\" \", \"\").lower())\n",
    "data['cast'] = data['cast'].apply(lambda x:str(x).replace(\" \", \"\").lower())"
   ]
  },
  {
   "cell_type": "code",
   "execution_count": 35,
   "metadata": {},
   "outputs": [],
   "source": [
    "# li = ','.join(data['directors']).split(',')\n",
    "# li=set(li)\n",
    "# director_dict = {i:0 for i in li}"
   ]
  },
  {
   "cell_type": "code",
   "execution_count": 36,
   "metadata": {},
   "outputs": [],
   "source": [
    "li = ','.join(data['cast']).split(',')\n",
    "li=set(li)\n",
    "cast_dict = {i:0 for i in li}"
   ]
  },
  {
   "cell_type": "code",
   "execution_count": 37,
   "metadata": {},
   "outputs": [],
   "source": [
    "#  for x in data['directors']:\n",
    "#     lis=x.split(',')\n",
    "#     for y in lis:\n",
    "#         if y in director_dict:\n",
    "#             val = director_dict.get(y) + 1\n",
    "#             director_dict[y]=val\n",
    "\n",
    "            \n",
    "# dir_li=list()\n",
    "# i=0\n",
    "# total = 0\n",
    "# for x in data['directors']:\n",
    "#     total=0\n",
    "#     directs=x.split(',')\n",
    "#     for y in directs:       \n",
    "#         if y in director_dict:\n",
    "#             total+=director_dict[y]*10\n",
    "#     dir_li.append(total)\n",
    "# #     data['directors'][i]=total\n",
    "#     i=i+1\n",
    "# data['directors'] = dir_li"
   ]
  },
  {
   "cell_type": "code",
   "execution_count": 38,
   "metadata": {},
   "outputs": [],
   "source": [
    " for x in data['cast']:\n",
    "    lis=x.split(',')\n",
    "    for y in lis:\n",
    "        if y in cast_dict:\n",
    "            val = cast_dict.get(y) + 1\n",
    "            cast_dict[y]=val\n",
    "\n",
    "            \n",
    "dir_li=list()\n",
    "i=0\n",
    "total = 0\n",
    "for x in data['cast']:\n",
    "    total=0\n",
    "    directs=x.split(',')\n",
    "    for y in directs:       \n",
    "        if y in cast_dict:\n",
    "            total+=cast_dict[y]*10\n",
    "    dir_li.append(total)\n",
    "#     data['directors'][i]=total\n",
    "    i=i+1\n",
    "data['cast'] = dir_li"
   ]
  },
  {
   "cell_type": "code",
   "execution_count": 39,
   "metadata": {},
   "outputs": [
    {
     "data": {
      "text/plain": [
       "0"
      ]
     },
     "execution_count": 39,
     "metadata": {},
     "output_type": "execute_result"
    }
   ],
   "source": [
    "len(data[data['cast']==0])"
   ]
  },
  {
   "cell_type": "code",
   "execution_count": 40,
   "metadata": {},
   "outputs": [
    {
     "data": {
      "text/html": [
       "<div>\n",
       "<style scoped>\n",
       "    .dataframe tbody tr th:only-of-type {\n",
       "        vertical-align: middle;\n",
       "    }\n",
       "\n",
       "    .dataframe tbody tr th {\n",
       "        vertical-align: top;\n",
       "    }\n",
       "\n",
       "    .dataframe thead th {\n",
       "        text-align: right;\n",
       "    }\n",
       "</style>\n",
       "<table border=\"1\" class=\"dataframe\">\n",
       "  <thead>\n",
       "    <tr style=\"text-align: right;\">\n",
       "      <th></th>\n",
       "      <th>rotten_tomatoes_link</th>\n",
       "      <th>movie_title</th>\n",
       "      <th>cast</th>\n",
       "      <th>runtime_in_minutes</th>\n",
       "      <th>tomatometer_rating</th>\n",
       "      <th>tomatometer_count</th>\n",
       "      <th>audience_rating</th>\n",
       "      <th>audience_count</th>\n",
       "      <th>rating__G</th>\n",
       "      <th>rating__NC17</th>\n",
       "      <th>...</th>\n",
       "      <th>Horror</th>\n",
       "      <th>Kids&amp; Family</th>\n",
       "      <th>Musical&amp; PerformingArts</th>\n",
       "      <th>Mystery&amp; Suspense</th>\n",
       "      <th>Romance</th>\n",
       "      <th>ScienceFiction&amp; Fantasy</th>\n",
       "      <th>SpecialInterest</th>\n",
       "      <th>Sports&amp; Fitness</th>\n",
       "      <th>Television</th>\n",
       "      <th>Western</th>\n",
       "    </tr>\n",
       "  </thead>\n",
       "  <tbody>\n",
       "    <tr>\n",
       "      <th>0</th>\n",
       "      <td>/m/0814255</td>\n",
       "      <td>Percy Jackson &amp; the Olympians: The Lightning T...</td>\n",
       "      <td>7150</td>\n",
       "      <td>83.0</td>\n",
       "      <td>49</td>\n",
       "      <td>144</td>\n",
       "      <td>53.0</td>\n",
       "      <td>254287.0</td>\n",
       "      <td>0</td>\n",
       "      <td>0</td>\n",
       "      <td>...</td>\n",
       "      <td>0</td>\n",
       "      <td>0</td>\n",
       "      <td>0</td>\n",
       "      <td>0</td>\n",
       "      <td>0</td>\n",
       "      <td>1</td>\n",
       "      <td>0</td>\n",
       "      <td>0</td>\n",
       "      <td>0</td>\n",
       "      <td>0</td>\n",
       "    </tr>\n",
       "    <tr>\n",
       "      <th>1</th>\n",
       "      <td>/m/0878835</td>\n",
       "      <td>Please Give</td>\n",
       "      <td>2600</td>\n",
       "      <td>90.0</td>\n",
       "      <td>86</td>\n",
       "      <td>140</td>\n",
       "      <td>64.0</td>\n",
       "      <td>11567.0</td>\n",
       "      <td>0</td>\n",
       "      <td>0</td>\n",
       "      <td>...</td>\n",
       "      <td>0</td>\n",
       "      <td>0</td>\n",
       "      <td>0</td>\n",
       "      <td>0</td>\n",
       "      <td>0</td>\n",
       "      <td>0</td>\n",
       "      <td>0</td>\n",
       "      <td>0</td>\n",
       "      <td>0</td>\n",
       "      <td>0</td>\n",
       "    </tr>\n",
       "    <tr>\n",
       "      <th>2</th>\n",
       "      <td>/m/10</td>\n",
       "      <td>10</td>\n",
       "      <td>3180</td>\n",
       "      <td>118.0</td>\n",
       "      <td>68</td>\n",
       "      <td>22</td>\n",
       "      <td>53.0</td>\n",
       "      <td>14670.0</td>\n",
       "      <td>0</td>\n",
       "      <td>0</td>\n",
       "      <td>...</td>\n",
       "      <td>0</td>\n",
       "      <td>0</td>\n",
       "      <td>0</td>\n",
       "      <td>0</td>\n",
       "      <td>1</td>\n",
       "      <td>0</td>\n",
       "      <td>0</td>\n",
       "      <td>0</td>\n",
       "      <td>0</td>\n",
       "      <td>0</td>\n",
       "    </tr>\n",
       "    <tr>\n",
       "      <th>3</th>\n",
       "      <td>/m/1000013-12_angry_men</td>\n",
       "      <td>12 Angry Men (Twelve Angry Men)</td>\n",
       "      <td>2080</td>\n",
       "      <td>95.0</td>\n",
       "      <td>100</td>\n",
       "      <td>51</td>\n",
       "      <td>97.0</td>\n",
       "      <td>105000.0</td>\n",
       "      <td>0</td>\n",
       "      <td>0</td>\n",
       "      <td>...</td>\n",
       "      <td>0</td>\n",
       "      <td>0</td>\n",
       "      <td>0</td>\n",
       "      <td>0</td>\n",
       "      <td>0</td>\n",
       "      <td>0</td>\n",
       "      <td>0</td>\n",
       "      <td>0</td>\n",
       "      <td>0</td>\n",
       "      <td>0</td>\n",
       "    </tr>\n",
       "    <tr>\n",
       "      <th>4</th>\n",
       "      <td>/m/1000079-20000_leagues_under_the_sea</td>\n",
       "      <td>20,000 Leagues Under The Sea</td>\n",
       "      <td>2410</td>\n",
       "      <td>127.0</td>\n",
       "      <td>89</td>\n",
       "      <td>27</td>\n",
       "      <td>74.0</td>\n",
       "      <td>68860.0</td>\n",
       "      <td>1</td>\n",
       "      <td>0</td>\n",
       "      <td>...</td>\n",
       "      <td>0</td>\n",
       "      <td>1</td>\n",
       "      <td>0</td>\n",
       "      <td>0</td>\n",
       "      <td>0</td>\n",
       "      <td>0</td>\n",
       "      <td>0</td>\n",
       "      <td>0</td>\n",
       "      <td>0</td>\n",
       "      <td>0</td>\n",
       "    </tr>\n",
       "  </tbody>\n",
       "</table>\n",
       "<p>5 rows × 35 columns</p>\n",
       "</div>"
      ],
      "text/plain": [
       "                     rotten_tomatoes_link  \\\n",
       "0                              /m/0814255   \n",
       "1                              /m/0878835   \n",
       "2                                   /m/10   \n",
       "3                 /m/1000013-12_angry_men   \n",
       "4  /m/1000079-20000_leagues_under_the_sea   \n",
       "\n",
       "                                         movie_title  cast  \\\n",
       "0  Percy Jackson & the Olympians: The Lightning T...  7150   \n",
       "1                                        Please Give  2600   \n",
       "2                                                 10  3180   \n",
       "3                    12 Angry Men (Twelve Angry Men)  2080   \n",
       "4                       20,000 Leagues Under The Sea  2410   \n",
       "\n",
       "   runtime_in_minutes  tomatometer_rating  tomatometer_count  audience_rating  \\\n",
       "0                83.0                  49                144             53.0   \n",
       "1                90.0                  86                140             64.0   \n",
       "2               118.0                  68                 22             53.0   \n",
       "3                95.0                 100                 51             97.0   \n",
       "4               127.0                  89                 27             74.0   \n",
       "\n",
       "   audience_count  rating__G  rating__NC17  ...  Horror  Kids& Family  \\\n",
       "0        254287.0          0             0  ...       0             0   \n",
       "1         11567.0          0             0  ...       0             0   \n",
       "2         14670.0          0             0  ...       0             0   \n",
       "3        105000.0          0             0  ...       0             0   \n",
       "4         68860.0          1             0  ...       0             1   \n",
       "\n",
       "   Musical& PerformingArts  Mystery& Suspense  Romance  \\\n",
       "0                        0                  0        0   \n",
       "1                        0                  0        0   \n",
       "2                        0                  0        1   \n",
       "3                        0                  0        0   \n",
       "4                        0                  0        0   \n",
       "\n",
       "   ScienceFiction& Fantasy  SpecialInterest  Sports& Fitness  Television  \\\n",
       "0                        1                0                0           0   \n",
       "1                        0                0                0           0   \n",
       "2                        0                0                0           0   \n",
       "3                        0                0                0           0   \n",
       "4                        0                0                0           0   \n",
       "\n",
       "   Western  \n",
       "0        0  \n",
       "1        0  \n",
       "2        0  \n",
       "3        0  \n",
       "4        0  \n",
       "\n",
       "[5 rows x 35 columns]"
      ]
     },
     "execution_count": 40,
     "metadata": {},
     "output_type": "execute_result"
    }
   ],
   "source": [
    "data.head()"
   ]
  },
  {
   "cell_type": "code",
   "execution_count": 41,
   "metadata": {},
   "outputs": [
    {
     "data": {
      "text/html": [
       "<div>\n",
       "<style scoped>\n",
       "    .dataframe tbody tr th:only-of-type {\n",
       "        vertical-align: middle;\n",
       "    }\n",
       "\n",
       "    .dataframe tbody tr th {\n",
       "        vertical-align: top;\n",
       "    }\n",
       "\n",
       "    .dataframe thead th {\n",
       "        text-align: right;\n",
       "    }\n",
       "</style>\n",
       "<table border=\"1\" class=\"dataframe\">\n",
       "  <thead>\n",
       "    <tr style=\"text-align: right;\">\n",
       "      <th></th>\n",
       "      <th>rotten_tomatoes_link</th>\n",
       "      <th>movie_title</th>\n",
       "      <th>cast</th>\n",
       "      <th>runtime_in_minutes</th>\n",
       "      <th>tomatometer_rating</th>\n",
       "      <th>tomatometer_count</th>\n",
       "      <th>audience_rating</th>\n",
       "      <th>audience_count</th>\n",
       "      <th>rating__G</th>\n",
       "      <th>rating__NC17</th>\n",
       "      <th>...</th>\n",
       "      <th>Horror</th>\n",
       "      <th>Kids&amp; Family</th>\n",
       "      <th>Musical&amp; PerformingArts</th>\n",
       "      <th>Mystery&amp; Suspense</th>\n",
       "      <th>Romance</th>\n",
       "      <th>ScienceFiction&amp; Fantasy</th>\n",
       "      <th>SpecialInterest</th>\n",
       "      <th>Sports&amp; Fitness</th>\n",
       "      <th>Television</th>\n",
       "      <th>Western</th>\n",
       "    </tr>\n",
       "  </thead>\n",
       "  <tbody>\n",
       "    <tr>\n",
       "      <th>16521</th>\n",
       "      <td>/m/year_one</td>\n",
       "      <td>Year One</td>\n",
       "      <td>6610</td>\n",
       "      <td>97.0</td>\n",
       "      <td>14</td>\n",
       "      <td>173</td>\n",
       "      <td>23.0</td>\n",
       "      <td>336898.0</td>\n",
       "      <td>0</td>\n",
       "      <td>0</td>\n",
       "      <td>...</td>\n",
       "      <td>0</td>\n",
       "      <td>0</td>\n",
       "      <td>0</td>\n",
       "      <td>0</td>\n",
       "      <td>0</td>\n",
       "      <td>0</td>\n",
       "      <td>0</td>\n",
       "      <td>0</td>\n",
       "      <td>0</td>\n",
       "      <td>0</td>\n",
       "    </tr>\n",
       "    <tr>\n",
       "      <th>16522</th>\n",
       "      <td>/m/yeh_jawaani_hai_deewani_2013</td>\n",
       "      <td>Yeh Jawaani Hai Deewani</td>\n",
       "      <td>200</td>\n",
       "      <td>125.0</td>\n",
       "      <td>67</td>\n",
       "      <td>6</td>\n",
       "      <td>63.0</td>\n",
       "      <td>2944.0</td>\n",
       "      <td>0</td>\n",
       "      <td>0</td>\n",
       "      <td>...</td>\n",
       "      <td>0</td>\n",
       "      <td>0</td>\n",
       "      <td>0</td>\n",
       "      <td>0</td>\n",
       "      <td>0</td>\n",
       "      <td>0</td>\n",
       "      <td>0</td>\n",
       "      <td>0</td>\n",
       "      <td>0</td>\n",
       "      <td>0</td>\n",
       "    </tr>\n",
       "    <tr>\n",
       "      <th>16523</th>\n",
       "      <td>/m/yella</td>\n",
       "      <td>Yella</td>\n",
       "      <td>520</td>\n",
       "      <td>89.0</td>\n",
       "      <td>81</td>\n",
       "      <td>53</td>\n",
       "      <td>53.0</td>\n",
       "      <td>972.0</td>\n",
       "      <td>0</td>\n",
       "      <td>0</td>\n",
       "      <td>...</td>\n",
       "      <td>0</td>\n",
       "      <td>0</td>\n",
       "      <td>0</td>\n",
       "      <td>0</td>\n",
       "      <td>0</td>\n",
       "      <td>0</td>\n",
       "      <td>0</td>\n",
       "      <td>0</td>\n",
       "      <td>0</td>\n",
       "      <td>0</td>\n",
       "    </tr>\n",
       "    <tr>\n",
       "      <th>16524</th>\n",
       "      <td>/m/yelling_to_the_sky</td>\n",
       "      <td>Yelling to the Sky</td>\n",
       "      <td>1800</td>\n",
       "      <td>95.0</td>\n",
       "      <td>36</td>\n",
       "      <td>11</td>\n",
       "      <td>46.0</td>\n",
       "      <td>409.0</td>\n",
       "      <td>0</td>\n",
       "      <td>0</td>\n",
       "      <td>...</td>\n",
       "      <td>0</td>\n",
       "      <td>0</td>\n",
       "      <td>0</td>\n",
       "      <td>0</td>\n",
       "      <td>0</td>\n",
       "      <td>0</td>\n",
       "      <td>0</td>\n",
       "      <td>0</td>\n",
       "      <td>0</td>\n",
       "      <td>0</td>\n",
       "    </tr>\n",
       "    <tr>\n",
       "      <th>16525</th>\n",
       "      <td>/m/yellowbeard</td>\n",
       "      <td>Yellowbeard</td>\n",
       "      <td>4130</td>\n",
       "      <td>97.0</td>\n",
       "      <td>22</td>\n",
       "      <td>9</td>\n",
       "      <td>64.0</td>\n",
       "      <td>6929.0</td>\n",
       "      <td>0</td>\n",
       "      <td>0</td>\n",
       "      <td>...</td>\n",
       "      <td>0</td>\n",
       "      <td>0</td>\n",
       "      <td>0</td>\n",
       "      <td>0</td>\n",
       "      <td>0</td>\n",
       "      <td>0</td>\n",
       "      <td>0</td>\n",
       "      <td>0</td>\n",
       "      <td>0</td>\n",
       "      <td>0</td>\n",
       "    </tr>\n",
       "    <tr>\n",
       "      <th>...</th>\n",
       "      <td>...</td>\n",
       "      <td>...</td>\n",
       "      <td>...</td>\n",
       "      <td>...</td>\n",
       "      <td>...</td>\n",
       "      <td>...</td>\n",
       "      <td>...</td>\n",
       "      <td>...</td>\n",
       "      <td>...</td>\n",
       "      <td>...</td>\n",
       "      <td>...</td>\n",
       "      <td>...</td>\n",
       "      <td>...</td>\n",
       "      <td>...</td>\n",
       "      <td>...</td>\n",
       "      <td>...</td>\n",
       "      <td>...</td>\n",
       "      <td>...</td>\n",
       "      <td>...</td>\n",
       "      <td>...</td>\n",
       "      <td>...</td>\n",
       "    </tr>\n",
       "    <tr>\n",
       "      <th>16616</th>\n",
       "      <td>/m/zerophilia</td>\n",
       "      <td>Zerophilia</td>\n",
       "      <td>500</td>\n",
       "      <td>90.0</td>\n",
       "      <td>25</td>\n",
       "      <td>20</td>\n",
       "      <td>61.0</td>\n",
       "      <td>1628.0</td>\n",
       "      <td>0</td>\n",
       "      <td>0</td>\n",
       "      <td>...</td>\n",
       "      <td>0</td>\n",
       "      <td>0</td>\n",
       "      <td>1</td>\n",
       "      <td>0</td>\n",
       "      <td>0</td>\n",
       "      <td>0</td>\n",
       "      <td>0</td>\n",
       "      <td>0</td>\n",
       "      <td>0</td>\n",
       "      <td>0</td>\n",
       "    </tr>\n",
       "    <tr>\n",
       "      <th>16617</th>\n",
       "      <td>/m/zeus_and_roxanne</td>\n",
       "      <td>Zeus and Roxanne</td>\n",
       "      <td>1000</td>\n",
       "      <td>98.0</td>\n",
       "      <td>44</td>\n",
       "      <td>9</td>\n",
       "      <td>42.0</td>\n",
       "      <td>8967.0</td>\n",
       "      <td>0</td>\n",
       "      <td>0</td>\n",
       "      <td>...</td>\n",
       "      <td>0</td>\n",
       "      <td>0</td>\n",
       "      <td>0</td>\n",
       "      <td>0</td>\n",
       "      <td>0</td>\n",
       "      <td>0</td>\n",
       "      <td>0</td>\n",
       "      <td>0</td>\n",
       "      <td>0</td>\n",
       "      <td>0</td>\n",
       "    </tr>\n",
       "    <tr>\n",
       "      <th>16618</th>\n",
       "      <td>/m/ziegfeld_follies</td>\n",
       "      <td>Ziegfeld Follies</td>\n",
       "      <td>5000</td>\n",
       "      <td>109.0</td>\n",
       "      <td>67</td>\n",
       "      <td>9</td>\n",
       "      <td>59.0</td>\n",
       "      <td>2874.0</td>\n",
       "      <td>0</td>\n",
       "      <td>0</td>\n",
       "      <td>...</td>\n",
       "      <td>0</td>\n",
       "      <td>0</td>\n",
       "      <td>0</td>\n",
       "      <td>0</td>\n",
       "      <td>0</td>\n",
       "      <td>0</td>\n",
       "      <td>0</td>\n",
       "      <td>0</td>\n",
       "      <td>0</td>\n",
       "      <td>0</td>\n",
       "    </tr>\n",
       "    <tr>\n",
       "      <th>16619</th>\n",
       "      <td>/m/ziggy_stardust_and_the_spiders_from_mars_1973</td>\n",
       "      <td>Ziggy Stardust and the Spiders from Mars</td>\n",
       "      <td>290</td>\n",
       "      <td>91.0</td>\n",
       "      <td>73</td>\n",
       "      <td>40</td>\n",
       "      <td>88.0</td>\n",
       "      <td>1906.0</td>\n",
       "      <td>0</td>\n",
       "      <td>0</td>\n",
       "      <td>...</td>\n",
       "      <td>0</td>\n",
       "      <td>0</td>\n",
       "      <td>0</td>\n",
       "      <td>0</td>\n",
       "      <td>0</td>\n",
       "      <td>0</td>\n",
       "      <td>0</td>\n",
       "      <td>0</td>\n",
       "      <td>0</td>\n",
       "      <td>0</td>\n",
       "    </tr>\n",
       "    <tr>\n",
       "      <th>16620</th>\n",
       "      <td>/m/zindagi_na_milegi_dobara</td>\n",
       "      <td>Zindagi Na Milegi Dobara</td>\n",
       "      <td>270</td>\n",
       "      <td>148.0</td>\n",
       "      <td>91</td>\n",
       "      <td>11</td>\n",
       "      <td>86.0</td>\n",
       "      <td>3858.0</td>\n",
       "      <td>0</td>\n",
       "      <td>0</td>\n",
       "      <td>...</td>\n",
       "      <td>0</td>\n",
       "      <td>0</td>\n",
       "      <td>0</td>\n",
       "      <td>0</td>\n",
       "      <td>0</td>\n",
       "      <td>0</td>\n",
       "      <td>0</td>\n",
       "      <td>0</td>\n",
       "      <td>0</td>\n",
       "      <td>0</td>\n",
       "    </tr>\n",
       "  </tbody>\n",
       "</table>\n",
       "<p>100 rows × 35 columns</p>\n",
       "</div>"
      ],
      "text/plain": [
       "                                   rotten_tomatoes_link  \\\n",
       "16521                                       /m/year_one   \n",
       "16522                   /m/yeh_jawaani_hai_deewani_2013   \n",
       "16523                                          /m/yella   \n",
       "16524                             /m/yelling_to_the_sky   \n",
       "16525                                    /m/yellowbeard   \n",
       "...                                                 ...   \n",
       "16616                                     /m/zerophilia   \n",
       "16617                               /m/zeus_and_roxanne   \n",
       "16618                               /m/ziegfeld_follies   \n",
       "16619  /m/ziggy_stardust_and_the_spiders_from_mars_1973   \n",
       "16620                       /m/zindagi_na_milegi_dobara   \n",
       "\n",
       "                                    movie_title  cast  runtime_in_minutes  \\\n",
       "16521                                  Year One  6610                97.0   \n",
       "16522                   Yeh Jawaani Hai Deewani   200               125.0   \n",
       "16523                                     Yella   520                89.0   \n",
       "16524                        Yelling to the Sky  1800                95.0   \n",
       "16525                               Yellowbeard  4130                97.0   \n",
       "...                                         ...   ...                 ...   \n",
       "16616                                Zerophilia   500                90.0   \n",
       "16617                          Zeus and Roxanne  1000                98.0   \n",
       "16618                          Ziegfeld Follies  5000               109.0   \n",
       "16619  Ziggy Stardust and the Spiders from Mars   290                91.0   \n",
       "16620                  Zindagi Na Milegi Dobara   270               148.0   \n",
       "\n",
       "       tomatometer_rating  tomatometer_count  audience_rating  audience_count  \\\n",
       "16521                  14                173             23.0        336898.0   \n",
       "16522                  67                  6             63.0          2944.0   \n",
       "16523                  81                 53             53.0           972.0   \n",
       "16524                  36                 11             46.0           409.0   \n",
       "16525                  22                  9             64.0          6929.0   \n",
       "...                   ...                ...              ...             ...   \n",
       "16616                  25                 20             61.0          1628.0   \n",
       "16617                  44                  9             42.0          8967.0   \n",
       "16618                  67                  9             59.0          2874.0   \n",
       "16619                  73                 40             88.0          1906.0   \n",
       "16620                  91                 11             86.0          3858.0   \n",
       "\n",
       "       rating__G  rating__NC17  ...  Horror  Kids& Family  \\\n",
       "16521          0             0  ...       0             0   \n",
       "16522          0             0  ...       0             0   \n",
       "16523          0             0  ...       0             0   \n",
       "16524          0             0  ...       0             0   \n",
       "16525          0             0  ...       0             0   \n",
       "...          ...           ...  ...     ...           ...   \n",
       "16616          0             0  ...       0             0   \n",
       "16617          0             0  ...       0             0   \n",
       "16618          0             0  ...       0             0   \n",
       "16619          0             0  ...       0             0   \n",
       "16620          0             0  ...       0             0   \n",
       "\n",
       "       Musical& PerformingArts  Mystery& Suspense  Romance  \\\n",
       "16521                        0                  0        0   \n",
       "16522                        0                  0        0   \n",
       "16523                        0                  0        0   \n",
       "16524                        0                  0        0   \n",
       "16525                        0                  0        0   \n",
       "...                        ...                ...      ...   \n",
       "16616                        1                  0        0   \n",
       "16617                        0                  0        0   \n",
       "16618                        0                  0        0   \n",
       "16619                        0                  0        0   \n",
       "16620                        0                  0        0   \n",
       "\n",
       "       ScienceFiction& Fantasy  SpecialInterest  Sports& Fitness  Television  \\\n",
       "16521                        0                0                0           0   \n",
       "16522                        0                0                0           0   \n",
       "16523                        0                0                0           0   \n",
       "16524                        0                0                0           0   \n",
       "16525                        0                0                0           0   \n",
       "...                        ...              ...              ...         ...   \n",
       "16616                        0                0                0           0   \n",
       "16617                        0                0                0           0   \n",
       "16618                        0                0                0           0   \n",
       "16619                        0                0                0           0   \n",
       "16620                        0                0                0           0   \n",
       "\n",
       "       Western  \n",
       "16521        0  \n",
       "16522        0  \n",
       "16523        0  \n",
       "16524        0  \n",
       "16525        0  \n",
       "...        ...  \n",
       "16616        0  \n",
       "16617        0  \n",
       "16618        0  \n",
       "16619        0  \n",
       "16620        0  \n",
       "\n",
       "[100 rows x 35 columns]"
      ]
     },
     "execution_count": 41,
     "metadata": {},
     "output_type": "execute_result"
    }
   ],
   "source": [
    "# data['cast']=pd.to_numeric(data['cast'])\n",
    "# data['directors']=pd.to_numeric(data['directors'])\n",
    "data.tail(100)"
   ]
  },
  {
   "cell_type": "code",
   "execution_count": 42,
   "metadata": {},
   "outputs": [
    {
     "data": {
      "text/plain": [
       "rotten_tomatoes_link       /m/40_days_and_40_nights\n",
       "movie_title                   40 Days and 40 Nights\n",
       "cast                                           3130\n",
       "runtime_in_minutes                               95\n",
       "tomatometer_rating                               38\n",
       "tomatometer_count                               136\n",
       "audience_rating                                  43\n",
       "audience_count                               460837\n",
       "rating__G                                         0\n",
       "rating__NC17                                      0\n",
       "rating__NR                                        0\n",
       "rating__PG                                        0\n",
       "rating__PG-13                                     0\n",
       "rating__R                                         1\n",
       "Action& Adventure                                 0\n",
       "Animation                                         0\n",
       "Anime& Manga                                      0\n",
       "ArtHouse& International                           0\n",
       "Classics                                          0\n",
       "Comedy                                            1\n",
       "CultMovies                                        0\n",
       "Documentary                                       0\n",
       "Drama                                             0\n",
       "Faith& Spirituality                               0\n",
       "Gay& Lesbian                                      0\n",
       "Horror                                            0\n",
       "Kids& Family                                      0\n",
       "Musical& PerformingArts                           0\n",
       "Mystery& Suspense                                 0\n",
       "Romance                                           0\n",
       "ScienceFiction& Fantasy                           0\n",
       "SpecialInterest                                   0\n",
       "Sports& Fitness                                   0\n",
       "Television                                        0\n",
       "Western                                           0\n",
       "Name: 1928, dtype: object"
      ]
     },
     "execution_count": 42,
     "metadata": {},
     "output_type": "execute_result"
    }
   ],
   "source": [
    "data.iloc[1927]"
   ]
  },
  {
   "cell_type": "code",
   "execution_count": 43,
   "metadata": {},
   "outputs": [
    {
     "data": {
      "text/plain": [
       "rotten_tomatoes_link         0\n",
       "movie_title                  0\n",
       "cast                         0\n",
       "runtime_in_minutes         155\n",
       "tomatometer_rating           0\n",
       "tomatometer_count            0\n",
       "audience_rating            252\n",
       "audience_count             252\n",
       "rating__G                    0\n",
       "rating__NC17                 0\n",
       "rating__NR                   0\n",
       "rating__PG                   0\n",
       "rating__PG-13                0\n",
       "rating__R                    0\n",
       "Action& Adventure            0\n",
       "Animation                    0\n",
       "Anime& Manga                 0\n",
       "ArtHouse& International      0\n",
       "Classics                     0\n",
       "Comedy                       0\n",
       "CultMovies                   0\n",
       "Documentary                  0\n",
       "Drama                        0\n",
       "Faith& Spirituality          0\n",
       "Gay& Lesbian                 0\n",
       "Horror                       0\n",
       "Kids& Family                 0\n",
       "Musical& PerformingArts      0\n",
       "Mystery& Suspense            0\n",
       "Romance                      0\n",
       "ScienceFiction& Fantasy      0\n",
       "SpecialInterest              0\n",
       "Sports& Fitness              0\n",
       "Television                   0\n",
       "Western                      0\n",
       "dtype: int64"
      ]
     },
     "execution_count": 43,
     "metadata": {},
     "output_type": "execute_result"
    }
   ],
   "source": [
    "data.isnull().sum()"
   ]
  },
  {
   "cell_type": "code",
   "execution_count": 44,
   "metadata": {},
   "outputs": [
    {
     "data": {
      "text/html": [
       "<div>\n",
       "<style scoped>\n",
       "    .dataframe tbody tr th:only-of-type {\n",
       "        vertical-align: middle;\n",
       "    }\n",
       "\n",
       "    .dataframe tbody tr th {\n",
       "        vertical-align: top;\n",
       "    }\n",
       "\n",
       "    .dataframe thead th {\n",
       "        text-align: right;\n",
       "    }\n",
       "</style>\n",
       "<table border=\"1\" class=\"dataframe\">\n",
       "  <thead>\n",
       "    <tr style=\"text-align: right;\">\n",
       "      <th></th>\n",
       "      <th>cast</th>\n",
       "      <th>runtime_in_minutes</th>\n",
       "      <th>tomatometer_rating</th>\n",
       "      <th>tomatometer_count</th>\n",
       "      <th>audience_rating</th>\n",
       "      <th>audience_count</th>\n",
       "      <th>rating__G</th>\n",
       "      <th>rating__NC17</th>\n",
       "      <th>rating__NR</th>\n",
       "      <th>rating__PG</th>\n",
       "      <th>...</th>\n",
       "      <th>Horror</th>\n",
       "      <th>Kids&amp; Family</th>\n",
       "      <th>Musical&amp; PerformingArts</th>\n",
       "      <th>Mystery&amp; Suspense</th>\n",
       "      <th>Romance</th>\n",
       "      <th>ScienceFiction&amp; Fantasy</th>\n",
       "      <th>SpecialInterest</th>\n",
       "      <th>Sports&amp; Fitness</th>\n",
       "      <th>Television</th>\n",
       "      <th>Western</th>\n",
       "    </tr>\n",
       "  </thead>\n",
       "  <tbody>\n",
       "    <tr>\n",
       "      <th>cast</th>\n",
       "      <td>1.000000</td>\n",
       "      <td>0.222311</td>\n",
       "      <td>-0.142755</td>\n",
       "      <td>0.365830</td>\n",
       "      <td>-0.020722</td>\n",
       "      <td>0.113293</td>\n",
       "      <td>-0.009031</td>\n",
       "      <td>-0.018603</td>\n",
       "      <td>-0.376424</td>\n",
       "      <td>0.087945</td>\n",
       "      <td>...</td>\n",
       "      <td>-0.012587</td>\n",
       "      <td>0.001319</td>\n",
       "      <td>-0.005686</td>\n",
       "      <td>0.009117</td>\n",
       "      <td>0.008146</td>\n",
       "      <td>0.002703</td>\n",
       "      <td>-0.022347</td>\n",
       "      <td>-0.002811</td>\n",
       "      <td>-0.002778</td>\n",
       "      <td>0.001683</td>\n",
       "    </tr>\n",
       "    <tr>\n",
       "      <th>runtime_in_minutes</th>\n",
       "      <td>0.222311</td>\n",
       "      <td>1.000000</td>\n",
       "      <td>0.071590</td>\n",
       "      <td>0.191851</td>\n",
       "      <td>0.168294</td>\n",
       "      <td>0.048793</td>\n",
       "      <td>-0.027534</td>\n",
       "      <td>0.008576</td>\n",
       "      <td>-0.105755</td>\n",
       "      <td>0.010266</td>\n",
       "      <td>...</td>\n",
       "      <td>-0.022121</td>\n",
       "      <td>-0.016287</td>\n",
       "      <td>0.003260</td>\n",
       "      <td>-0.000981</td>\n",
       "      <td>0.020085</td>\n",
       "      <td>-0.004394</td>\n",
       "      <td>-0.014611</td>\n",
       "      <td>0.007098</td>\n",
       "      <td>-0.002788</td>\n",
       "      <td>0.002732</td>\n",
       "    </tr>\n",
       "    <tr>\n",
       "      <th>tomatometer_rating</th>\n",
       "      <td>-0.142755</td>\n",
       "      <td>0.071590</td>\n",
       "      <td>1.000000</td>\n",
       "      <td>0.079822</td>\n",
       "      <td>0.660195</td>\n",
       "      <td>0.014433</td>\n",
       "      <td>0.065044</td>\n",
       "      <td>0.013278</td>\n",
       "      <td>0.275470</td>\n",
       "      <td>-0.015538</td>\n",
       "      <td>...</td>\n",
       "      <td>-0.013772</td>\n",
       "      <td>0.001111</td>\n",
       "      <td>0.017904</td>\n",
       "      <td>-0.023261</td>\n",
       "      <td>0.008291</td>\n",
       "      <td>-0.007649</td>\n",
       "      <td>0.006536</td>\n",
       "      <td>0.012777</td>\n",
       "      <td>0.011899</td>\n",
       "      <td>-0.000504</td>\n",
       "    </tr>\n",
       "    <tr>\n",
       "      <th>tomatometer_count</th>\n",
       "      <td>0.365830</td>\n",
       "      <td>0.191851</td>\n",
       "      <td>0.079822</td>\n",
       "      <td>1.000000</td>\n",
       "      <td>0.141117</td>\n",
       "      <td>0.132706</td>\n",
       "      <td>-0.059459</td>\n",
       "      <td>-0.003597</td>\n",
       "      <td>-0.327942</td>\n",
       "      <td>-0.009986</td>\n",
       "      <td>...</td>\n",
       "      <td>0.005195</td>\n",
       "      <td>-0.002659</td>\n",
       "      <td>0.014204</td>\n",
       "      <td>-0.017647</td>\n",
       "      <td>-0.002128</td>\n",
       "      <td>0.007568</td>\n",
       "      <td>0.000786</td>\n",
       "      <td>0.001582</td>\n",
       "      <td>-0.007099</td>\n",
       "      <td>0.005731</td>\n",
       "    </tr>\n",
       "    <tr>\n",
       "      <th>audience_rating</th>\n",
       "      <td>-0.020722</td>\n",
       "      <td>0.168294</td>\n",
       "      <td>0.660195</td>\n",
       "      <td>0.141117</td>\n",
       "      <td>1.000000</td>\n",
       "      <td>0.022769</td>\n",
       "      <td>0.076804</td>\n",
       "      <td>0.017086</td>\n",
       "      <td>0.106833</td>\n",
       "      <td>0.041987</td>\n",
       "      <td>...</td>\n",
       "      <td>-0.032171</td>\n",
       "      <td>0.000550</td>\n",
       "      <td>0.029420</td>\n",
       "      <td>-0.034964</td>\n",
       "      <td>0.010349</td>\n",
       "      <td>-0.017422</td>\n",
       "      <td>0.010169</td>\n",
       "      <td>0.015626</td>\n",
       "      <td>0.014421</td>\n",
       "      <td>-0.005005</td>\n",
       "    </tr>\n",
       "    <tr>\n",
       "      <th>audience_count</th>\n",
       "      <td>0.113293</td>\n",
       "      <td>0.048793</td>\n",
       "      <td>0.014433</td>\n",
       "      <td>0.132706</td>\n",
       "      <td>0.022769</td>\n",
       "      <td>1.000000</td>\n",
       "      <td>-0.002816</td>\n",
       "      <td>-0.003628</td>\n",
       "      <td>-0.051745</td>\n",
       "      <td>0.011418</td>\n",
       "      <td>...</td>\n",
       "      <td>0.007028</td>\n",
       "      <td>-0.003294</td>\n",
       "      <td>0.005368</td>\n",
       "      <td>-0.012077</td>\n",
       "      <td>0.009365</td>\n",
       "      <td>-0.002145</td>\n",
       "      <td>-0.002928</td>\n",
       "      <td>0.027946</td>\n",
       "      <td>-0.007314</td>\n",
       "      <td>0.001008</td>\n",
       "    </tr>\n",
       "    <tr>\n",
       "      <th>rating__G</th>\n",
       "      <td>-0.009031</td>\n",
       "      <td>-0.027534</td>\n",
       "      <td>0.065044</td>\n",
       "      <td>-0.059459</td>\n",
       "      <td>0.076804</td>\n",
       "      <td>-0.002816</td>\n",
       "      <td>1.000000</td>\n",
       "      <td>-0.009554</td>\n",
       "      <td>-0.129922</td>\n",
       "      <td>-0.075960</td>\n",
       "      <td>...</td>\n",
       "      <td>-0.016316</td>\n",
       "      <td>0.063430</td>\n",
       "      <td>0.024682</td>\n",
       "      <td>-0.021498</td>\n",
       "      <td>0.009046</td>\n",
       "      <td>0.023967</td>\n",
       "      <td>-0.000938</td>\n",
       "      <td>-0.002647</td>\n",
       "      <td>0.009700</td>\n",
       "      <td>-0.012248</td>\n",
       "    </tr>\n",
       "    <tr>\n",
       "      <th>rating__NC17</th>\n",
       "      <td>-0.018603</td>\n",
       "      <td>0.008576</td>\n",
       "      <td>0.013278</td>\n",
       "      <td>-0.003597</td>\n",
       "      <td>0.017086</td>\n",
       "      <td>-0.003628</td>\n",
       "      <td>-0.009554</td>\n",
       "      <td>1.000000</td>\n",
       "      <td>-0.030370</td>\n",
       "      <td>-0.017756</td>\n",
       "      <td>...</td>\n",
       "      <td>0.007044</td>\n",
       "      <td>-0.001956</td>\n",
       "      <td>-0.000938</td>\n",
       "      <td>-0.010911</td>\n",
       "      <td>0.004002</td>\n",
       "      <td>0.004681</td>\n",
       "      <td>0.006313</td>\n",
       "      <td>-0.004877</td>\n",
       "      <td>-0.005937</td>\n",
       "      <td>-0.006223</td>\n",
       "    </tr>\n",
       "    <tr>\n",
       "      <th>rating__NR</th>\n",
       "      <td>-0.376424</td>\n",
       "      <td>-0.105755</td>\n",
       "      <td>0.275470</td>\n",
       "      <td>-0.327942</td>\n",
       "      <td>0.106833</td>\n",
       "      <td>-0.051745</td>\n",
       "      <td>-0.129922</td>\n",
       "      <td>-0.030370</td>\n",
       "      <td>1.000000</td>\n",
       "      <td>-0.241455</td>\n",
       "      <td>...</td>\n",
       "      <td>-0.016832</td>\n",
       "      <td>-0.018136</td>\n",
       "      <td>0.001142</td>\n",
       "      <td>-0.017954</td>\n",
       "      <td>0.006016</td>\n",
       "      <td>-0.010188</td>\n",
       "      <td>0.025047</td>\n",
       "      <td>0.004994</td>\n",
       "      <td>-0.001507</td>\n",
       "      <td>-0.003801</td>\n",
       "    </tr>\n",
       "    <tr>\n",
       "      <th>rating__PG</th>\n",
       "      <td>0.087945</td>\n",
       "      <td>0.010266</td>\n",
       "      <td>-0.015538</td>\n",
       "      <td>-0.009986</td>\n",
       "      <td>0.041987</td>\n",
       "      <td>0.011418</td>\n",
       "      <td>-0.075960</td>\n",
       "      <td>-0.017756</td>\n",
       "      <td>-0.241455</td>\n",
       "      <td>1.000000</td>\n",
       "      <td>...</td>\n",
       "      <td>-0.023845</td>\n",
       "      <td>0.050845</td>\n",
       "      <td>-0.007479</td>\n",
       "      <td>-0.015504</td>\n",
       "      <td>0.006221</td>\n",
       "      <td>0.028519</td>\n",
       "      <td>-0.002491</td>\n",
       "      <td>0.016751</td>\n",
       "      <td>0.014914</td>\n",
       "      <td>0.008467</td>\n",
       "    </tr>\n",
       "    <tr>\n",
       "      <th>rating__PG-13</th>\n",
       "      <td>0.222604</td>\n",
       "      <td>0.071773</td>\n",
       "      <td>-0.175061</td>\n",
       "      <td>0.289308</td>\n",
       "      <td>-0.025435</td>\n",
       "      <td>0.069981</td>\n",
       "      <td>-0.092652</td>\n",
       "      <td>-0.021658</td>\n",
       "      <td>-0.294514</td>\n",
       "      <td>-0.172190</td>\n",
       "      <td>...</td>\n",
       "      <td>-0.010222</td>\n",
       "      <td>-0.004560</td>\n",
       "      <td>0.000519</td>\n",
       "      <td>-0.013898</td>\n",
       "      <td>0.002823</td>\n",
       "      <td>0.011933</td>\n",
       "      <td>-0.014179</td>\n",
       "      <td>0.000973</td>\n",
       "      <td>-0.001005</td>\n",
       "      <td>0.008451</td>\n",
       "    </tr>\n",
       "    <tr>\n",
       "      <th>rating__R</th>\n",
       "      <td>0.125524</td>\n",
       "      <td>0.046538</td>\n",
       "      <td>-0.139118</td>\n",
       "      <td>0.113124</td>\n",
       "      <td>-0.141011</td>\n",
       "      <td>-0.013138</td>\n",
       "      <td>-0.154584</td>\n",
       "      <td>-0.036135</td>\n",
       "      <td>-0.491379</td>\n",
       "      <td>-0.287288</td>\n",
       "      <td>...</td>\n",
       "      <td>0.046038</td>\n",
       "      <td>-0.039362</td>\n",
       "      <td>-0.006224</td>\n",
       "      <td>0.048131</td>\n",
       "      <td>-0.016163</td>\n",
       "      <td>-0.029328</td>\n",
       "      <td>-0.011019</td>\n",
       "      <td>-0.015359</td>\n",
       "      <td>-0.011291</td>\n",
       "      <td>-0.003290</td>\n",
       "    </tr>\n",
       "    <tr>\n",
       "      <th>Action&amp; Adventure</th>\n",
       "      <td>0.033911</td>\n",
       "      <td>0.005844</td>\n",
       "      <td>-0.007604</td>\n",
       "      <td>0.003231</td>\n",
       "      <td>-0.021315</td>\n",
       "      <td>-0.004171</td>\n",
       "      <td>0.004244</td>\n",
       "      <td>-0.011022</td>\n",
       "      <td>-0.017768</td>\n",
       "      <td>0.006706</td>\n",
       "      <td>...</td>\n",
       "      <td>-0.069732</td>\n",
       "      <td>0.090619</td>\n",
       "      <td>-0.092349</td>\n",
       "      <td>0.111830</td>\n",
       "      <td>-0.097506</td>\n",
       "      <td>0.205345</td>\n",
       "      <td>-0.119479</td>\n",
       "      <td>-0.032771</td>\n",
       "      <td>-0.027957</td>\n",
       "      <td>0.113545</td>\n",
       "    </tr>\n",
       "    <tr>\n",
       "      <th>Animation</th>\n",
       "      <td>-0.001940</td>\n",
       "      <td>-0.019299</td>\n",
       "      <td>0.013272</td>\n",
       "      <td>0.006057</td>\n",
       "      <td>0.013989</td>\n",
       "      <td>-0.003112</td>\n",
       "      <td>0.027136</td>\n",
       "      <td>-0.001811</td>\n",
       "      <td>-0.004273</td>\n",
       "      <td>0.020429</td>\n",
       "      <td>...</td>\n",
       "      <td>-0.057051</td>\n",
       "      <td>0.464968</td>\n",
       "      <td>0.012560</td>\n",
       "      <td>-0.080635</td>\n",
       "      <td>-0.049490</td>\n",
       "      <td>0.110608</td>\n",
       "      <td>-0.023395</td>\n",
       "      <td>-0.019353</td>\n",
       "      <td>0.008700</td>\n",
       "      <td>-0.022123</td>\n",
       "    </tr>\n",
       "    <tr>\n",
       "      <th>Anime&amp; Manga</th>\n",
       "      <td>0.007445</td>\n",
       "      <td>-0.002171</td>\n",
       "      <td>0.000713</td>\n",
       "      <td>0.000324</td>\n",
       "      <td>0.006907</td>\n",
       "      <td>-0.001443</td>\n",
       "      <td>-0.006079</td>\n",
       "      <td>-0.001421</td>\n",
       "      <td>-0.001693</td>\n",
       "      <td>0.006968</td>\n",
       "      <td>...</td>\n",
       "      <td>-0.004530</td>\n",
       "      <td>0.016660</td>\n",
       "      <td>-0.007511</td>\n",
       "      <td>-0.005048</td>\n",
       "      <td>-0.010505</td>\n",
       "      <td>0.055162</td>\n",
       "      <td>-0.008457</td>\n",
       "      <td>-0.003103</td>\n",
       "      <td>-0.003778</td>\n",
       "      <td>-0.003960</td>\n",
       "    </tr>\n",
       "    <tr>\n",
       "      <th>ArtHouse&amp; International</th>\n",
       "      <td>-0.041952</td>\n",
       "      <td>0.007415</td>\n",
       "      <td>0.014776</td>\n",
       "      <td>-0.002998</td>\n",
       "      <td>0.005184</td>\n",
       "      <td>-0.006280</td>\n",
       "      <td>-0.006520</td>\n",
       "      <td>0.013223</td>\n",
       "      <td>0.026855</td>\n",
       "      <td>-0.025154</td>\n",
       "      <td>...</td>\n",
       "      <td>-0.027755</td>\n",
       "      <td>-0.070065</td>\n",
       "      <td>-0.029968</td>\n",
       "      <td>-0.020574</td>\n",
       "      <td>0.014578</td>\n",
       "      <td>-0.040751</td>\n",
       "      <td>-0.006044</td>\n",
       "      <td>-0.015649</td>\n",
       "      <td>-0.011561</td>\n",
       "      <td>-0.026412</td>\n",
       "    </tr>\n",
       "    <tr>\n",
       "      <th>Classics</th>\n",
       "      <td>0.010081</td>\n",
       "      <td>0.019285</td>\n",
       "      <td>0.075744</td>\n",
       "      <td>-0.034732</td>\n",
       "      <td>0.056815</td>\n",
       "      <td>-0.008102</td>\n",
       "      <td>0.045666</td>\n",
       "      <td>-0.002222</td>\n",
       "      <td>0.039164</td>\n",
       "      <td>0.006345</td>\n",
       "      <td>...</td>\n",
       "      <td>-0.011358</td>\n",
       "      <td>-0.011838</td>\n",
       "      <td>0.073888</td>\n",
       "      <td>0.003659</td>\n",
       "      <td>0.103439</td>\n",
       "      <td>0.001308</td>\n",
       "      <td>-0.065017</td>\n",
       "      <td>-0.021335</td>\n",
       "      <td>-0.024052</td>\n",
       "      <td>0.163807</td>\n",
       "    </tr>\n",
       "    <tr>\n",
       "      <th>Comedy</th>\n",
       "      <td>0.022685</td>\n",
       "      <td>-0.006491</td>\n",
       "      <td>-0.011232</td>\n",
       "      <td>0.008797</td>\n",
       "      <td>0.001004</td>\n",
       "      <td>-0.000963</td>\n",
       "      <td>-0.000198</td>\n",
       "      <td>0.000025</td>\n",
       "      <td>-0.014360</td>\n",
       "      <td>0.018503</td>\n",
       "      <td>...</td>\n",
       "      <td>-0.147429</td>\n",
       "      <td>0.096353</td>\n",
       "      <td>0.004392</td>\n",
       "      <td>-0.238835</td>\n",
       "      <td>0.151150</td>\n",
       "      <td>-0.054994</td>\n",
       "      <td>-0.136967</td>\n",
       "      <td>-0.033662</td>\n",
       "      <td>-0.012082</td>\n",
       "      <td>-0.045448</td>\n",
       "    </tr>\n",
       "    <tr>\n",
       "      <th>CultMovies</th>\n",
       "      <td>0.000347</td>\n",
       "      <td>-0.002463</td>\n",
       "      <td>-0.002820</td>\n",
       "      <td>0.006033</td>\n",
       "      <td>-0.001263</td>\n",
       "      <td>-0.002790</td>\n",
       "      <td>0.000293</td>\n",
       "      <td>-0.003679</td>\n",
       "      <td>-0.005525</td>\n",
       "      <td>-0.007969</td>\n",
       "      <td>...</td>\n",
       "      <td>0.077035</td>\n",
       "      <td>-0.010861</td>\n",
       "      <td>0.007045</td>\n",
       "      <td>0.003780</td>\n",
       "      <td>-0.027193</td>\n",
       "      <td>0.049610</td>\n",
       "      <td>-0.003971</td>\n",
       "      <td>-0.008034</td>\n",
       "      <td>-0.003486</td>\n",
       "      <td>0.013805</td>\n",
       "    </tr>\n",
       "    <tr>\n",
       "      <th>Documentary</th>\n",
       "      <td>-0.030104</td>\n",
       "      <td>-0.020175</td>\n",
       "      <td>0.006080</td>\n",
       "      <td>0.013589</td>\n",
       "      <td>0.015727</td>\n",
       "      <td>0.010737</td>\n",
       "      <td>0.000971</td>\n",
       "      <td>0.006981</td>\n",
       "      <td>0.027702</td>\n",
       "      <td>-0.004745</td>\n",
       "      <td>...</td>\n",
       "      <td>-0.120868</td>\n",
       "      <td>-0.069790</td>\n",
       "      <td>0.209429</td>\n",
       "      <td>-0.167380</td>\n",
       "      <td>-0.117464</td>\n",
       "      <td>-0.115342</td>\n",
       "      <td>0.633745</td>\n",
       "      <td>0.164268</td>\n",
       "      <td>0.125639</td>\n",
       "      <td>-0.041642</td>\n",
       "    </tr>\n",
       "    <tr>\n",
       "      <th>Drama</th>\n",
       "      <td>0.010450</td>\n",
       "      <td>0.029566</td>\n",
       "      <td>0.020627</td>\n",
       "      <td>-0.015470</td>\n",
       "      <td>0.022107</td>\n",
       "      <td>-0.012922</td>\n",
       "      <td>-0.005209</td>\n",
       "      <td>-0.005263</td>\n",
       "      <td>0.010839</td>\n",
       "      <td>-0.007792</td>\n",
       "      <td>...</td>\n",
       "      <td>-0.213183</td>\n",
       "      <td>-0.149304</td>\n",
       "      <td>-0.075802</td>\n",
       "      <td>0.073121</td>\n",
       "      <td>0.113829</td>\n",
       "      <td>-0.140910</td>\n",
       "      <td>-0.183015</td>\n",
       "      <td>-0.029410</td>\n",
       "      <td>-0.051634</td>\n",
       "      <td>-0.026504</td>\n",
       "    </tr>\n",
       "    <tr>\n",
       "      <th>Faith&amp; Spirituality</th>\n",
       "      <td>0.007688</td>\n",
       "      <td>0.015201</td>\n",
       "      <td>-0.013298</td>\n",
       "      <td>0.007724</td>\n",
       "      <td>-0.003412</td>\n",
       "      <td>-0.002934</td>\n",
       "      <td>0.013319</td>\n",
       "      <td>0.015433</td>\n",
       "      <td>-0.011228</td>\n",
       "      <td>0.008964</td>\n",
       "      <td>...</td>\n",
       "      <td>-0.024725</td>\n",
       "      <td>-0.007214</td>\n",
       "      <td>0.009065</td>\n",
       "      <td>-0.030011</td>\n",
       "      <td>-0.015514</td>\n",
       "      <td>-0.012003</td>\n",
       "      <td>0.071927</td>\n",
       "      <td>0.027409</td>\n",
       "      <td>-0.001510</td>\n",
       "      <td>-0.009047</td>\n",
       "    </tr>\n",
       "    <tr>\n",
       "      <th>Gay&amp; Lesbian</th>\n",
       "      <td>-0.013912</td>\n",
       "      <td>0.000186</td>\n",
       "      <td>0.002310</td>\n",
       "      <td>-0.004121</td>\n",
       "      <td>0.004611</td>\n",
       "      <td>0.012595</td>\n",
       "      <td>-0.003254</td>\n",
       "      <td>-0.003031</td>\n",
       "      <td>0.006480</td>\n",
       "      <td>-0.004044</td>\n",
       "      <td>...</td>\n",
       "      <td>-0.020119</td>\n",
       "      <td>-0.016797</td>\n",
       "      <td>0.008050</td>\n",
       "      <td>-0.015633</td>\n",
       "      <td>0.029089</td>\n",
       "      <td>-0.015783</td>\n",
       "      <td>0.007294</td>\n",
       "      <td>0.011851</td>\n",
       "      <td>0.007193</td>\n",
       "      <td>-0.008444</td>\n",
       "    </tr>\n",
       "    <tr>\n",
       "      <th>Horror</th>\n",
       "      <td>-0.012587</td>\n",
       "      <td>-0.022121</td>\n",
       "      <td>-0.013772</td>\n",
       "      <td>0.005195</td>\n",
       "      <td>-0.032171</td>\n",
       "      <td>0.007028</td>\n",
       "      <td>-0.016316</td>\n",
       "      <td>0.007044</td>\n",
       "      <td>-0.016832</td>\n",
       "      <td>-0.023845</td>\n",
       "      <td>...</td>\n",
       "      <td>1.000000</td>\n",
       "      <td>-0.081156</td>\n",
       "      <td>-0.072202</td>\n",
       "      <td>0.195974</td>\n",
       "      <td>-0.100230</td>\n",
       "      <td>0.122484</td>\n",
       "      <td>-0.078731</td>\n",
       "      <td>-0.037144</td>\n",
       "      <td>-0.019234</td>\n",
       "      <td>-0.034248</td>\n",
       "    </tr>\n",
       "    <tr>\n",
       "      <th>Kids&amp; Family</th>\n",
       "      <td>0.001319</td>\n",
       "      <td>-0.016287</td>\n",
       "      <td>0.001111</td>\n",
       "      <td>-0.002659</td>\n",
       "      <td>0.000550</td>\n",
       "      <td>-0.003294</td>\n",
       "      <td>0.063430</td>\n",
       "      <td>-0.001956</td>\n",
       "      <td>-0.018136</td>\n",
       "      <td>0.050845</td>\n",
       "      <td>...</td>\n",
       "      <td>-0.081156</td>\n",
       "      <td>1.000000</td>\n",
       "      <td>0.024460</td>\n",
       "      <td>-0.107872</td>\n",
       "      <td>-0.053623</td>\n",
       "      <td>0.140621</td>\n",
       "      <td>-0.048208</td>\n",
       "      <td>-0.012596</td>\n",
       "      <td>0.042586</td>\n",
       "      <td>-0.015507</td>\n",
       "    </tr>\n",
       "    <tr>\n",
       "      <th>Musical&amp; PerformingArts</th>\n",
       "      <td>-0.005686</td>\n",
       "      <td>0.003260</td>\n",
       "      <td>0.017904</td>\n",
       "      <td>0.014204</td>\n",
       "      <td>0.029420</td>\n",
       "      <td>0.005368</td>\n",
       "      <td>0.024682</td>\n",
       "      <td>-0.000938</td>\n",
       "      <td>0.001142</td>\n",
       "      <td>-0.007479</td>\n",
       "      <td>...</td>\n",
       "      <td>-0.072202</td>\n",
       "      <td>0.024460</td>\n",
       "      <td>1.000000</td>\n",
       "      <td>-0.109106</td>\n",
       "      <td>0.057554</td>\n",
       "      <td>-0.036110</td>\n",
       "      <td>0.111599</td>\n",
       "      <td>-0.015744</td>\n",
       "      <td>0.051470</td>\n",
       "      <td>-0.007161</td>\n",
       "    </tr>\n",
       "    <tr>\n",
       "      <th>Mystery&amp; Suspense</th>\n",
       "      <td>0.009117</td>\n",
       "      <td>-0.000981</td>\n",
       "      <td>-0.023261</td>\n",
       "      <td>-0.017647</td>\n",
       "      <td>-0.034964</td>\n",
       "      <td>-0.012077</td>\n",
       "      <td>-0.021498</td>\n",
       "      <td>-0.010911</td>\n",
       "      <td>-0.017954</td>\n",
       "      <td>-0.015504</td>\n",
       "      <td>...</td>\n",
       "      <td>0.195974</td>\n",
       "      <td>-0.107872</td>\n",
       "      <td>-0.109106</td>\n",
       "      <td>1.000000</td>\n",
       "      <td>-0.103962</td>\n",
       "      <td>0.014259</td>\n",
       "      <td>-0.114313</td>\n",
       "      <td>-0.045802</td>\n",
       "      <td>-0.038603</td>\n",
       "      <td>-0.042713</td>\n",
       "    </tr>\n",
       "    <tr>\n",
       "      <th>Romance</th>\n",
       "      <td>0.008146</td>\n",
       "      <td>0.020085</td>\n",
       "      <td>0.008291</td>\n",
       "      <td>-0.002128</td>\n",
       "      <td>0.010349</td>\n",
       "      <td>0.009365</td>\n",
       "      <td>0.009046</td>\n",
       "      <td>0.004002</td>\n",
       "      <td>0.006016</td>\n",
       "      <td>0.006221</td>\n",
       "      <td>...</td>\n",
       "      <td>-0.100230</td>\n",
       "      <td>-0.053623</td>\n",
       "      <td>0.057554</td>\n",
       "      <td>-0.103962</td>\n",
       "      <td>1.000000</td>\n",
       "      <td>-0.044372</td>\n",
       "      <td>-0.077466</td>\n",
       "      <td>-0.026584</td>\n",
       "      <td>-0.029814</td>\n",
       "      <td>-0.005651</td>\n",
       "    </tr>\n",
       "    <tr>\n",
       "      <th>ScienceFiction&amp; Fantasy</th>\n",
       "      <td>0.002703</td>\n",
       "      <td>-0.004394</td>\n",
       "      <td>-0.007649</td>\n",
       "      <td>0.007568</td>\n",
       "      <td>-0.017422</td>\n",
       "      <td>-0.002145</td>\n",
       "      <td>0.023967</td>\n",
       "      <td>0.004681</td>\n",
       "      <td>-0.010188</td>\n",
       "      <td>0.028519</td>\n",
       "      <td>...</td>\n",
       "      <td>0.122484</td>\n",
       "      <td>0.140621</td>\n",
       "      <td>-0.036110</td>\n",
       "      <td>0.014259</td>\n",
       "      <td>-0.044372</td>\n",
       "      <td>1.000000</td>\n",
       "      <td>-0.069815</td>\n",
       "      <td>-0.029535</td>\n",
       "      <td>-0.008008</td>\n",
       "      <td>-0.026823</td>\n",
       "    </tr>\n",
       "    <tr>\n",
       "      <th>SpecialInterest</th>\n",
       "      <td>-0.022347</td>\n",
       "      <td>-0.014611</td>\n",
       "      <td>0.006536</td>\n",
       "      <td>0.000786</td>\n",
       "      <td>0.010169</td>\n",
       "      <td>-0.002928</td>\n",
       "      <td>-0.000938</td>\n",
       "      <td>0.006313</td>\n",
       "      <td>0.025047</td>\n",
       "      <td>-0.002491</td>\n",
       "      <td>...</td>\n",
       "      <td>-0.078731</td>\n",
       "      <td>-0.048208</td>\n",
       "      <td>0.111599</td>\n",
       "      <td>-0.114313</td>\n",
       "      <td>-0.077466</td>\n",
       "      <td>-0.069815</td>\n",
       "      <td>1.000000</td>\n",
       "      <td>0.093171</td>\n",
       "      <td>0.069299</td>\n",
       "      <td>-0.031677</td>\n",
       "    </tr>\n",
       "    <tr>\n",
       "      <th>Sports&amp; Fitness</th>\n",
       "      <td>-0.002811</td>\n",
       "      <td>0.007098</td>\n",
       "      <td>0.012777</td>\n",
       "      <td>0.001582</td>\n",
       "      <td>0.015626</td>\n",
       "      <td>0.027946</td>\n",
       "      <td>-0.002647</td>\n",
       "      <td>-0.004877</td>\n",
       "      <td>0.004994</td>\n",
       "      <td>0.016751</td>\n",
       "      <td>...</td>\n",
       "      <td>-0.037144</td>\n",
       "      <td>-0.012596</td>\n",
       "      <td>-0.015744</td>\n",
       "      <td>-0.045802</td>\n",
       "      <td>-0.026584</td>\n",
       "      <td>-0.029535</td>\n",
       "      <td>0.093171</td>\n",
       "      <td>1.000000</td>\n",
       "      <td>0.006107</td>\n",
       "      <td>-0.013590</td>\n",
       "    </tr>\n",
       "    <tr>\n",
       "      <th>Television</th>\n",
       "      <td>-0.002778</td>\n",
       "      <td>-0.002788</td>\n",
       "      <td>0.011899</td>\n",
       "      <td>-0.007099</td>\n",
       "      <td>0.014421</td>\n",
       "      <td>-0.007314</td>\n",
       "      <td>0.009700</td>\n",
       "      <td>-0.005937</td>\n",
       "      <td>-0.001507</td>\n",
       "      <td>0.014914</td>\n",
       "      <td>...</td>\n",
       "      <td>-0.019234</td>\n",
       "      <td>0.042586</td>\n",
       "      <td>0.051470</td>\n",
       "      <td>-0.038603</td>\n",
       "      <td>-0.029814</td>\n",
       "      <td>-0.008008</td>\n",
       "      <td>0.069299</td>\n",
       "      <td>0.006107</td>\n",
       "      <td>1.000000</td>\n",
       "      <td>-0.009019</td>\n",
       "    </tr>\n",
       "    <tr>\n",
       "      <th>Western</th>\n",
       "      <td>0.001683</td>\n",
       "      <td>0.002732</td>\n",
       "      <td>-0.000504</td>\n",
       "      <td>0.005731</td>\n",
       "      <td>-0.005005</td>\n",
       "      <td>0.001008</td>\n",
       "      <td>-0.012248</td>\n",
       "      <td>-0.006223</td>\n",
       "      <td>-0.003801</td>\n",
       "      <td>0.008467</td>\n",
       "      <td>...</td>\n",
       "      <td>-0.034248</td>\n",
       "      <td>-0.015507</td>\n",
       "      <td>-0.007161</td>\n",
       "      <td>-0.042713</td>\n",
       "      <td>-0.005651</td>\n",
       "      <td>-0.026823</td>\n",
       "      <td>-0.031677</td>\n",
       "      <td>-0.013590</td>\n",
       "      <td>-0.009019</td>\n",
       "      <td>1.000000</td>\n",
       "    </tr>\n",
       "  </tbody>\n",
       "</table>\n",
       "<p>33 rows × 33 columns</p>\n",
       "</div>"
      ],
      "text/plain": [
       "                             cast  runtime_in_minutes  tomatometer_rating  \\\n",
       "cast                     1.000000            0.222311           -0.142755   \n",
       "runtime_in_minutes       0.222311            1.000000            0.071590   \n",
       "tomatometer_rating      -0.142755            0.071590            1.000000   \n",
       "tomatometer_count        0.365830            0.191851            0.079822   \n",
       "audience_rating         -0.020722            0.168294            0.660195   \n",
       "audience_count           0.113293            0.048793            0.014433   \n",
       "rating__G               -0.009031           -0.027534            0.065044   \n",
       "rating__NC17            -0.018603            0.008576            0.013278   \n",
       "rating__NR              -0.376424           -0.105755            0.275470   \n",
       "rating__PG               0.087945            0.010266           -0.015538   \n",
       "rating__PG-13            0.222604            0.071773           -0.175061   \n",
       "rating__R                0.125524            0.046538           -0.139118   \n",
       "Action& Adventure        0.033911            0.005844           -0.007604   \n",
       "Animation               -0.001940           -0.019299            0.013272   \n",
       "Anime& Manga             0.007445           -0.002171            0.000713   \n",
       "ArtHouse& International -0.041952            0.007415            0.014776   \n",
       "Classics                 0.010081            0.019285            0.075744   \n",
       "Comedy                   0.022685           -0.006491           -0.011232   \n",
       "CultMovies               0.000347           -0.002463           -0.002820   \n",
       "Documentary             -0.030104           -0.020175            0.006080   \n",
       "Drama                    0.010450            0.029566            0.020627   \n",
       "Faith& Spirituality      0.007688            0.015201           -0.013298   \n",
       "Gay& Lesbian            -0.013912            0.000186            0.002310   \n",
       "Horror                  -0.012587           -0.022121           -0.013772   \n",
       "Kids& Family             0.001319           -0.016287            0.001111   \n",
       "Musical& PerformingArts -0.005686            0.003260            0.017904   \n",
       "Mystery& Suspense        0.009117           -0.000981           -0.023261   \n",
       "Romance                  0.008146            0.020085            0.008291   \n",
       "ScienceFiction& Fantasy  0.002703           -0.004394           -0.007649   \n",
       "SpecialInterest         -0.022347           -0.014611            0.006536   \n",
       "Sports& Fitness         -0.002811            0.007098            0.012777   \n",
       "Television              -0.002778           -0.002788            0.011899   \n",
       "Western                  0.001683            0.002732           -0.000504   \n",
       "\n",
       "                         tomatometer_count  audience_rating  audience_count  \\\n",
       "cast                              0.365830        -0.020722        0.113293   \n",
       "runtime_in_minutes                0.191851         0.168294        0.048793   \n",
       "tomatometer_rating                0.079822         0.660195        0.014433   \n",
       "tomatometer_count                 1.000000         0.141117        0.132706   \n",
       "audience_rating                   0.141117         1.000000        0.022769   \n",
       "audience_count                    0.132706         0.022769        1.000000   \n",
       "rating__G                        -0.059459         0.076804       -0.002816   \n",
       "rating__NC17                     -0.003597         0.017086       -0.003628   \n",
       "rating__NR                       -0.327942         0.106833       -0.051745   \n",
       "rating__PG                       -0.009986         0.041987        0.011418   \n",
       "rating__PG-13                     0.289308        -0.025435        0.069981   \n",
       "rating__R                         0.113124        -0.141011       -0.013138   \n",
       "Action& Adventure                 0.003231        -0.021315       -0.004171   \n",
       "Animation                         0.006057         0.013989       -0.003112   \n",
       "Anime& Manga                      0.000324         0.006907       -0.001443   \n",
       "ArtHouse& International          -0.002998         0.005184       -0.006280   \n",
       "Classics                         -0.034732         0.056815       -0.008102   \n",
       "Comedy                            0.008797         0.001004       -0.000963   \n",
       "CultMovies                        0.006033        -0.001263       -0.002790   \n",
       "Documentary                       0.013589         0.015727        0.010737   \n",
       "Drama                            -0.015470         0.022107       -0.012922   \n",
       "Faith& Spirituality               0.007724        -0.003412       -0.002934   \n",
       "Gay& Lesbian                     -0.004121         0.004611        0.012595   \n",
       "Horror                            0.005195        -0.032171        0.007028   \n",
       "Kids& Family                     -0.002659         0.000550       -0.003294   \n",
       "Musical& PerformingArts           0.014204         0.029420        0.005368   \n",
       "Mystery& Suspense                -0.017647        -0.034964       -0.012077   \n",
       "Romance                          -0.002128         0.010349        0.009365   \n",
       "ScienceFiction& Fantasy           0.007568        -0.017422       -0.002145   \n",
       "SpecialInterest                   0.000786         0.010169       -0.002928   \n",
       "Sports& Fitness                   0.001582         0.015626        0.027946   \n",
       "Television                       -0.007099         0.014421       -0.007314   \n",
       "Western                           0.005731        -0.005005        0.001008   \n",
       "\n",
       "                         rating__G  rating__NC17  rating__NR  rating__PG  ...  \\\n",
       "cast                     -0.009031     -0.018603   -0.376424    0.087945  ...   \n",
       "runtime_in_minutes       -0.027534      0.008576   -0.105755    0.010266  ...   \n",
       "tomatometer_rating        0.065044      0.013278    0.275470   -0.015538  ...   \n",
       "tomatometer_count        -0.059459     -0.003597   -0.327942   -0.009986  ...   \n",
       "audience_rating           0.076804      0.017086    0.106833    0.041987  ...   \n",
       "audience_count           -0.002816     -0.003628   -0.051745    0.011418  ...   \n",
       "rating__G                 1.000000     -0.009554   -0.129922   -0.075960  ...   \n",
       "rating__NC17             -0.009554      1.000000   -0.030370   -0.017756  ...   \n",
       "rating__NR               -0.129922     -0.030370    1.000000   -0.241455  ...   \n",
       "rating__PG               -0.075960     -0.017756   -0.241455    1.000000  ...   \n",
       "rating__PG-13            -0.092652     -0.021658   -0.294514   -0.172190  ...   \n",
       "rating__R                -0.154584     -0.036135   -0.491379   -0.287288  ...   \n",
       "Action& Adventure         0.004244     -0.011022   -0.017768    0.006706  ...   \n",
       "Animation                 0.027136     -0.001811   -0.004273    0.020429  ...   \n",
       "Anime& Manga             -0.006079     -0.001421   -0.001693    0.006968  ...   \n",
       "ArtHouse& International  -0.006520      0.013223    0.026855   -0.025154  ...   \n",
       "Classics                  0.045666     -0.002222    0.039164    0.006345  ...   \n",
       "Comedy                   -0.000198      0.000025   -0.014360    0.018503  ...   \n",
       "CultMovies                0.000293     -0.003679   -0.005525   -0.007969  ...   \n",
       "Documentary               0.000971      0.006981    0.027702   -0.004745  ...   \n",
       "Drama                    -0.005209     -0.005263    0.010839   -0.007792  ...   \n",
       "Faith& Spirituality       0.013319      0.015433   -0.011228    0.008964  ...   \n",
       "Gay& Lesbian             -0.003254     -0.003031    0.006480   -0.004044  ...   \n",
       "Horror                   -0.016316      0.007044   -0.016832   -0.023845  ...   \n",
       "Kids& Family              0.063430     -0.001956   -0.018136    0.050845  ...   \n",
       "Musical& PerformingArts   0.024682     -0.000938    0.001142   -0.007479  ...   \n",
       "Mystery& Suspense        -0.021498     -0.010911   -0.017954   -0.015504  ...   \n",
       "Romance                   0.009046      0.004002    0.006016    0.006221  ...   \n",
       "ScienceFiction& Fantasy   0.023967      0.004681   -0.010188    0.028519  ...   \n",
       "SpecialInterest          -0.000938      0.006313    0.025047   -0.002491  ...   \n",
       "Sports& Fitness          -0.002647     -0.004877    0.004994    0.016751  ...   \n",
       "Television                0.009700     -0.005937   -0.001507    0.014914  ...   \n",
       "Western                  -0.012248     -0.006223   -0.003801    0.008467  ...   \n",
       "\n",
       "                           Horror  Kids& Family  Musical& PerformingArts  \\\n",
       "cast                    -0.012587      0.001319                -0.005686   \n",
       "runtime_in_minutes      -0.022121     -0.016287                 0.003260   \n",
       "tomatometer_rating      -0.013772      0.001111                 0.017904   \n",
       "tomatometer_count        0.005195     -0.002659                 0.014204   \n",
       "audience_rating         -0.032171      0.000550                 0.029420   \n",
       "audience_count           0.007028     -0.003294                 0.005368   \n",
       "rating__G               -0.016316      0.063430                 0.024682   \n",
       "rating__NC17             0.007044     -0.001956                -0.000938   \n",
       "rating__NR              -0.016832     -0.018136                 0.001142   \n",
       "rating__PG              -0.023845      0.050845                -0.007479   \n",
       "rating__PG-13           -0.010222     -0.004560                 0.000519   \n",
       "rating__R                0.046038     -0.039362                -0.006224   \n",
       "Action& Adventure       -0.069732      0.090619                -0.092349   \n",
       "Animation               -0.057051      0.464968                 0.012560   \n",
       "Anime& Manga            -0.004530      0.016660                -0.007511   \n",
       "ArtHouse& International -0.027755     -0.070065                -0.029968   \n",
       "Classics                -0.011358     -0.011838                 0.073888   \n",
       "Comedy                  -0.147429      0.096353                 0.004392   \n",
       "CultMovies               0.077035     -0.010861                 0.007045   \n",
       "Documentary             -0.120868     -0.069790                 0.209429   \n",
       "Drama                   -0.213183     -0.149304                -0.075802   \n",
       "Faith& Spirituality     -0.024725     -0.007214                 0.009065   \n",
       "Gay& Lesbian            -0.020119     -0.016797                 0.008050   \n",
       "Horror                   1.000000     -0.081156                -0.072202   \n",
       "Kids& Family            -0.081156      1.000000                 0.024460   \n",
       "Musical& PerformingArts -0.072202      0.024460                 1.000000   \n",
       "Mystery& Suspense        0.195974     -0.107872                -0.109106   \n",
       "Romance                 -0.100230     -0.053623                 0.057554   \n",
       "ScienceFiction& Fantasy  0.122484      0.140621                -0.036110   \n",
       "SpecialInterest         -0.078731     -0.048208                 0.111599   \n",
       "Sports& Fitness         -0.037144     -0.012596                -0.015744   \n",
       "Television              -0.019234      0.042586                 0.051470   \n",
       "Western                 -0.034248     -0.015507                -0.007161   \n",
       "\n",
       "                         Mystery& Suspense   Romance  ScienceFiction& Fantasy  \\\n",
       "cast                              0.009117  0.008146                 0.002703   \n",
       "runtime_in_minutes               -0.000981  0.020085                -0.004394   \n",
       "tomatometer_rating               -0.023261  0.008291                -0.007649   \n",
       "tomatometer_count                -0.017647 -0.002128                 0.007568   \n",
       "audience_rating                  -0.034964  0.010349                -0.017422   \n",
       "audience_count                   -0.012077  0.009365                -0.002145   \n",
       "rating__G                        -0.021498  0.009046                 0.023967   \n",
       "rating__NC17                     -0.010911  0.004002                 0.004681   \n",
       "rating__NR                       -0.017954  0.006016                -0.010188   \n",
       "rating__PG                       -0.015504  0.006221                 0.028519   \n",
       "rating__PG-13                    -0.013898  0.002823                 0.011933   \n",
       "rating__R                         0.048131 -0.016163                -0.029328   \n",
       "Action& Adventure                 0.111830 -0.097506                 0.205345   \n",
       "Animation                        -0.080635 -0.049490                 0.110608   \n",
       "Anime& Manga                     -0.005048 -0.010505                 0.055162   \n",
       "ArtHouse& International          -0.020574  0.014578                -0.040751   \n",
       "Classics                          0.003659  0.103439                 0.001308   \n",
       "Comedy                           -0.238835  0.151150                -0.054994   \n",
       "CultMovies                        0.003780 -0.027193                 0.049610   \n",
       "Documentary                      -0.167380 -0.117464                -0.115342   \n",
       "Drama                             0.073121  0.113829                -0.140910   \n",
       "Faith& Spirituality              -0.030011 -0.015514                -0.012003   \n",
       "Gay& Lesbian                     -0.015633  0.029089                -0.015783   \n",
       "Horror                            0.195974 -0.100230                 0.122484   \n",
       "Kids& Family                     -0.107872 -0.053623                 0.140621   \n",
       "Musical& PerformingArts          -0.109106  0.057554                -0.036110   \n",
       "Mystery& Suspense                 1.000000 -0.103962                 0.014259   \n",
       "Romance                          -0.103962  1.000000                -0.044372   \n",
       "ScienceFiction& Fantasy           0.014259 -0.044372                 1.000000   \n",
       "SpecialInterest                  -0.114313 -0.077466                -0.069815   \n",
       "Sports& Fitness                  -0.045802 -0.026584                -0.029535   \n",
       "Television                       -0.038603 -0.029814                -0.008008   \n",
       "Western                          -0.042713 -0.005651                -0.026823   \n",
       "\n",
       "                         SpecialInterest  Sports& Fitness  Television  \\\n",
       "cast                           -0.022347        -0.002811   -0.002778   \n",
       "runtime_in_minutes             -0.014611         0.007098   -0.002788   \n",
       "tomatometer_rating              0.006536         0.012777    0.011899   \n",
       "tomatometer_count               0.000786         0.001582   -0.007099   \n",
       "audience_rating                 0.010169         0.015626    0.014421   \n",
       "audience_count                 -0.002928         0.027946   -0.007314   \n",
       "rating__G                      -0.000938        -0.002647    0.009700   \n",
       "rating__NC17                    0.006313        -0.004877   -0.005937   \n",
       "rating__NR                      0.025047         0.004994   -0.001507   \n",
       "rating__PG                     -0.002491         0.016751    0.014914   \n",
       "rating__PG-13                  -0.014179         0.000973   -0.001005   \n",
       "rating__R                      -0.011019        -0.015359   -0.011291   \n",
       "Action& Adventure              -0.119479        -0.032771   -0.027957   \n",
       "Animation                      -0.023395        -0.019353    0.008700   \n",
       "Anime& Manga                   -0.008457        -0.003103   -0.003778   \n",
       "ArtHouse& International        -0.006044        -0.015649   -0.011561   \n",
       "Classics                       -0.065017        -0.021335   -0.024052   \n",
       "Comedy                         -0.136967        -0.033662   -0.012082   \n",
       "CultMovies                     -0.003971        -0.008034   -0.003486   \n",
       "Documentary                     0.633745         0.164268    0.125639   \n",
       "Drama                          -0.183015        -0.029410   -0.051634   \n",
       "Faith& Spirituality             0.071927         0.027409   -0.001510   \n",
       "Gay& Lesbian                    0.007294         0.011851    0.007193   \n",
       "Horror                         -0.078731        -0.037144   -0.019234   \n",
       "Kids& Family                   -0.048208        -0.012596    0.042586   \n",
       "Musical& PerformingArts         0.111599        -0.015744    0.051470   \n",
       "Mystery& Suspense              -0.114313        -0.045802   -0.038603   \n",
       "Romance                        -0.077466        -0.026584   -0.029814   \n",
       "ScienceFiction& Fantasy        -0.069815        -0.029535   -0.008008   \n",
       "SpecialInterest                 1.000000         0.093171    0.069299   \n",
       "Sports& Fitness                 0.093171         1.000000    0.006107   \n",
       "Television                      0.069299         0.006107    1.000000   \n",
       "Western                        -0.031677        -0.013590   -0.009019   \n",
       "\n",
       "                          Western  \n",
       "cast                     0.001683  \n",
       "runtime_in_minutes       0.002732  \n",
       "tomatometer_rating      -0.000504  \n",
       "tomatometer_count        0.005731  \n",
       "audience_rating         -0.005005  \n",
       "audience_count           0.001008  \n",
       "rating__G               -0.012248  \n",
       "rating__NC17            -0.006223  \n",
       "rating__NR              -0.003801  \n",
       "rating__PG               0.008467  \n",
       "rating__PG-13            0.008451  \n",
       "rating__R               -0.003290  \n",
       "Action& Adventure        0.113545  \n",
       "Animation               -0.022123  \n",
       "Anime& Manga            -0.003960  \n",
       "ArtHouse& International -0.026412  \n",
       "Classics                 0.163807  \n",
       "Comedy                  -0.045448  \n",
       "CultMovies               0.013805  \n",
       "Documentary             -0.041642  \n",
       "Drama                   -0.026504  \n",
       "Faith& Spirituality     -0.009047  \n",
       "Gay& Lesbian            -0.008444  \n",
       "Horror                  -0.034248  \n",
       "Kids& Family            -0.015507  \n",
       "Musical& PerformingArts -0.007161  \n",
       "Mystery& Suspense       -0.042713  \n",
       "Romance                 -0.005651  \n",
       "ScienceFiction& Fantasy -0.026823  \n",
       "SpecialInterest         -0.031677  \n",
       "Sports& Fitness         -0.013590  \n",
       "Television              -0.009019  \n",
       "Western                  1.000000  \n",
       "\n",
       "[33 rows x 33 columns]"
      ]
     },
     "execution_count": 44,
     "metadata": {},
     "output_type": "execute_result"
    }
   ],
   "source": [
    "data.corr()"
   ]
  },
  {
   "cell_type": "code",
   "execution_count": 45,
   "metadata": {},
   "outputs": [],
   "source": [
    "data['label']=tag['0']"
   ]
  },
  {
   "cell_type": "code",
   "execution_count": 46,
   "metadata": {},
   "outputs": [
    {
     "data": {
      "text/html": [
       "<div>\n",
       "<style scoped>\n",
       "    .dataframe tbody tr th:only-of-type {\n",
       "        vertical-align: middle;\n",
       "    }\n",
       "\n",
       "    .dataframe tbody tr th {\n",
       "        vertical-align: top;\n",
       "    }\n",
       "\n",
       "    .dataframe thead th {\n",
       "        text-align: right;\n",
       "    }\n",
       "</style>\n",
       "<table border=\"1\" class=\"dataframe\">\n",
       "  <thead>\n",
       "    <tr style=\"text-align: right;\">\n",
       "      <th></th>\n",
       "      <th>rotten_tomatoes_link</th>\n",
       "      <th>movie_title</th>\n",
       "      <th>cast</th>\n",
       "      <th>runtime_in_minutes</th>\n",
       "      <th>tomatometer_rating</th>\n",
       "      <th>tomatometer_count</th>\n",
       "      <th>audience_rating</th>\n",
       "      <th>audience_count</th>\n",
       "      <th>rating__G</th>\n",
       "      <th>rating__NC17</th>\n",
       "      <th>...</th>\n",
       "      <th>Kids&amp; Family</th>\n",
       "      <th>Musical&amp; PerformingArts</th>\n",
       "      <th>Mystery&amp; Suspense</th>\n",
       "      <th>Romance</th>\n",
       "      <th>ScienceFiction&amp; Fantasy</th>\n",
       "      <th>SpecialInterest</th>\n",
       "      <th>Sports&amp; Fitness</th>\n",
       "      <th>Television</th>\n",
       "      <th>Western</th>\n",
       "      <th>label</th>\n",
       "    </tr>\n",
       "  </thead>\n",
       "  <tbody>\n",
       "    <tr>\n",
       "      <th>0</th>\n",
       "      <td>/m/0814255</td>\n",
       "      <td>Percy Jackson &amp; the Olympians: The Lightning T...</td>\n",
       "      <td>7150</td>\n",
       "      <td>83.0</td>\n",
       "      <td>49</td>\n",
       "      <td>144</td>\n",
       "      <td>53.0</td>\n",
       "      <td>254287.0</td>\n",
       "      <td>0</td>\n",
       "      <td>0</td>\n",
       "      <td>...</td>\n",
       "      <td>0</td>\n",
       "      <td>0</td>\n",
       "      <td>0</td>\n",
       "      <td>0</td>\n",
       "      <td>1</td>\n",
       "      <td>0</td>\n",
       "      <td>0</td>\n",
       "      <td>0</td>\n",
       "      <td>0</td>\n",
       "      <td>20.0</td>\n",
       "    </tr>\n",
       "    <tr>\n",
       "      <th>1</th>\n",
       "      <td>/m/0878835</td>\n",
       "      <td>Please Give</td>\n",
       "      <td>2600</td>\n",
       "      <td>90.0</td>\n",
       "      <td>86</td>\n",
       "      <td>140</td>\n",
       "      <td>64.0</td>\n",
       "      <td>11567.0</td>\n",
       "      <td>0</td>\n",
       "      <td>0</td>\n",
       "      <td>...</td>\n",
       "      <td>0</td>\n",
       "      <td>0</td>\n",
       "      <td>0</td>\n",
       "      <td>0</td>\n",
       "      <td>0</td>\n",
       "      <td>0</td>\n",
       "      <td>0</td>\n",
       "      <td>0</td>\n",
       "      <td>0</td>\n",
       "      <td>122.0</td>\n",
       "    </tr>\n",
       "    <tr>\n",
       "      <th>2</th>\n",
       "      <td>/m/10</td>\n",
       "      <td>10</td>\n",
       "      <td>3180</td>\n",
       "      <td>118.0</td>\n",
       "      <td>68</td>\n",
       "      <td>22</td>\n",
       "      <td>53.0</td>\n",
       "      <td>14670.0</td>\n",
       "      <td>0</td>\n",
       "      <td>0</td>\n",
       "      <td>...</td>\n",
       "      <td>0</td>\n",
       "      <td>0</td>\n",
       "      <td>0</td>\n",
       "      <td>1</td>\n",
       "      <td>0</td>\n",
       "      <td>0</td>\n",
       "      <td>0</td>\n",
       "      <td>0</td>\n",
       "      <td>0</td>\n",
       "      <td>18.0</td>\n",
       "    </tr>\n",
       "    <tr>\n",
       "      <th>3</th>\n",
       "      <td>/m/1000013-12_angry_men</td>\n",
       "      <td>12 Angry Men (Twelve Angry Men)</td>\n",
       "      <td>2080</td>\n",
       "      <td>95.0</td>\n",
       "      <td>100</td>\n",
       "      <td>51</td>\n",
       "      <td>97.0</td>\n",
       "      <td>105000.0</td>\n",
       "      <td>0</td>\n",
       "      <td>0</td>\n",
       "      <td>...</td>\n",
       "      <td>0</td>\n",
       "      <td>0</td>\n",
       "      <td>0</td>\n",
       "      <td>0</td>\n",
       "      <td>0</td>\n",
       "      <td>0</td>\n",
       "      <td>0</td>\n",
       "      <td>0</td>\n",
       "      <td>0</td>\n",
       "      <td>47.0</td>\n",
       "    </tr>\n",
       "    <tr>\n",
       "      <th>4</th>\n",
       "      <td>/m/1000079-20000_leagues_under_the_sea</td>\n",
       "      <td>20,000 Leagues Under The Sea</td>\n",
       "      <td>2410</td>\n",
       "      <td>127.0</td>\n",
       "      <td>89</td>\n",
       "      <td>27</td>\n",
       "      <td>74.0</td>\n",
       "      <td>68860.0</td>\n",
       "      <td>1</td>\n",
       "      <td>0</td>\n",
       "      <td>...</td>\n",
       "      <td>1</td>\n",
       "      <td>0</td>\n",
       "      <td>0</td>\n",
       "      <td>0</td>\n",
       "      <td>0</td>\n",
       "      <td>0</td>\n",
       "      <td>0</td>\n",
       "      <td>0</td>\n",
       "      <td>0</td>\n",
       "      <td>20.0</td>\n",
       "    </tr>\n",
       "  </tbody>\n",
       "</table>\n",
       "<p>5 rows × 36 columns</p>\n",
       "</div>"
      ],
      "text/plain": [
       "                     rotten_tomatoes_link  \\\n",
       "0                              /m/0814255   \n",
       "1                              /m/0878835   \n",
       "2                                   /m/10   \n",
       "3                 /m/1000013-12_angry_men   \n",
       "4  /m/1000079-20000_leagues_under_the_sea   \n",
       "\n",
       "                                         movie_title  cast  \\\n",
       "0  Percy Jackson & the Olympians: The Lightning T...  7150   \n",
       "1                                        Please Give  2600   \n",
       "2                                                 10  3180   \n",
       "3                    12 Angry Men (Twelve Angry Men)  2080   \n",
       "4                       20,000 Leagues Under The Sea  2410   \n",
       "\n",
       "   runtime_in_minutes  tomatometer_rating  tomatometer_count  audience_rating  \\\n",
       "0                83.0                  49                144             53.0   \n",
       "1                90.0                  86                140             64.0   \n",
       "2               118.0                  68                 22             53.0   \n",
       "3                95.0                 100                 51             97.0   \n",
       "4               127.0                  89                 27             74.0   \n",
       "\n",
       "   audience_count  rating__G  rating__NC17  ...  Kids& Family  \\\n",
       "0        254287.0          0             0  ...             0   \n",
       "1         11567.0          0             0  ...             0   \n",
       "2         14670.0          0             0  ...             0   \n",
       "3        105000.0          0             0  ...             0   \n",
       "4         68860.0          1             0  ...             1   \n",
       "\n",
       "   Musical& PerformingArts  Mystery& Suspense  Romance  \\\n",
       "0                        0                  0        0   \n",
       "1                        0                  0        0   \n",
       "2                        0                  0        1   \n",
       "3                        0                  0        0   \n",
       "4                        0                  0        0   \n",
       "\n",
       "   ScienceFiction& Fantasy  SpecialInterest  Sports& Fitness  Television  \\\n",
       "0                        1                0                0           0   \n",
       "1                        0                0                0           0   \n",
       "2                        0                0                0           0   \n",
       "3                        0                0                0           0   \n",
       "4                        0                0                0           0   \n",
       "\n",
       "   Western  label  \n",
       "0        0   20.0  \n",
       "1        0  122.0  \n",
       "2        0   18.0  \n",
       "3        0   47.0  \n",
       "4        0   20.0  \n",
       "\n",
       "[5 rows x 36 columns]"
      ]
     },
     "execution_count": 46,
     "metadata": {},
     "output_type": "execute_result"
    }
   ],
   "source": [
    "data.head()"
   ]
  },
  {
   "cell_type": "code",
   "execution_count": 47,
   "metadata": {},
   "outputs": [],
   "source": [
    "data=data.drop(columns=['rotten_tomatoes_link','movie_title'])"
   ]
  },
  {
   "cell_type": "code",
   "execution_count": 48,
   "metadata": {},
   "outputs": [],
   "source": [
    "data.fillna(data.mean(),inplace = True)"
   ]
  },
  {
   "cell_type": "code",
   "execution_count": 49,
   "metadata": {},
   "outputs": [
    {
     "data": {
      "text/plain": [
       "cast                       0\n",
       "runtime_in_minutes         0\n",
       "tomatometer_rating         0\n",
       "tomatometer_count          0\n",
       "audience_rating            0\n",
       "audience_count             0\n",
       "rating__G                  0\n",
       "rating__NC17               0\n",
       "rating__NR                 0\n",
       "rating__PG                 0\n",
       "rating__PG-13              0\n",
       "rating__R                  0\n",
       "Action& Adventure          0\n",
       "Animation                  0\n",
       "Anime& Manga               0\n",
       "ArtHouse& International    0\n",
       "Classics                   0\n",
       "Comedy                     0\n",
       "CultMovies                 0\n",
       "Documentary                0\n",
       "Drama                      0\n",
       "Faith& Spirituality        0\n",
       "Gay& Lesbian               0\n",
       "Horror                     0\n",
       "Kids& Family               0\n",
       "Musical& PerformingArts    0\n",
       "Mystery& Suspense          0\n",
       "Romance                    0\n",
       "ScienceFiction& Fantasy    0\n",
       "SpecialInterest            0\n",
       "Sports& Fitness            0\n",
       "Television                 0\n",
       "Western                    0\n",
       "label                      0\n",
       "dtype: int64"
      ]
     },
     "execution_count": 49,
     "metadata": {},
     "output_type": "execute_result"
    }
   ],
   "source": [
    "data.isnull().sum()"
   ]
  },
  {
   "cell_type": "markdown",
   "metadata": {},
   "source": [
    "# Skewness"
   ]
  },
  {
   "cell_type": "code",
   "execution_count": 50,
   "metadata": {},
   "outputs": [
    {
     "data": {
      "text/plain": [
       "<Figure size 1440x1440 with 0 Axes>"
      ]
     },
     "metadata": {},
     "output_type": "display_data"
    },
    {
     "data": {
      "image/png": "[encoded data removed]",
      "text/plain": [
       "<Figure size 432x288 with 12 Axes>"
      ]
     },
     "metadata": {
      "needs_background": "light"
     },
     "output_type": "display_data"
    }
   ],
   "source": [
    "plt.figure(figsize=(20,20))\n",
    "data.iloc[:,:10].hist(bins=15, color='steelblue', edgecolor='black', linewidth=1.0,\n",
    "           xlabelsize=8, ylabelsize=8, grid=False)    \n",
    "plt.tight_layout(rect=(0, 0, 1.2, 1.2))   "
   ]
  },
  {
   "cell_type": "code",
   "execution_count": 51,
   "metadata": {},
   "outputs": [
    {
     "name": "stdout",
     "output_type": "stream",
     "text": [
      "runtime_in_minutes    27.756649\n",
      "rating__NC17          21.114913\n",
      "audience_count        17.973384\n",
      "rating__G              4.744597\n",
      "rating__PG             2.286012\n",
      "tomatometer_count      2.010689\n",
      "cast                   1.334875\n",
      "rating__NR             0.913524\n",
      "tomatometer_rating     0.419065\n",
      "audience_rating        0.309191\n",
      "dtype: float64\n"
     ]
    },
    {
     "data": {
      "text/plain": [
       "(array([0, 1, 2, 3, 4, 5, 6, 7, 8, 9]), <a list of 10 Text xticklabel objects>)"
      ]
     },
     "execution_count": 51,
     "metadata": {},
     "output_type": "execute_result"
    },
    {
     "data": {
      "image/png": "[encoded data removed]",
      "text/plain": [
       "<Figure size 576x360 with 1 Axes>"
      ]
     },
     "metadata": {
      "needs_background": "light"
     },
     "output_type": "display_data"
    }
   ],
   "source": [
    "skew=data.iloc[:,:10].skew()\n",
    "print(skew.abs().sort_values(ascending=False))\n",
    "skew_df=pd.DataFrame(skew,index=None,columns=['Skewness'])\n",
    "plt.figure(figsize=(8,5))\n",
    "sns.barplot(x=skew_df.index,y='Skewness',data=skew_df)\n",
    "plt.xticks(rotation=90)"
   ]
  },
  {
   "cell_type": "code",
   "execution_count": 52,
   "metadata": {},
   "outputs": [],
   "source": [
    "data_copy=data.copy()"
   ]
  },
  {
   "cell_type": "code",
   "execution_count": 53,
   "metadata": {},
   "outputs": [],
   "source": [
    "def remove_skew_n_power(col):\n",
    "  print(\"Removing Skew by applying power of N :\")\n",
    "  power = 0\n",
    "  min_skew = 99999\n",
    "  for i in range(1,11):\n",
    "    skew = abs((col**i).skew())\n",
    "    print(i,skew)\n",
    "    if(skew < min_skew) :\n",
    "      min_skew = skew\n",
    "      power = i\n",
    "  return power, min_skew"
   ]
  },
  {
   "cell_type": "code",
   "execution_count": 54,
   "metadata": {},
   "outputs": [],
   "source": [
    "def remove_skew_n_root(col):\n",
    "  print(\"Removing Skew by applying root of N :\")\n",
    "  power = 0\n",
    "  min_skew = 99999\n",
    "  for i in range(1,11):\n",
    "    skew = abs((col**(1/i)).skew())\n",
    "    print(i,skew)\n",
    "    if(skew < min_skew) :\n",
    "      min_skew = skew\n",
    "      power = 1/i\n",
    "  return power, min_skew"
   ]
  },
  {
   "cell_type": "markdown",
   "metadata": {},
   "source": [
    "Directors"
   ]
  },
  {
   "cell_type": "code",
   "execution_count": 55,
   "metadata": {},
   "outputs": [],
   "source": [
    "# data[\"directors\"].skew()"
   ]
  },
  {
   "cell_type": "code",
   "execution_count": 56,
   "metadata": {},
   "outputs": [],
   "source": [
    "# print('Minimum Skewness (N, Skewness) :', remove_skew_n_power(data[\"directors\"]))\n",
    "# print('\\n\\n')\n",
    "# print('Minimum Skewness (N, Skewness) :', remove_skew_n_root(data[\"directors\"]))"
   ]
  },
  {
   "cell_type": "code",
   "execution_count": 57,
   "metadata": {},
   "outputs": [],
   "source": [
    "# from scipy import stats\n",
    "# plt.figure(figsize=(8,6))\n",
    "# sns.distplot(data[\"directors\"]**9)"
   ]
  },
  {
   "cell_type": "code",
   "execution_count": 58,
   "metadata": {},
   "outputs": [],
   "source": [
    "# data[\"directors\"]=data[\"directors\"]**9"
   ]
  },
  {
   "cell_type": "markdown",
   "metadata": {},
   "source": [
    "Cast"
   ]
  },
  {
   "cell_type": "code",
   "execution_count": 59,
   "metadata": {},
   "outputs": [
    {
     "data": {
      "text/plain": [
       "1.3348753694915416"
      ]
     },
     "execution_count": 59,
     "metadata": {},
     "output_type": "execute_result"
    }
   ],
   "source": [
    "data[\"cast\"].skew()"
   ]
  },
  {
   "cell_type": "code",
   "execution_count": 60,
   "metadata": {},
   "outputs": [
    {
     "name": "stdout",
     "output_type": "stream",
     "text": [
      "Removing Skew by applying power of N :\n",
      "1 1.3348753694915416\n",
      "2 4.656917367838057\n",
      "3 11.173853185562198\n",
      "4 20.56244014901088\n",
      "5 0.514842838648432\n",
      "6 0.18494244576239627\n",
      "7 0.03715251614592233\n",
      "8 0.10202182055209488\n",
      "9 0.00012776602130596342\n",
      "10 0.0293323869143319\n",
      "Minimum Skewness (N, Skewness) : (9, 0.00012776602130596342)\n",
      "\n",
      "\n",
      "\n",
      "Removing Skew by applying root of N :\n",
      "1 1.3348753694915416\n",
      "2 0.24334411888606086\n",
      "3 0.12845981298714887\n",
      "4 0.3293505865002838\n",
      "5 0.4575234118666766\n",
      "6 0.5470034285283267\n",
      "7 0.6132024946140723\n",
      "8 0.6642320043108074\n",
      "9 0.7048008682756572\n",
      "10 0.7378411856190111\n",
      "Minimum Skewness (N, Skewness) : (0.3333333333333333, 0.12845981298714887)\n"
     ]
    }
   ],
   "source": [
    "print('Minimum Skewness (N, Skewness) :', remove_skew_n_power(data[\"cast\"]))\n",
    "print('\\n\\n')\n",
    "print('Minimum Skewness (N, Skewness) :', remove_skew_n_root(data[\"cast\"]))"
   ]
  },
  {
   "cell_type": "code",
   "execution_count": 61,
   "metadata": {},
   "outputs": [
    {
     "data": {
      "text/plain": [
       "<matplotlib.axes._subplots.AxesSubplot at 0x1a216f1b10>"
      ]
     },
     "execution_count": 61,
     "metadata": {},
     "output_type": "execute_result"
    },
    {
     "data": {
      "image/png": "[encoded data removed]",
      "text/plain": [
       "<Figure size 576x432 with 1 Axes>"
      ]
     },
     "metadata": {
      "needs_background": "light"
     },
     "output_type": "display_data"
    }
   ],
   "source": [
    "from scipy import stats\n",
    "plt.figure(figsize=(8,6))\n",
    "sns.distplot(data[\"cast\"]**9)"
   ]
  },
  {
   "cell_type": "code",
   "execution_count": 62,
   "metadata": {},
   "outputs": [],
   "source": [
    "data[\"cast\"]=data[\"cast\"]**9"
   ]
  },
  {
   "cell_type": "markdown",
   "metadata": {},
   "source": [
    "runtime_in_minutes"
   ]
  },
  {
   "cell_type": "code",
   "execution_count": 63,
   "metadata": {},
   "outputs": [
    {
     "data": {
      "text/plain": [
       "27.75664935979491"
      ]
     },
     "execution_count": 63,
     "metadata": {},
     "output_type": "execute_result"
    }
   ],
   "source": [
    "data[\"runtime_in_minutes\"].skew()"
   ]
  },
  {
   "cell_type": "code",
   "execution_count": 64,
   "metadata": {},
   "outputs": [
    {
     "name": "stdout",
     "output_type": "stream",
     "text": [
      "Removing Skew by applying power of N :\n",
      "1 27.75664935979491\n",
      "2 123.40277640145297\n",
      "3 128.72824532927723\n",
      "4 128.85103089721378\n",
      "5 128.8562070895488\n",
      "6 128.856491626474\n",
      "7 128.85650828818203\n",
      "8 128.85650927964866\n",
      "9 128.85650933897085\n",
      "10 128.85650934252945\n",
      "Minimum Skewness (N, Skewness) : (1, 27.75664935979491)\n",
      "\n",
      "\n",
      "\n",
      "Removing Skew by applying root of N :\n",
      "1 27.75664935979491\n",
      "2 2.684163318954417\n",
      "3 0.33326843844970155\n",
      "4 0.7364514366829015\n",
      "5 1.4366073408081355\n",
      "6 1.9498066586237994\n",
      "7 2.346552646003817\n",
      "8 2.663596911727888\n",
      "9 2.923083394057524\n",
      "10 3.1394662687378507\n",
      "Minimum Skewness (N, Skewness) : (0.3333333333333333, 0.33326843844970155)\n"
     ]
    }
   ],
   "source": [
    "print('Minimum Skewness (N, Skewness) :', remove_skew_n_power(data[\"runtime_in_minutes\"]))\n",
    "print('\\n\\n')\n",
    "print('Minimum Skewness (N, Skewness) :', remove_skew_n_root(data[\"runtime_in_minutes\"]))"
   ]
  },
  {
   "cell_type": "code",
   "execution_count": 65,
   "metadata": {},
   "outputs": [
    {
     "data": {
      "text/plain": [
       "<matplotlib.axes._subplots.AxesSubplot at 0x1a218d97d0>"
      ]
     },
     "execution_count": 65,
     "metadata": {},
     "output_type": "execute_result"
    },
    {
     "data": {
      "image/png": "[encoded data removed]",
      "text/plain": [
       "<Figure size 576x432 with 1 Axes>"
      ]
     },
     "metadata": {
      "needs_background": "light"
     },
     "output_type": "display_data"
    }
   ],
   "source": [
    "from scipy import stats\n",
    "plt.figure(figsize=(8,6))\n",
    "sns.distplot(data[\"runtime_in_minutes\"]**(1/3))"
   ]
  },
  {
   "cell_type": "code",
   "execution_count": 66,
   "metadata": {},
   "outputs": [],
   "source": [
    "data[\"runtime_in_minutes\"]=data[\"runtime_in_minutes\"]**(1/3)"
   ]
  },
  {
   "cell_type": "markdown",
   "metadata": {},
   "source": [
    "audience_count"
   ]
  },
  {
   "cell_type": "code",
   "execution_count": 67,
   "metadata": {},
   "outputs": [
    {
     "data": {
      "text/plain": [
       "17.973383530483346"
      ]
     },
     "execution_count": 67,
     "metadata": {},
     "output_type": "execute_result"
    }
   ],
   "source": [
    "data[\"audience_count\"].skew()"
   ]
  },
  {
   "cell_type": "code",
   "execution_count": 68,
   "metadata": {},
   "outputs": [
    {
     "name": "stdout",
     "output_type": "stream",
     "text": [
      "Removing Skew by applying power of N :\n",
      "1 17.973383530483346\n",
      "2 18.22962793925369\n",
      "3 18.344917989299923\n",
      "4 18.51305921071749\n",
      "5 18.739971920213115\n",
      "6 19.032220744022386\n",
      "7 19.397405249196343\n",
      "8 19.844159043422685\n",
      "9 20.38210132596836\n",
      "10 21.02173172102365\n",
      "Minimum Skewness (N, Skewness) : (1, 17.973383530483346)\n",
      "\n",
      "\n",
      "\n",
      "Removing Skew by applying root of N :\n",
      "1 17.973383530483346\n",
      "2 11.774875646655012\n",
      "3 5.358530742938584\n",
      "4 3.0000598297488663\n",
      "5 2.0487888057679036\n",
      "6 1.569427917394569\n",
      "7 1.2854472486192707\n",
      "8 1.0980106398071265\n",
      "9 0.9648224870349464\n",
      "10 0.8650896398955965\n",
      "Minimum Skewness (N, Skewness) : (0.1, 0.8650896398955965)\n"
     ]
    }
   ],
   "source": [
    "print('Minimum Skewness (N, Skewness) :', remove_skew_n_power(data[\"audience_count\"]))\n",
    "print('\\n\\n')\n",
    "print('Minimum Skewness (N, Skewness) :', remove_skew_n_root(data[\"audience_count\"]))"
   ]
  },
  {
   "cell_type": "code",
   "execution_count": 69,
   "metadata": {},
   "outputs": [
    {
     "data": {
      "text/plain": [
       "<matplotlib.axes._subplots.AxesSubplot at 0x1a2163d350>"
      ]
     },
     "execution_count": 69,
     "metadata": {},
     "output_type": "execute_result"
    },
    {
     "data": {
      "image/png": "[encoded data removed]",
      "text/plain": [
       "<Figure size 576x432 with 1 Axes>"
      ]
     },
     "metadata": {
      "needs_background": "light"
     },
     "output_type": "display_data"
    }
   ],
   "source": [
    "from scipy import stats\n",
    "plt.figure(figsize=(8,6))\n",
    "sns.distplot(data[\"audience_count\"]**(1/10))"
   ]
  },
  {
   "cell_type": "code",
   "execution_count": 70,
   "metadata": {},
   "outputs": [],
   "source": [
    "data[\"audience_count\"]=data[\"audience_count\"]**(1/10)"
   ]
  },
  {
   "cell_type": "markdown",
   "metadata": {},
   "source": [
    "tomatometer_count "
   ]
  },
  {
   "cell_type": "code",
   "execution_count": 71,
   "metadata": {},
   "outputs": [
    {
     "data": {
      "text/plain": [
       "2.010688866976988"
      ]
     },
     "execution_count": 71,
     "metadata": {},
     "output_type": "execute_result"
    }
   ],
   "source": [
    "data[\"tomatometer_count\"].skew()"
   ]
  },
  {
   "cell_type": "code",
   "execution_count": 72,
   "metadata": {},
   "outputs": [
    {
     "name": "stdout",
     "output_type": "stream",
     "text": [
      "Removing Skew by applying power of N :\n",
      "1 2.010688866976988\n",
      "2 4.8432358803047775\n",
      "3 9.008827355799514\n",
      "4 13.914241765707272\n",
      "5 19.0827211296708\n",
      "6 24.249469758055053\n",
      "7 29.202481848215808\n",
      "8 0.8531969390813795\n",
      "9 0.1751343113053768\n",
      "10 0.023309991398489455\n",
      "Minimum Skewness (N, Skewness) : (10, 0.023309991398489455)\n",
      "\n",
      "\n",
      "\n",
      "Removing Skew by applying root of N :\n",
      "1 2.010688866976988\n",
      "2 1.0395093263151742\n",
      "3 0.7486487323933328\n",
      "4 0.6068846879312034\n",
      "5 0.5228364433131846\n",
      "6 0.4672061779584223\n",
      "7 0.42766445653713997\n",
      "8 0.3981141402295386\n",
      "9 0.3751935050923076\n",
      "10 0.3568968065098624\n",
      "Minimum Skewness (N, Skewness) : (0.1, 0.3568968065098624)\n"
     ]
    }
   ],
   "source": [
    "print('Minimum Skewness (N, Skewness) :', remove_skew_n_power(data[\"tomatometer_count\"]))\n",
    "print('\\n\\n')\n",
    "print('Minimum Skewness (N, Skewness) :', remove_skew_n_root(data[\"tomatometer_count\"]))"
   ]
  },
  {
   "cell_type": "code",
   "execution_count": 73,
   "metadata": {},
   "outputs": [
    {
     "data": {
      "text/plain": [
       "<matplotlib.axes._subplots.AxesSubplot at 0x1a21613610>"
      ]
     },
     "execution_count": 73,
     "metadata": {},
     "output_type": "execute_result"
    },
    {
     "data": {
      "image/png": "[encoded data removed]",
      "text/plain": [
       "<Figure size 576x432 with 1 Axes>"
      ]
     },
     "metadata": {
      "needs_background": "light"
     },
     "output_type": "display_data"
    }
   ],
   "source": [
    "from scipy import stats\n",
    "plt.figure(figsize=(8,6))\n",
    "sns.distplot(data[\"tomatometer_count\"]**(10))"
   ]
  },
  {
   "cell_type": "code",
   "execution_count": 74,
   "metadata": {},
   "outputs": [],
   "source": [
    "data[\"tomatometer_count\"]=data[\"tomatometer_count\"]**(10)"
   ]
  },
  {
   "cell_type": "markdown",
   "metadata": {},
   "source": [
    "# Outlier Removal"
   ]
  },
  {
   "cell_type": "code",
   "execution_count": 75,
   "metadata": {},
   "outputs": [],
   "source": [
    "# q1, q2, q3 = data['directors'].quantile([.25,.50,.75])\n",
    "# IQR = q3-q1\n",
    "# Min = q1 - IQR*1.5\n",
    "# Max = q3 + IQR*1.5\n",
    "# data_outliers = data[data['directors']<Min]\n",
    "# data_outliers = pd.concat([data_outliers, data[data['directors']>Max]])\n",
    "# no_outlier_data = data[data['directors']>Min]\n",
    "# no_outlier_data = no_outlier_data[no_outlier_data['directors']<Max]\n",
    "# print(\"-> Percentage of data loss= \", len(data_outliers['directors'])*100/len(data['directors']))\n",
    "# sns.distplot(no_outlier_data['directors'])"
   ]
  },
  {
   "cell_type": "code",
   "execution_count": 76,
   "metadata": {},
   "outputs": [],
   "source": [
    "# data = no_outlier_data.copy()"
   ]
  },
  {
   "cell_type": "code",
   "execution_count": 77,
   "metadata": {},
   "outputs": [
    {
     "name": "stdout",
     "output_type": "stream",
     "text": [
      "-> Percentage of data loss=  0.0\n"
     ]
    },
    {
     "data": {
      "text/plain": [
       "<matplotlib.axes._subplots.AxesSubplot at 0x1a21653d90>"
      ]
     },
     "execution_count": 77,
     "metadata": {},
     "output_type": "execute_result"
    },
    {
     "data": {
      "image/png": "[encoded data removed]",
      "text/plain": [
       "<Figure size 432x288 with 1 Axes>"
      ]
     },
     "metadata": {
      "needs_background": "light"
     },
     "output_type": "display_data"
    }
   ],
   "source": [
    "q1, q2, q3 = data['cast'].quantile([.25,.50,.75])\n",
    "IQR = q3-q1\n",
    "Min = q1 - IQR*1.5\n",
    "Max = q3 + IQR*1.5\n",
    "data_outliers = data[data['cast']<Min]\n",
    "data_outliers = pd.concat([data_outliers, data[data['cast']>Max]])\n",
    "no_outlier_data = data[data['cast']>Min]\n",
    "no_outlier_data = no_outlier_data[no_outlier_data['cast']<Max]\n",
    "print(\"-> Percentage of data loss= \", len(data_outliers['cast'])*100/len(data['cast']))\n",
    "sns.distplot(no_outlier_data['cast'])"
   ]
  },
  {
   "cell_type": "code",
   "execution_count": 79,
   "metadata": {},
   "outputs": [],
   "source": [
    "data = no_outlier_data.copy()"
   ]
  },
  {
   "cell_type": "code",
   "execution_count": 80,
   "metadata": {},
   "outputs": [
    {
     "name": "stdout",
     "output_type": "stream",
     "text": [
      "-> Percentage of data loss=  3.463020958805107\n"
     ]
    },
    {
     "data": {
      "text/plain": [
       "<matplotlib.axes._subplots.AxesSubplot at 0x1a1cfe2b90>"
      ]
     },
     "execution_count": 80,
     "metadata": {},
     "output_type": "execute_result"
    },
    {
     "data": {
      "image/png": "[encoded data removed]",
      "text/plain": [
       "<Figure size 432x288 with 1 Axes>"
      ]
     },
     "metadata": {
      "needs_background": "light"
     },
     "output_type": "display_data"
    }
   ],
   "source": [
    "q1, q2, q3 = data['runtime_in_minutes'].quantile([.25,.50,.75])\n",
    "IQR = q3-q1\n",
    "Min = q1 - IQR*1.5\n",
    "Max = q3 + IQR*1.5\n",
    "data_outliers = data[data['runtime_in_minutes']<Min]\n",
    "data_outliers = pd.concat([data_outliers, data[data['runtime_in_minutes']>Max]])\n",
    "no_outlier_data = data[data['runtime_in_minutes']>Min]\n",
    "no_outlier_data = no_outlier_data[no_outlier_data['runtime_in_minutes']<Max]\n",
    "print(\"-> Percentage of data loss= \", len(data_outliers['runtime_in_minutes'])*100/len(data['runtime_in_minutes']))\n",
    "sns.distplot(no_outlier_data['runtime_in_minutes'])"
   ]
  },
  {
   "cell_type": "code",
   "execution_count": 81,
   "metadata": {},
   "outputs": [],
   "source": [
    "data = no_outlier_data.copy()"
   ]
  },
  {
   "cell_type": "code",
   "execution_count": 82,
   "metadata": {},
   "outputs": [
    {
     "name": "stdout",
     "output_type": "stream",
     "text": [
      "-> Percentage of data loss=  0.4179923887953085\n"
     ]
    },
    {
     "data": {
      "text/plain": [
       "<matplotlib.axes._subplots.AxesSubplot at 0x1a1e7688d0>"
      ]
     },
     "execution_count": 82,
     "metadata": {},
     "output_type": "execute_result"
    },
    {
     "data": {
      "image/png": "[encoded data removed]",
      "text/plain": [
       "<Figure size 432x288 with 1 Axes>"
      ]
     },
     "metadata": {
      "needs_background": "light"
     },
     "output_type": "display_data"
    }
   ],
   "source": [
    "q1, q2, q3 = data['audience_count'].quantile([.25,.50,.75])\n",
    "IQR = q3-q1\n",
    "Min = q1 - IQR*1.5\n",
    "Max = q3 + IQR*1.5\n",
    "data_outliers = data[data['audience_count']<Min]\n",
    "data_outliers = pd.concat([data_outliers, data[data['audience_count']>Max]])\n",
    "no_outlier_data = data[data['audience_count']>Min]\n",
    "no_outlier_data = no_outlier_data[no_outlier_data['audience_count']<Max]\n",
    "print(\"-> Percentage of data loss= \", len(data_outliers['audience_count'])*100/len(data['audience_count']))\n",
    "sns.distplot(no_outlier_data['audience_count'])"
   ]
  },
  {
   "cell_type": "code",
   "execution_count": 83,
   "metadata": {},
   "outputs": [],
   "source": [
    "data = no_outlier_data.copy()"
   ]
  },
  {
   "cell_type": "code",
   "execution_count": 86,
   "metadata": {},
   "outputs": [
    {
     "name": "stdout",
     "output_type": "stream",
     "text": [
      "-> Percentage of data loss=  0.0\n"
     ]
    },
    {
     "data": {
      "text/plain": [
       "<matplotlib.axes._subplots.AxesSubplot at 0x1a1f321510>"
      ]
     },
     "execution_count": 86,
     "metadata": {},
     "output_type": "execute_result"
    },
    {
     "data": {
      "image/png": "[encoded data removed]",
      "text/plain": [
       "<Figure size 432x288 with 1 Axes>"
      ]
     },
     "metadata": {
      "needs_background": "light"
     },
     "output_type": "display_data"
    }
   ],
   "source": [
    "q1, q2, q3 = data['audience_rating'].quantile([.25,.50,.75])\n",
    "IQR = q3-q1\n",
    "Min = q1 - IQR*1.5\n",
    "Max = q3 + IQR*1.5\n",
    "data_outliers = data[data['audience_rating']<Min]\n",
    "data_outliers = pd.concat([data_outliers, data[data['audience_rating']>Max]])\n",
    "no_outlier_data = data[data['audience_rating']>Min]\n",
    "no_outlier_data = no_outlier_data[no_outlier_data['audience_rating']<Max]\n",
    "print(\"-> Percentage of data loss= \", len(data_outliers['audience_rating'])*100/len(data['audience_rating']))\n",
    "sns.distplot(no_outlier_data['audience_rating'])"
   ]
  },
  {
   "cell_type": "code",
   "execution_count": 87,
   "metadata": {},
   "outputs": [],
   "source": [
    "data = no_outlier_data.copy()"
   ]
  },
  {
   "cell_type": "code",
   "execution_count": 88,
   "metadata": {},
   "outputs": [
    {
     "name": "stdout",
     "output_type": "stream",
     "text": [
      "-> Percentage of data loss=  0.0\n"
     ]
    },
    {
     "data": {
      "text/plain": [
       "<matplotlib.axes._subplots.AxesSubplot at 0x1a1f3169d0>"
      ]
     },
     "execution_count": 88,
     "metadata": {},
     "output_type": "execute_result"
    },
    {
     "data": {
      "image/png": "[encoded data removed]",
      "text/plain": [
       "<Figure size 432x288 with 1 Axes>"
      ]
     },
     "metadata": {
      "needs_background": "light"
     },
     "output_type": "display_data"
    }
   ],
   "source": [
    "q1, q2, q3 = data['tomatometer_rating'].quantile([.25,.50,.75])\n",
    "IQR = q3-q1\n",
    "Min = q1 - IQR*1.5\n",
    "Max = q3 + IQR*1.5\n",
    "data_outliers = data[data['tomatometer_rating']<Min]\n",
    "data_outliers = pd.concat([data_outliers, data[data['tomatometer_rating']>Max]])\n",
    "no_outlier_data = data[data['tomatometer_rating']>Min]\n",
    "no_outlier_data = no_outlier_data[no_outlier_data['tomatometer_rating']<Max]\n",
    "print(\"-> Percentage of data loss= \", len(data_outliers['tomatometer_rating'])*100/len(data['tomatometer_rating']))\n",
    "sns.distplot(no_outlier_data['tomatometer_rating'])"
   ]
  },
  {
   "cell_type": "code",
   "execution_count": 89,
   "metadata": {},
   "outputs": [],
   "source": [
    "data = no_outlier_data.copy()"
   ]
  },
  {
   "cell_type": "code",
   "execution_count": 90,
   "metadata": {},
   "outputs": [
    {
     "data": {
      "text/plain": [
       "cast                       0\n",
       "runtime_in_minutes         0\n",
       "tomatometer_rating         0\n",
       "tomatometer_count          0\n",
       "audience_rating            0\n",
       "audience_count             0\n",
       "rating__G                  0\n",
       "rating__NC17               0\n",
       "rating__NR                 0\n",
       "rating__PG                 0\n",
       "rating__PG-13              0\n",
       "rating__R                  0\n",
       "Action& Adventure          0\n",
       "Animation                  0\n",
       "Anime& Manga               0\n",
       "ArtHouse& International    0\n",
       "Classics                   0\n",
       "Comedy                     0\n",
       "CultMovies                 0\n",
       "Documentary                0\n",
       "Drama                      0\n",
       "Faith& Spirituality        0\n",
       "Gay& Lesbian               0\n",
       "Horror                     0\n",
       "Kids& Family               0\n",
       "Musical& PerformingArts    0\n",
       "Mystery& Suspense          0\n",
       "Romance                    0\n",
       "ScienceFiction& Fantasy    0\n",
       "SpecialInterest            0\n",
       "Sports& Fitness            0\n",
       "Television                 0\n",
       "Western                    0\n",
       "label                      0\n",
       "dtype: int64"
      ]
     },
     "execution_count": 90,
     "metadata": {},
     "output_type": "execute_result"
    }
   ],
   "source": [
    "data.isnull().sum()"
   ]
  },
  {
   "cell_type": "code",
   "execution_count": 91,
   "metadata": {},
   "outputs": [],
   "source": [
    "from sklearn.preprocessing import MinMaxScaler"
   ]
  },
  {
   "cell_type": "code",
   "execution_count": 92,
   "metadata": {},
   "outputs": [],
   "source": [
    "mms = MinMaxScaler()"
   ]
  },
  {
   "cell_type": "code",
   "execution_count": 93,
   "metadata": {},
   "outputs": [],
   "source": [
    "data[[\"runtime_in_minutes\",\"tomatometer_rating\",\"tomatometer_count\",\"audience_rating\",\"audience_count\"]]=mms.fit_transform(data[[\"runtime_in_minutes\",\"tomatometer_rating\",\"tomatometer_count\",\"audience_rating\",\"audience_count\"]])"
   ]
  },
  {
   "cell_type": "code",
   "execution_count": 94,
   "metadata": {},
   "outputs": [
    {
     "data": {
      "text/html": [
       "<div>\n",
       "<style scoped>\n",
       "    .dataframe tbody tr th:only-of-type {\n",
       "        vertical-align: middle;\n",
       "    }\n",
       "\n",
       "    .dataframe tbody tr th {\n",
       "        vertical-align: top;\n",
       "    }\n",
       "\n",
       "    .dataframe thead th {\n",
       "        text-align: right;\n",
       "    }\n",
       "</style>\n",
       "<table border=\"1\" class=\"dataframe\">\n",
       "  <thead>\n",
       "    <tr style=\"text-align: right;\">\n",
       "      <th></th>\n",
       "      <th>cast</th>\n",
       "      <th>runtime_in_minutes</th>\n",
       "      <th>tomatometer_rating</th>\n",
       "      <th>tomatometer_count</th>\n",
       "      <th>audience_rating</th>\n",
       "      <th>audience_count</th>\n",
       "      <th>rating__G</th>\n",
       "      <th>rating__NC17</th>\n",
       "      <th>rating__NR</th>\n",
       "      <th>rating__PG</th>\n",
       "      <th>...</th>\n",
       "      <th>Kids&amp; Family</th>\n",
       "      <th>Musical&amp; PerformingArts</th>\n",
       "      <th>Mystery&amp; Suspense</th>\n",
       "      <th>Romance</th>\n",
       "      <th>ScienceFiction&amp; Fantasy</th>\n",
       "      <th>SpecialInterest</th>\n",
       "      <th>Sports&amp; Fitness</th>\n",
       "      <th>Television</th>\n",
       "      <th>Western</th>\n",
       "      <th>label</th>\n",
       "    </tr>\n",
       "  </thead>\n",
       "  <tbody>\n",
       "    <tr>\n",
       "      <th>0</th>\n",
       "      <td>-4861322747967869440</td>\n",
       "      <td>0.280768</td>\n",
       "      <td>0.49</td>\n",
       "      <td>0.327139</td>\n",
       "      <td>0.53</td>\n",
       "      <td>0.788088</td>\n",
       "      <td>0</td>\n",
       "      <td>0</td>\n",
       "      <td>0</td>\n",
       "      <td>1</td>\n",
       "      <td>...</td>\n",
       "      <td>0</td>\n",
       "      <td>0</td>\n",
       "      <td>0</td>\n",
       "      <td>0</td>\n",
       "      <td>1</td>\n",
       "      <td>0</td>\n",
       "      <td>0</td>\n",
       "      <td>0</td>\n",
       "      <td>0</td>\n",
       "      <td>20.000000</td>\n",
       "    </tr>\n",
       "    <tr>\n",
       "      <th>1</th>\n",
       "      <td>3521526308947361792</td>\n",
       "      <td>0.373306</td>\n",
       "      <td>0.86</td>\n",
       "      <td>0.303710</td>\n",
       "      <td>0.64</td>\n",
       "      <td>0.471446</td>\n",
       "      <td>0</td>\n",
       "      <td>0</td>\n",
       "      <td>0</td>\n",
       "      <td>0</td>\n",
       "      <td>...</td>\n",
       "      <td>0</td>\n",
       "      <td>0</td>\n",
       "      <td>0</td>\n",
       "      <td>0</td>\n",
       "      <td>0</td>\n",
       "      <td>0</td>\n",
       "      <td>0</td>\n",
       "      <td>0</td>\n",
       "      <td>0</td>\n",
       "      <td>122.000000</td>\n",
       "    </tr>\n",
       "    <tr>\n",
       "      <th>2</th>\n",
       "      <td>7689786742931193856</td>\n",
       "      <td>0.701681</td>\n",
       "      <td>0.68</td>\n",
       "      <td>0.499671</td>\n",
       "      <td>0.53</td>\n",
       "      <td>0.492476</td>\n",
       "      <td>0</td>\n",
       "      <td>0</td>\n",
       "      <td>0</td>\n",
       "      <td>0</td>\n",
       "      <td>...</td>\n",
       "      <td>0</td>\n",
       "      <td>0</td>\n",
       "      <td>0</td>\n",
       "      <td>1</td>\n",
       "      <td>0</td>\n",
       "      <td>0</td>\n",
       "      <td>0</td>\n",
       "      <td>0</td>\n",
       "      <td>0</td>\n",
       "      <td>18.000000</td>\n",
       "    </tr>\n",
       "    <tr>\n",
       "      <th>3</th>\n",
       "      <td>5208448153426067456</td>\n",
       "      <td>0.436503</td>\n",
       "      <td>1.00</td>\n",
       "      <td>0.506164</td>\n",
       "      <td>0.97</td>\n",
       "      <td>0.687260</td>\n",
       "      <td>0</td>\n",
       "      <td>0</td>\n",
       "      <td>1</td>\n",
       "      <td>0</td>\n",
       "      <td>...</td>\n",
       "      <td>0</td>\n",
       "      <td>0</td>\n",
       "      <td>0</td>\n",
       "      <td>0</td>\n",
       "      <td>0</td>\n",
       "      <td>0</td>\n",
       "      <td>0</td>\n",
       "      <td>0</td>\n",
       "      <td>0</td>\n",
       "      <td>47.000000</td>\n",
       "    </tr>\n",
       "    <tr>\n",
       "      <th>4</th>\n",
       "      <td>368275901303695872</td>\n",
       "      <td>0.796020</td>\n",
       "      <td>0.89</td>\n",
       "      <td>0.499681</td>\n",
       "      <td>0.74</td>\n",
       "      <td>0.642220</td>\n",
       "      <td>1</td>\n",
       "      <td>0</td>\n",
       "      <td>0</td>\n",
       "      <td>0</td>\n",
       "      <td>...</td>\n",
       "      <td>1</td>\n",
       "      <td>0</td>\n",
       "      <td>0</td>\n",
       "      <td>0</td>\n",
       "      <td>0</td>\n",
       "      <td>0</td>\n",
       "      <td>0</td>\n",
       "      <td>0</td>\n",
       "      <td>0</td>\n",
       "      <td>20.000000</td>\n",
       "    </tr>\n",
       "    <tr>\n",
       "      <th>...</th>\n",
       "      <td>...</td>\n",
       "      <td>...</td>\n",
       "      <td>...</td>\n",
       "      <td>...</td>\n",
       "      <td>...</td>\n",
       "      <td>...</td>\n",
       "      <td>...</td>\n",
       "      <td>...</td>\n",
       "      <td>...</td>\n",
       "      <td>...</td>\n",
       "      <td>...</td>\n",
       "      <td>...</td>\n",
       "      <td>...</td>\n",
       "      <td>...</td>\n",
       "      <td>...</td>\n",
       "      <td>...</td>\n",
       "      <td>...</td>\n",
       "      <td>...</td>\n",
       "      <td>...</td>\n",
       "      <td>...</td>\n",
       "      <td>...</td>\n",
       "    </tr>\n",
       "    <tr>\n",
       "      <th>16616</th>\n",
       "      <td>2184219706384449536</td>\n",
       "      <td>0.373306</td>\n",
       "      <td>0.25</td>\n",
       "      <td>0.499671</td>\n",
       "      <td>0.61</td>\n",
       "      <td>0.315746</td>\n",
       "      <td>0</td>\n",
       "      <td>0</td>\n",
       "      <td>1</td>\n",
       "      <td>0</td>\n",
       "      <td>...</td>\n",
       "      <td>0</td>\n",
       "      <td>1</td>\n",
       "      <td>0</td>\n",
       "      <td>0</td>\n",
       "      <td>0</td>\n",
       "      <td>0</td>\n",
       "      <td>0</td>\n",
       "      <td>0</td>\n",
       "      <td>0</td>\n",
       "      <td>26.260602</td>\n",
       "    </tr>\n",
       "    <tr>\n",
       "      <th>16617</th>\n",
       "      <td>-6930898827444486144</td>\n",
       "      <td>0.473363</td>\n",
       "      <td>0.44</td>\n",
       "      <td>0.499670</td>\n",
       "      <td>0.42</td>\n",
       "      <td>0.449463</td>\n",
       "      <td>0</td>\n",
       "      <td>0</td>\n",
       "      <td>0</td>\n",
       "      <td>1</td>\n",
       "      <td>...</td>\n",
       "      <td>0</td>\n",
       "      <td>0</td>\n",
       "      <td>0</td>\n",
       "      <td>0</td>\n",
       "      <td>0</td>\n",
       "      <td>0</td>\n",
       "      <td>0</td>\n",
       "      <td>0</td>\n",
       "      <td>0</td>\n",
       "      <td>26.260602</td>\n",
       "    </tr>\n",
       "    <tr>\n",
       "      <th>16618</th>\n",
       "      <td>-8441533715770769408</td>\n",
       "      <td>0.602414</td>\n",
       "      <td>0.67</td>\n",
       "      <td>0.499670</td>\n",
       "      <td>0.59</td>\n",
       "      <td>0.357780</td>\n",
       "      <td>0</td>\n",
       "      <td>0</td>\n",
       "      <td>1</td>\n",
       "      <td>0</td>\n",
       "      <td>...</td>\n",
       "      <td>0</td>\n",
       "      <td>0</td>\n",
       "      <td>0</td>\n",
       "      <td>0</td>\n",
       "      <td>0</td>\n",
       "      <td>0</td>\n",
       "      <td>0</td>\n",
       "      <td>0</td>\n",
       "      <td>0</td>\n",
       "      <td>26.260602</td>\n",
       "    </tr>\n",
       "    <tr>\n",
       "      <th>16619</th>\n",
       "      <td>8005133933292429824</td>\n",
       "      <td>0.386129</td>\n",
       "      <td>0.73</td>\n",
       "      <td>0.500242</td>\n",
       "      <td>0.88</td>\n",
       "      <td>0.327168</td>\n",
       "      <td>0</td>\n",
       "      <td>0</td>\n",
       "      <td>0</td>\n",
       "      <td>1</td>\n",
       "      <td>...</td>\n",
       "      <td>0</td>\n",
       "      <td>0</td>\n",
       "      <td>0</td>\n",
       "      <td>0</td>\n",
       "      <td>0</td>\n",
       "      <td>0</td>\n",
       "      <td>0</td>\n",
       "      <td>0</td>\n",
       "      <td>0</td>\n",
       "      <td>26.260602</td>\n",
       "    </tr>\n",
       "    <tr>\n",
       "      <th>16620</th>\n",
       "      <td>7092182544955182592</td>\n",
       "      <td>1.000000</td>\n",
       "      <td>0.91</td>\n",
       "      <td>0.499670</td>\n",
       "      <td>0.86</td>\n",
       "      <td>0.380514</td>\n",
       "      <td>0</td>\n",
       "      <td>0</td>\n",
       "      <td>1</td>\n",
       "      <td>0</td>\n",
       "      <td>...</td>\n",
       "      <td>0</td>\n",
       "      <td>0</td>\n",
       "      <td>0</td>\n",
       "      <td>0</td>\n",
       "      <td>0</td>\n",
       "      <td>0</td>\n",
       "      <td>0</td>\n",
       "      <td>0</td>\n",
       "      <td>0</td>\n",
       "      <td>26.260602</td>\n",
       "    </tr>\n",
       "  </tbody>\n",
       "</table>\n",
       "<p>15962 rows × 34 columns</p>\n",
       "</div>"
      ],
      "text/plain": [
       "                      cast  runtime_in_minutes  tomatometer_rating  \\\n",
       "0     -4861322747967869440            0.280768                0.49   \n",
       "1      3521526308947361792            0.373306                0.86   \n",
       "2      7689786742931193856            0.701681                0.68   \n",
       "3      5208448153426067456            0.436503                1.00   \n",
       "4       368275901303695872            0.796020                0.89   \n",
       "...                    ...                 ...                 ...   \n",
       "16616  2184219706384449536            0.373306                0.25   \n",
       "16617 -6930898827444486144            0.473363                0.44   \n",
       "16618 -8441533715770769408            0.602414                0.67   \n",
       "16619  8005133933292429824            0.386129                0.73   \n",
       "16620  7092182544955182592            1.000000                0.91   \n",
       "\n",
       "       tomatometer_count  audience_rating  audience_count  rating__G  \\\n",
       "0               0.327139             0.53        0.788088          0   \n",
       "1               0.303710             0.64        0.471446          0   \n",
       "2               0.499671             0.53        0.492476          0   \n",
       "3               0.506164             0.97        0.687260          0   \n",
       "4               0.499681             0.74        0.642220          1   \n",
       "...                  ...              ...             ...        ...   \n",
       "16616           0.499671             0.61        0.315746          0   \n",
       "16617           0.499670             0.42        0.449463          0   \n",
       "16618           0.499670             0.59        0.357780          0   \n",
       "16619           0.500242             0.88        0.327168          0   \n",
       "16620           0.499670             0.86        0.380514          0   \n",
       "\n",
       "       rating__NC17  rating__NR  rating__PG  ...  Kids& Family  \\\n",
       "0                 0           0           1  ...             0   \n",
       "1                 0           0           0  ...             0   \n",
       "2                 0           0           0  ...             0   \n",
       "3                 0           1           0  ...             0   \n",
       "4                 0           0           0  ...             1   \n",
       "...             ...         ...         ...  ...           ...   \n",
       "16616             0           1           0  ...             0   \n",
       "16617             0           0           1  ...             0   \n",
       "16618             0           1           0  ...             0   \n",
       "16619             0           0           1  ...             0   \n",
       "16620             0           1           0  ...             0   \n",
       "\n",
       "       Musical& PerformingArts  Mystery& Suspense  Romance  \\\n",
       "0                            0                  0        0   \n",
       "1                            0                  0        0   \n",
       "2                            0                  0        1   \n",
       "3                            0                  0        0   \n",
       "4                            0                  0        0   \n",
       "...                        ...                ...      ...   \n",
       "16616                        1                  0        0   \n",
       "16617                        0                  0        0   \n",
       "16618                        0                  0        0   \n",
       "16619                        0                  0        0   \n",
       "16620                        0                  0        0   \n",
       "\n",
       "       ScienceFiction& Fantasy  SpecialInterest  Sports& Fitness  Television  \\\n",
       "0                            1                0                0           0   \n",
       "1                            0                0                0           0   \n",
       "2                            0                0                0           0   \n",
       "3                            0                0                0           0   \n",
       "4                            0                0                0           0   \n",
       "...                        ...              ...              ...         ...   \n",
       "16616                        0                0                0           0   \n",
       "16617                        0                0                0           0   \n",
       "16618                        0                0                0           0   \n",
       "16619                        0                0                0           0   \n",
       "16620                        0                0                0           0   \n",
       "\n",
       "       Western       label  \n",
       "0            0   20.000000  \n",
       "1            0  122.000000  \n",
       "2            0   18.000000  \n",
       "3            0   47.000000  \n",
       "4            0   20.000000  \n",
       "...        ...         ...  \n",
       "16616        0   26.260602  \n",
       "16617        0   26.260602  \n",
       "16618        0   26.260602  \n",
       "16619        0   26.260602  \n",
       "16620        0   26.260602  \n",
       "\n",
       "[15962 rows x 34 columns]"
      ]
     },
     "execution_count": 94,
     "metadata": {},
     "output_type": "execute_result"
    }
   ],
   "source": [
    "data"
   ]
  },
  {
   "cell_type": "code",
   "execution_count": 95,
   "metadata": {},
   "outputs": [
    {
     "data": {
      "text/plain": [
       "count    15962.000000\n",
       "mean        26.046095\n",
       "std         48.291610\n",
       "min       -173.000000\n",
       "25%          3.000000\n",
       "50%         13.000000\n",
       "75%         35.000000\n",
       "max        461.000000\n",
       "Name: label, dtype: float64"
      ]
     },
     "execution_count": 95,
     "metadata": {},
     "output_type": "execute_result"
    }
   ],
   "source": [
    "data['label'].describe()"
   ]
  },
  {
   "cell_type": "code",
   "execution_count": 96,
   "metadata": {},
   "outputs": [
    {
     "data": {
      "text/plain": [
       "26.046095455019035"
      ]
     },
     "execution_count": 96,
     "metadata": {},
     "output_type": "execute_result"
    }
   ],
   "source": [
    "temp=data['label'].mean()\n",
    "temp"
   ]
  },
  {
   "cell_type": "code",
   "execution_count": 97,
   "metadata": {},
   "outputs": [],
   "source": [
    "data['label']=data['label'].apply(lambda x: 1 if x>temp else 0)"
   ]
  },
  {
   "cell_type": "code",
   "execution_count": 98,
   "metadata": {},
   "outputs": [
    {
     "data": {
      "text/plain": [
       "cast                       5159\n",
       "runtime_in_minutes         5159\n",
       "tomatometer_rating         5159\n",
       "tomatometer_count          5159\n",
       "audience_rating            5159\n",
       "audience_count             5159\n",
       "rating__G                  5159\n",
       "rating__NC17               5159\n",
       "rating__NR                 5159\n",
       "rating__PG                 5159\n",
       "rating__PG-13              5159\n",
       "rating__R                  5159\n",
       "Action& Adventure          5159\n",
       "Animation                  5159\n",
       "Anime& Manga               5159\n",
       "ArtHouse& International    5159\n",
       "Classics                   5159\n",
       "Comedy                     5159\n",
       "CultMovies                 5159\n",
       "Documentary                5159\n",
       "Drama                      5159\n",
       "Faith& Spirituality        5159\n",
       "Gay& Lesbian               5159\n",
       "Horror                     5159\n",
       "Kids& Family               5159\n",
       "Musical& PerformingArts    5159\n",
       "Mystery& Suspense          5159\n",
       "Romance                    5159\n",
       "ScienceFiction& Fantasy    5159\n",
       "SpecialInterest            5159\n",
       "Sports& Fitness            5159\n",
       "Television                 5159\n",
       "Western                    5159\n",
       "label                      5159\n",
       "dtype: int64"
      ]
     },
     "execution_count": 98,
     "metadata": {},
     "output_type": "execute_result"
    }
   ],
   "source": [
    "data[data['label']==1].count()"
   ]
  },
  {
   "cell_type": "code",
   "execution_count": 99,
   "metadata": {},
   "outputs": [],
   "source": [
    "X = data.drop('label', axis = 1).values\n",
    "y = data['label'].values.reshape(-1,1)"
   ]
  },
  {
   "cell_type": "code",
   "execution_count": 100,
   "metadata": {},
   "outputs": [
    {
     "data": {
      "text/plain": [
       "(15962, 34)"
      ]
     },
     "execution_count": 100,
     "metadata": {},
     "output_type": "execute_result"
    }
   ],
   "source": [
    "data.shape"
   ]
  },
  {
   "cell_type": "code",
   "execution_count": 101,
   "metadata": {},
   "outputs": [],
   "source": [
    "from sklearn.model_selection import train_test_split\n",
    "X_train, X_test, y_train, y_test = train_test_split(X, y, test_size = 0.25, random_state = 22)\n",
    "sm = SMOTE(random_state=12)\n",
    "X_train, y_train = sm.fit_sample(X_train, y_train)"
   ]
  },
  {
   "cell_type": "code",
   "execution_count": 102,
   "metadata": {},
   "outputs": [
    {
     "data": {
      "text/plain": [
       "(16158, 33)"
      ]
     },
     "execution_count": 102,
     "metadata": {},
     "output_type": "execute_result"
    }
   ],
   "source": [
    "X_train.shape"
   ]
  },
  {
   "cell_type": "markdown",
   "metadata": {},
   "source": [
    "# KNN"
   ]
  },
  {
   "cell_type": "code",
   "execution_count": 103,
   "metadata": {},
   "outputs": [
    {
     "name": "stdout",
     "output_type": "stream",
     "text": [
      "Training set:  0.7616660477781904\n",
      "Test set:  0.5086444500125282\n"
     ]
    }
   ],
   "source": [
    "from sklearn.metrics import accuracy_score\n",
    "from sklearn.neighbors import KNeighborsClassifier\n",
    "classifier_knn = KNeighborsClassifier()\n",
    "classifier_knn = classifier_knn.fit(X_train, y_train.ravel())\n",
    "y_pred_knn_train = classifier_knn.predict(X_train)\n",
    "accuracy_knn_train = accuracy_score(y_train, y_pred_knn_train)\n",
    "print(\"Training set: \", accuracy_knn_train)\n",
    "\n",
    "y_pred_knn_test = classifier_knn.predict(X_test)\n",
    "accuracy_knn_test = accuracy_score(y_test, y_pred_knn_test)\n",
    "print(\"Test set: \", accuracy_knn_test)"
   ]
  },
  {
   "cell_type": "code",
   "execution_count": 104,
   "metadata": {},
   "outputs": [
    {
     "name": "stdout",
     "output_type": "stream",
     "text": [
      "F score:  0.49295688052763803\n"
     ]
    }
   ],
   "source": [
    "from sklearn.metrics import f1_score\n",
    "fscore_knn_test =f1_score(y_test, y_pred_knn_test, average='macro')\n",
    "print(\"F score: \", fscore_knn_test)"
   ]
  },
  {
   "cell_type": "code",
   "execution_count": 105,
   "metadata": {},
   "outputs": [
    {
     "data": {
      "image/png": "[encoded data removed]",
      "text/plain": [
       "<Figure size 432x288 with 2 Axes>"
      ]
     },
     "metadata": {
      "needs_background": "light"
     },
     "output_type": "display_data"
    }
   ],
   "source": [
    "\n",
    "from sklearn.metrics import confusion_matrix\n",
    "sns.heatmap(confusion_matrix(y_test, y_pred_knn_test), annot=True, cmap = 'viridis', fmt='.0f')\n",
    "plt.show()"
   ]
  },
  {
   "cell_type": "markdown",
   "metadata": {},
   "source": [
    "# Naive Bayes"
   ]
  },
  {
   "cell_type": "code",
   "execution_count": 106,
   "metadata": {},
   "outputs": [
    {
     "data": {
      "text/plain": [
       "GaussianNB(priors=None, var_smoothing=1e-09)"
      ]
     },
     "execution_count": 106,
     "metadata": {},
     "output_type": "execute_result"
    }
   ],
   "source": [
    "from sklearn.naive_bayes import GaussianNB\n",
    "classifier_nb = GaussianNB()\n",
    "classifier_nb.fit(X_train, y_train.ravel())"
   ]
  },
  {
   "cell_type": "code",
   "execution_count": 107,
   "metadata": {},
   "outputs": [
    {
     "name": "stdout",
     "output_type": "stream",
     "text": [
      "Training set:  0.5103354375541528\n",
      "Test set:  0.44450012528188426\n"
     ]
    }
   ],
   "source": [
    "y_pred_nb_train = classifier_nb.predict(X_train)\n",
    "accuracy_nb_train = accuracy_score(y_train, y_pred_nb_train)\n",
    "print(\"Training set: \", accuracy_nb_train)\n",
    "\n",
    "y_pred_nb_test = classifier_nb.predict(X_test)\n",
    "accuracy_nb_test = accuracy_score(y_test, y_pred_nb_test)\n",
    "print(\"Test set: \", accuracy_nb_test)"
   ]
  },
  {
   "cell_type": "code",
   "execution_count": 108,
   "metadata": {},
   "outputs": [
    {
     "name": "stdout",
     "output_type": "stream",
     "text": [
      "F score:  0.44399746356609765\n"
     ]
    }
   ],
   "source": [
    "from sklearn.metrics import f1_score\n",
    "fscore_knn_test =f1_score(y_test, y_pred_nb_test, average='macro')\n",
    "print(\"F score: \", fscore_knn_test)"
   ]
  },
  {
   "cell_type": "code",
   "execution_count": 109,
   "metadata": {},
   "outputs": [
    {
     "data": {
      "image/png": "[encoded data removed]",
      "text/plain": [
       "<Figure size 432x288 with 2 Axes>"
      ]
     },
     "metadata": {
      "needs_background": "light"
     },
     "output_type": "display_data"
    }
   ],
   "source": [
    "from sklearn.metrics import confusion_matrix\n",
    "sns.heatmap(confusion_matrix(y_test, y_pred_nb_test), annot=True, cmap = 'viridis', fmt='.0f')\n",
    "plt.show()"
   ]
  },
  {
   "cell_type": "markdown",
   "metadata": {},
   "source": [
    "# Random Forest"
   ]
  },
  {
   "cell_type": "code",
   "execution_count": 110,
   "metadata": {},
   "outputs": [],
   "source": [
    "from sklearn.ensemble import RandomForestClassifier\n",
    "from sklearn.datasets import make_classification\n",
    "clf = RandomForestClassifier()"
   ]
  },
  {
   "cell_type": "code",
   "execution_count": 111,
   "metadata": {},
   "outputs": [
    {
     "data": {
      "text/plain": [
       "RandomForestClassifier(bootstrap=True, ccp_alpha=0.0, class_weight=None,\n",
       "                       criterion='gini', max_depth=None, max_features='auto',\n",
       "                       max_leaf_nodes=None, max_samples=None,\n",
       "                       min_impurity_decrease=0.0, min_impurity_split=None,\n",
       "                       min_samples_leaf=1, min_samples_split=2,\n",
       "                       min_weight_fraction_leaf=0.0, n_estimators=100,\n",
       "                       n_jobs=None, oob_score=False, random_state=None,\n",
       "                       verbose=0, warm_start=False)"
      ]
     },
     "execution_count": 111,
     "metadata": {},
     "output_type": "execute_result"
    }
   ],
   "source": [
    "clf.fit(X_train, y_train.ravel())"
   ]
  },
  {
   "cell_type": "code",
   "execution_count": 112,
   "metadata": {},
   "outputs": [
    {
     "name": "stdout",
     "output_type": "stream",
     "text": [
      "Training set:  1.0\n",
      "Test set:  0.6682535705337008\n"
     ]
    }
   ],
   "source": [
    "y_pred_rf_train = clf.predict(X_train)\n",
    "accuracy_rf_train = accuracy_score(y_train, y_pred_rf_train)\n",
    "print(\"Training set: \", accuracy_rf_train)\n",
    "\n",
    "y_pred_rf_test = clf.predict(X_test)\n",
    "accuracy_rf_test = accuracy_score(y_test, y_pred_rf_test)\n",
    "print(\"Test set: \", accuracy_rf_test)"
   ]
  },
  {
   "cell_type": "code",
   "execution_count": 113,
   "metadata": {},
   "outputs": [
    {
     "name": "stdout",
     "output_type": "stream",
     "text": [
      "F score:  0.5142890864220772\n"
     ]
    }
   ],
   "source": [
    "from sklearn.metrics import f1_score\n",
    "fscore_knn_test =f1_score(y_test, y_pred_rf_test, average='macro')\n",
    "print(\"F score: \", fscore_knn_test)"
   ]
  },
  {
   "cell_type": "code",
   "execution_count": 114,
   "metadata": {},
   "outputs": [
    {
     "data": {
      "image/png": "[encoded data removed]",
      "text/plain": [
       "<Figure size 432x288 with 2 Axes>"
      ]
     },
     "metadata": {
      "needs_background": "light"
     },
     "output_type": "display_data"
    }
   ],
   "source": [
    "from sklearn.metrics import confusion_matrix\n",
    "sns.heatmap(confusion_matrix(y_test, y_pred_rf_test), annot=True, cmap = 'viridis', fmt='.0f')\n",
    "plt.show()\n"
   ]
  },
  {
   "cell_type": "markdown",
   "metadata": {},
   "source": [
    "# Logistic Regression"
   ]
  },
  {
   "cell_type": "code",
   "execution_count": 115,
   "metadata": {},
   "outputs": [],
   "source": [
    "# Fitting Logistic Regression to the Training set\n",
    "from sklearn.preprocessing import StandardScaler\n",
    "from sklearn.pipeline import Pipeline\n",
    "from sklearn.model_selection import GridSearchCV\n",
    "from sklearn.linear_model import LogisticRegression"
   ]
  },
  {
   "cell_type": "code",
   "execution_count": 116,
   "metadata": {},
   "outputs": [
    {
     "data": {
      "text/plain": [
       "LogisticRegression(C=1.0, class_weight=None, dual=False, fit_intercept=True,\n",
       "                   intercept_scaling=1, l1_ratio=None, max_iter=100,\n",
       "                   multi_class='auto', n_jobs=None, penalty='l2',\n",
       "                   random_state=None, solver='lbfgs', tol=0.0001, verbose=0,\n",
       "                   warm_start=False)"
      ]
     },
     "execution_count": 116,
     "metadata": {},
     "output_type": "execute_result"
    }
   ],
   "source": [
    "classifier_lr = LogisticRegression()\n",
    "classifier_lr.fit(X_train, y_train.ravel())"
   ]
  },
  {
   "cell_type": "code",
   "execution_count": 117,
   "metadata": {},
   "outputs": [
    {
     "name": "stdout",
     "output_type": "stream",
     "text": [
      "Training set:  0.5035895531625201\n",
      "Test set:  0.5108995239288399\n"
     ]
    }
   ],
   "source": [
    "y_pred_lr_train = classifier_lr.predict(X_train)\n",
    "accuracy_lr_train = accuracy_score(y_train, y_pred_lr_train)\n",
    "print(\"Training set: \", accuracy_lr_train)\n",
    "\n",
    "y_pred_lr_test = classifier_lr.predict(X_test)\n",
    "accuracy_lr_test = accuracy_score(y_test, y_pred_lr_test)\n",
    "print(\"Test set: \", accuracy_lr_test)"
   ]
  },
  {
   "cell_type": "code",
   "execution_count": 118,
   "metadata": {},
   "outputs": [
    {
     "name": "stdout",
     "output_type": "stream",
     "text": [
      "F score:  0.4889560272030875\n"
     ]
    }
   ],
   "source": [
    "from sklearn.metrics import f1_score\n",
    "fscore_knn_test =f1_score(y_test, y_pred_lr_test, average='macro')\n",
    "print(\"F score: \", fscore_knn_test)"
   ]
  },
  {
   "cell_type": "code",
   "execution_count": 119,
   "metadata": {},
   "outputs": [
    {
     "data": {
      "image/png": "[encoded data removed]",
      "text/plain": [
       "<Figure size 432x288 with 2 Axes>"
      ]
     },
     "metadata": {
      "needs_background": "light"
     },
     "output_type": "display_data"
    }
   ],
   "source": [
    "from sklearn.metrics import confusion_matrix\n",
    "sns.heatmap(confusion_matrix(y_test, y_pred_lr_test), annot=True, cmap = 'viridis', fmt='.0f')\n",
    "plt.show()"
   ]
  },
  {
   "cell_type": "markdown",
   "metadata": {},
   "source": [
    "# SVM"
   ]
  },
  {
   "cell_type": "code",
   "execution_count": 120,
   "metadata": {},
   "outputs": [],
   "source": [
    "from sklearn.svm import SVC\n",
    "classifier_svm = SVC()"
   ]
  },
  {
   "cell_type": "code",
   "execution_count": 121,
   "metadata": {},
   "outputs": [
    {
     "data": {
      "text/plain": [
       "SVC(C=1.0, break_ties=False, cache_size=200, class_weight=None, coef0=0.0,\n",
       "    decision_function_shape='ovr', degree=3, gamma='scale', kernel='rbf',\n",
       "    max_iter=-1, probability=False, random_state=None, shrinking=True,\n",
       "    tol=0.001, verbose=False)"
      ]
     },
     "execution_count": 121,
     "metadata": {},
     "output_type": "execute_result"
    }
   ],
   "source": [
    "classifier_svm.fit(X_train, y_train.ravel())"
   ]
  },
  {
   "cell_type": "code",
   "execution_count": 122,
   "metadata": {},
   "outputs": [
    {
     "name": "stdout",
     "output_type": "stream",
     "text": [
      "Training set:  0.5119445475925238\n",
      "Test set:  0.45001252818842397\n"
     ]
    }
   ],
   "source": [
    "y_pred_svm_train = classifier_svm.predict(X_train)\n",
    "accuracy_svm_train = accuracy_score(y_train, y_pred_svm_train)\n",
    "print(\"Training set: \", accuracy_svm_train)\n",
    "\n",
    "y_pred_svm_test = classifier_svm.predict(X_test)\n",
    "accuracy_svm_test = accuracy_score(y_test, y_pred_svm_test)\n",
    "print(\"Test set: \", accuracy_svm_test)"
   ]
  },
  {
   "cell_type": "code",
   "execution_count": 123,
   "metadata": {},
   "outputs": [
    {
     "name": "stdout",
     "output_type": "stream",
     "text": [
      "F score:  0.4479490715752452\n"
     ]
    }
   ],
   "source": [
    "from sklearn.metrics import f1_score\n",
    "fscore_knn_test =f1_score(y_test, y_pred_svm_test, average='macro')\n",
    "print(\"F score: \", fscore_knn_test)"
   ]
  },
  {
   "cell_type": "code",
   "execution_count": 124,
   "metadata": {},
   "outputs": [
    {
     "data": {
      "image/png": "[encoded data removed]",
      "text/plain": [
       "<Figure size 432x288 with 2 Axes>"
      ]
     },
     "metadata": {
      "needs_background": "light"
     },
     "output_type": "display_data"
    }
   ],
   "source": [
    "from sklearn.metrics import confusion_matrix\n",
    "sns.heatmap(confusion_matrix(y_test, y_pred_svm_test), annot=True, cmap = 'viridis', fmt='.0f')\n",
    "plt.show()"
   ]
  },
  {
   "cell_type": "markdown",
   "metadata": {},
   "source": [
    "# ANN"
   ]
  },
  {
   "cell_type": "code",
   "execution_count": 125,
   "metadata": {},
   "outputs": [],
   "source": [
    "# import keras\n",
    "# from keras.models import Sequential\n",
    "# from keras.layers import Dense"
   ]
  },
  {
   "cell_type": "code",
   "execution_count": 126,
   "metadata": {},
   "outputs": [],
   "source": [
    "# sc_X = StandardScaler()\n",
    "# X_train_scaled = sc_X.fit_transform(X_train)\n",
    "# X_test_scaled = sc_X.fit_transform(X_test)\n",
    "# print(X_train_scaled.shape)\n",
    "# print(X_test_scaled.shape)"
   ]
  },
  {
   "cell_type": "code",
   "execution_count": 127,
   "metadata": {},
   "outputs": [],
   "source": [
    "# from keras.utils import to_categorical\n",
    "# def encode(data):\n",
    "#     print('Shape of data (BEFORE encode): %s' % str(data.shape))\n",
    "#     encoded = to_categorical(data)\n",
    "#     print('Shape of data (AFTER  encode): %s\\n' % str(encoded.shape))\n",
    "#     return encoded"
   ]
  },
  {
   "cell_type": "code",
   "execution_count": 128,
   "metadata": {},
   "outputs": [],
   "source": [
    "# y_train_encoded = encode(y_train)"
   ]
  },
  {
   "cell_type": "code",
   "execution_count": 129,
   "metadata": {},
   "outputs": [],
   "source": [
    "# y_test_encoded = encode(y_test)"
   ]
  },
  {
   "cell_type": "code",
   "execution_count": 130,
   "metadata": {},
   "outputs": [],
   "source": [
    "# y_train_encoded = np.delete(y_train_encoded, [0,4], axis = 1)\n",
    "# y_test_encoded = np.delete(y_test_encoded, [0,4], axis = 1)\n",
    "# print(y_train_encoded[2])\n",
    "# print(y_test_encoded[2])"
   ]
  },
  {
   "cell_type": "code",
   "execution_count": 131,
   "metadata": {},
   "outputs": [],
   "source": [
    "# # Initialising the ANN\n",
    "# classifier = Sequential()\n",
    "\n",
    "# # Adding the input layer and the first hidden layer\n",
    "# classifier.add(Dense(units = 9, kernel_initializer = 'uniform', activation = 'relu'))\n",
    "\n",
    "# # Adding the second hidden layer\n",
    "# classifier.add(Dense(units = 5, kernel_initializer = 'uniform', activation = 'relu'))\n",
    "\n",
    "# # Adding the output layer\n",
    "# classifier.add(Dense(units = 2, kernel_initializer = 'uniform', activation = 'softmax'))\n",
    "\n",
    "# # Compiling the ANN\n",
    "# classifier.compile(optimizer = 'adam', loss = 'sparse_categorical_crossentropy', metrics = ['accuracy'])\n",
    "\n",
    "# # Fitting the ANN to the Training set\n",
    "# history = classifier.fit(X_train_scaled, y_train_encoded, validation_data=(X_test_scaled, y_test_encoded), batch_size = 100, epochs = 1150)"
   ]
  },
  {
   "cell_type": "code",
   "execution_count": 132,
   "metadata": {},
   "outputs": [],
   "source": [
    "# f, axes = plt.subplots(1,2,figsize=(14,4))\n",
    "\n",
    "# axes[0].plot(history.history['loss'])\n",
    "# axes[0].plot(history.history['val_loss'])\n",
    "# axes[0].set_xlabel('Loss', fontsize=14)\n",
    "# axes[0].set_ylabel('Epuch', fontsize=14)\n",
    "# axes[0].yaxis.tick_left()\n",
    "# axes[0].legend(['Train', 'Test'], loc='upper left')\n",
    "\n",
    "# axes[1].plot(history.history.get('acc')[-1]\n",
    "# axes[1].plot(history.history.get('val_acc')[-1]\n",
    "# axes[1].set_xlabel('Accuracy', fontsize=14)\n",
    "# axes[1].set_ylabel('Epoch', fontsize=14)\n",
    "# axes[1].yaxis.set_label_position(\"right\")\n",
    "# axes[1].yaxis.tick_right()\n",
    "# axes[1].legend(['Train', 'Test'], loc='upper left')\n",
    "\n",
    "# plt.show()"
   ]
  },
  {
   "cell_type": "code",
   "execution_count": 133,
   "metadata": {},
   "outputs": [],
   "source": [
    "# print(\"Training set: \", history.history.get('acc')[-1])\n",
    "# print(\"Test set: \", history.history.get('val_acc')[-1])"
   ]
  },
  {
   "cell_type": "markdown",
   "metadata": {},
   "source": [
    "# Cross Validation"
   ]
  },
  {
   "cell_type": "code",
   "execution_count": 134,
   "metadata": {},
   "outputs": [
    {
     "data": {
      "text/plain": [
       "0.5094884488448845"
      ]
     },
     "execution_count": 134,
     "metadata": {},
     "output_type": "execute_result"
    }
   ],
   "source": [
    "from sklearn.model_selection import ShuffleSplit\n",
    "cv = ShuffleSplit(n_splits=5, test_size=0.3, random_state=0)\n",
    "np.mean(cross_val_score(classifier_nb, X_train, y_train.ravel(), cv=cv))"
   ]
  },
  {
   "cell_type": "code",
   "execution_count": 135,
   "metadata": {},
   "outputs": [
    {
     "data": {
      "text/plain": [
       "0.6058580858085808"
      ]
     },
     "execution_count": 135,
     "metadata": {},
     "output_type": "execute_result"
    }
   ],
   "source": [
    "cv = ShuffleSplit(n_splits=5, test_size=0.3, random_state=0)\n",
    "np.mean(cross_val_score(classifier_knn, X_train, y_train.ravel(), cv=cv))\n"
   ]
  },
  {
   "cell_type": "code",
   "execution_count": 136,
   "metadata": {},
   "outputs": [
    {
     "data": {
      "text/plain": [
       "0.7424092409240923"
      ]
     },
     "execution_count": 136,
     "metadata": {},
     "output_type": "execute_result"
    }
   ],
   "source": [
    "cv = ShuffleSplit(n_splits=5, test_size=0.3, random_state=0)\n",
    "np.mean(cross_val_score(clf, X_train, y_train.ravel(), cv=cv))"
   ]
  },
  {
   "cell_type": "code",
   "execution_count": 137,
   "metadata": {},
   "outputs": [
    {
     "data": {
      "text/plain": [
       "0.5051155115511551"
      ]
     },
     "execution_count": 137,
     "metadata": {},
     "output_type": "execute_result"
    }
   ],
   "source": [
    "\n",
    "cv = ShuffleSplit(n_splits=5, test_size=0.3, random_state=0)\n",
    "np.mean(cross_val_score(classifier_lr, X_train, y_train.ravel(), cv=cv))"
   ]
  },
  {
   "cell_type": "code",
   "execution_count": 138,
   "metadata": {},
   "outputs": [
    {
     "data": {
      "text/plain": [
       "0.5051155115511551"
      ]
     },
     "execution_count": 138,
     "metadata": {},
     "output_type": "execute_result"
    }
   ],
   "source": [
    "cv = ShuffleSplit(n_splits=5, test_size=0.3, random_state=0)\n",
    "np.mean(cross_val_score(classifier_lr, X_train, y_train.ravel(), cv=cv))"
   ]
  },
  {
   "cell_type": "code",
   "execution_count": 139,
   "metadata": {},
   "outputs": [
    {
     "data": {
      "text/plain": [
       "0.5051980198019803"
      ]
     },
     "execution_count": 139,
     "metadata": {},
     "output_type": "execute_result"
    }
   ],
   "source": [
    "cv = ShuffleSplit(n_splits=5, test_size=0.3, random_state=0)\n",
    "np.mean(cross_val_score(classifier_svm, X_train, y_train.ravel(), cv=cv))"
   ]
  }
 ],
 "metadata": {
  "kernelspec": {
   "display_name": "Python 3",
   "language": "python",
   "name": "python3"
  },
  "language_info": {
   "codemirror_mode": {
    "name": "ipython",
    "version": 3
   },
   "file_extension": ".py",
   "mimetype": "text/x-python",
   "name": "python",
   "nbconvert_exporter": "python",
   "pygments_lexer": "ipython3",
   "version": "3.7.6"
  }
 },
 "nbformat": 4,
 "nbformat_minor": 4
}
